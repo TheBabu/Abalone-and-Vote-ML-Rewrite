{
 "cells": [
  {
   "cell_type": "markdown",
   "metadata": {},
   "source": [
    "### Import Libraries"
   ]
  },
  {
   "cell_type": "code",
   "execution_count": 1,
   "metadata": {},
   "outputs": [
    {
     "name": "stderr",
     "output_type": "stream",
     "text": [
      "WARNING:root:Limited tf.compat.v2.summary API due to missing TensorBoard installation.\n",
      "WARNING:root:Limited tf.compat.v2.summary API due to missing TensorBoard installation.\n",
      "WARNING:root:Limited tf.compat.v2.summary API due to missing TensorBoard installation.\n",
      "WARNING:root:Limited tf.summary API due to missing TensorBoard installation.\n"
     ]
    }
   ],
   "source": [
    "import tensorflow as tf\n",
    "import numpy as np\n",
    "import pandas as pd\n",
    "import math\n",
    "from matplotlib import pyplot as plt\n",
    "from sklearn.model_selection import train_test_split"
   ]
  },
  {
   "cell_type": "markdown",
   "metadata": {},
   "source": [
    "### Load Data"
   ]
  },
  {
   "cell_type": "code",
   "execution_count": 2,
   "metadata": {},
   "outputs": [
    {
     "data": {
      "text/html": [
       "<div>\n",
       "<style scoped>\n",
       "    .dataframe tbody tr th:only-of-type {\n",
       "        vertical-align: middle;\n",
       "    }\n",
       "\n",
       "    .dataframe tbody tr th {\n",
       "        vertical-align: top;\n",
       "    }\n",
       "\n",
       "    .dataframe thead th {\n",
       "        text-align: right;\n",
       "    }\n",
       "</style>\n",
       "<table border=\"1\" class=\"dataframe\">\n",
       "  <thead>\n",
       "    <tr style=\"text-align: right;\">\n",
       "      <th></th>\n",
       "      <th>length</th>\n",
       "      <th>diameter</th>\n",
       "      <th>height</th>\n",
       "      <th>whole-weight</th>\n",
       "      <th>shucked-weight</th>\n",
       "      <th>viscera-weight</th>\n",
       "      <th>shell-weight</th>\n",
       "      <th>rings</th>\n",
       "      <th>sex_F</th>\n",
       "      <th>sex_I</th>\n",
       "      <th>sex_M</th>\n",
       "    </tr>\n",
       "  </thead>\n",
       "  <tbody>\n",
       "    <tr>\n",
       "      <th>0</th>\n",
       "      <td>0.455</td>\n",
       "      <td>0.365</td>\n",
       "      <td>0.095</td>\n",
       "      <td>0.5140</td>\n",
       "      <td>0.2245</td>\n",
       "      <td>0.1010</td>\n",
       "      <td>0.1500</td>\n",
       "      <td>15</td>\n",
       "      <td>0</td>\n",
       "      <td>0</td>\n",
       "      <td>1</td>\n",
       "    </tr>\n",
       "    <tr>\n",
       "      <th>1</th>\n",
       "      <td>0.350</td>\n",
       "      <td>0.265</td>\n",
       "      <td>0.090</td>\n",
       "      <td>0.2255</td>\n",
       "      <td>0.0995</td>\n",
       "      <td>0.0485</td>\n",
       "      <td>0.0700</td>\n",
       "      <td>7</td>\n",
       "      <td>0</td>\n",
       "      <td>0</td>\n",
       "      <td>1</td>\n",
       "    </tr>\n",
       "    <tr>\n",
       "      <th>2</th>\n",
       "      <td>0.530</td>\n",
       "      <td>0.420</td>\n",
       "      <td>0.135</td>\n",
       "      <td>0.6770</td>\n",
       "      <td>0.2565</td>\n",
       "      <td>0.1415</td>\n",
       "      <td>0.2100</td>\n",
       "      <td>9</td>\n",
       "      <td>1</td>\n",
       "      <td>0</td>\n",
       "      <td>0</td>\n",
       "    </tr>\n",
       "    <tr>\n",
       "      <th>3</th>\n",
       "      <td>0.440</td>\n",
       "      <td>0.365</td>\n",
       "      <td>0.125</td>\n",
       "      <td>0.5160</td>\n",
       "      <td>0.2155</td>\n",
       "      <td>0.1140</td>\n",
       "      <td>0.1550</td>\n",
       "      <td>10</td>\n",
       "      <td>0</td>\n",
       "      <td>0</td>\n",
       "      <td>1</td>\n",
       "    </tr>\n",
       "    <tr>\n",
       "      <th>4</th>\n",
       "      <td>0.330</td>\n",
       "      <td>0.255</td>\n",
       "      <td>0.080</td>\n",
       "      <td>0.2050</td>\n",
       "      <td>0.0895</td>\n",
       "      <td>0.0395</td>\n",
       "      <td>0.0550</td>\n",
       "      <td>7</td>\n",
       "      <td>0</td>\n",
       "      <td>1</td>\n",
       "      <td>0</td>\n",
       "    </tr>\n",
       "    <tr>\n",
       "      <th>...</th>\n",
       "      <td>...</td>\n",
       "      <td>...</td>\n",
       "      <td>...</td>\n",
       "      <td>...</td>\n",
       "      <td>...</td>\n",
       "      <td>...</td>\n",
       "      <td>...</td>\n",
       "      <td>...</td>\n",
       "      <td>...</td>\n",
       "      <td>...</td>\n",
       "      <td>...</td>\n",
       "    </tr>\n",
       "    <tr>\n",
       "      <th>4172</th>\n",
       "      <td>0.565</td>\n",
       "      <td>0.450</td>\n",
       "      <td>0.165</td>\n",
       "      <td>0.8870</td>\n",
       "      <td>0.3700</td>\n",
       "      <td>0.2390</td>\n",
       "      <td>0.2490</td>\n",
       "      <td>11</td>\n",
       "      <td>1</td>\n",
       "      <td>0</td>\n",
       "      <td>0</td>\n",
       "    </tr>\n",
       "    <tr>\n",
       "      <th>4173</th>\n",
       "      <td>0.590</td>\n",
       "      <td>0.440</td>\n",
       "      <td>0.135</td>\n",
       "      <td>0.9660</td>\n",
       "      <td>0.4390</td>\n",
       "      <td>0.2145</td>\n",
       "      <td>0.2605</td>\n",
       "      <td>10</td>\n",
       "      <td>0</td>\n",
       "      <td>0</td>\n",
       "      <td>1</td>\n",
       "    </tr>\n",
       "    <tr>\n",
       "      <th>4174</th>\n",
       "      <td>0.600</td>\n",
       "      <td>0.475</td>\n",
       "      <td>0.205</td>\n",
       "      <td>1.1760</td>\n",
       "      <td>0.5255</td>\n",
       "      <td>0.2875</td>\n",
       "      <td>0.3080</td>\n",
       "      <td>9</td>\n",
       "      <td>0</td>\n",
       "      <td>0</td>\n",
       "      <td>1</td>\n",
       "    </tr>\n",
       "    <tr>\n",
       "      <th>4175</th>\n",
       "      <td>0.625</td>\n",
       "      <td>0.485</td>\n",
       "      <td>0.150</td>\n",
       "      <td>1.0945</td>\n",
       "      <td>0.5310</td>\n",
       "      <td>0.2610</td>\n",
       "      <td>0.2960</td>\n",
       "      <td>10</td>\n",
       "      <td>1</td>\n",
       "      <td>0</td>\n",
       "      <td>0</td>\n",
       "    </tr>\n",
       "    <tr>\n",
       "      <th>4176</th>\n",
       "      <td>0.710</td>\n",
       "      <td>0.555</td>\n",
       "      <td>0.195</td>\n",
       "      <td>1.9485</td>\n",
       "      <td>0.9455</td>\n",
       "      <td>0.3765</td>\n",
       "      <td>0.4950</td>\n",
       "      <td>12</td>\n",
       "      <td>0</td>\n",
       "      <td>0</td>\n",
       "      <td>1</td>\n",
       "    </tr>\n",
       "  </tbody>\n",
       "</table>\n",
       "<p>4177 rows × 11 columns</p>\n",
       "</div>"
      ],
      "text/plain": [
       "      length  diameter  height  whole-weight  shucked-weight  viscera-weight  \\\n",
       "0      0.455     0.365   0.095        0.5140          0.2245          0.1010   \n",
       "1      0.350     0.265   0.090        0.2255          0.0995          0.0485   \n",
       "2      0.530     0.420   0.135        0.6770          0.2565          0.1415   \n",
       "3      0.440     0.365   0.125        0.5160          0.2155          0.1140   \n",
       "4      0.330     0.255   0.080        0.2050          0.0895          0.0395   \n",
       "...      ...       ...     ...           ...             ...             ...   \n",
       "4172   0.565     0.450   0.165        0.8870          0.3700          0.2390   \n",
       "4173   0.590     0.440   0.135        0.9660          0.4390          0.2145   \n",
       "4174   0.600     0.475   0.205        1.1760          0.5255          0.2875   \n",
       "4175   0.625     0.485   0.150        1.0945          0.5310          0.2610   \n",
       "4176   0.710     0.555   0.195        1.9485          0.9455          0.3765   \n",
       "\n",
       "      shell-weight  rings  sex_F  sex_I  sex_M  \n",
       "0           0.1500     15      0      0      1  \n",
       "1           0.0700      7      0      0      1  \n",
       "2           0.2100      9      1      0      0  \n",
       "3           0.1550     10      0      0      1  \n",
       "4           0.0550      7      0      1      0  \n",
       "...            ...    ...    ...    ...    ...  \n",
       "4172        0.2490     11      1      0      0  \n",
       "4173        0.2605     10      0      0      1  \n",
       "4174        0.3080      9      0      0      1  \n",
       "4175        0.2960     10      1      0      0  \n",
       "4176        0.4950     12      0      0      1  \n",
       "\n",
       "[4177 rows x 11 columns]"
      ]
     },
     "execution_count": 2,
     "metadata": {},
     "output_type": "execute_result"
    }
   ],
   "source": [
    "dataframe = pd.read_csv(\"abalone.csv\")\n",
    "dataframe.dropna() #Removes Missing Values\n",
    "dataframe = pd.get_dummies(dataframe, columns=[\"sex\"]) #One hot encode \"sex\" label\n",
    "dataframe"
   ]
  },
  {
   "cell_type": "code",
   "execution_count": 3,
   "metadata": {},
   "outputs": [],
   "source": [
    "#Convert Dataframe to Dataset\n",
    "def df_to_ds(dataframe, selected_features, selected_targets, batch_size=32):\n",
    "    features = dataframe[selected_features]\n",
    "    targets = dataframe[selected_targets]\n",
    "    ds = tf.data.Dataset.from_tensor_slices((dict(features), np.array(targets)))\n",
    "    ds = ds.batch(batch_size)\n",
    "    return ds"
   ]
  },
  {
   "cell_type": "code",
   "execution_count": 4,
   "metadata": {},
   "outputs": [],
   "source": [
    "#Selected Features and Target\n",
    "selected_features = [\n",
    "    \"length\",\n",
    "    \"diameter\",\n",
    "    \"height\",\n",
    "    \"whole-weight\",\n",
    "    \"rings\"]\n",
    "\n",
    "selected_targets = [\"sex_M\", \"sex_F\", \"sex_I\"]\n",
    "\n",
    "#Feature Columns\n",
    "feature_columns = [\n",
    "    tf.feature_column.numeric_column(\"length\"),\n",
    "    tf.feature_column.numeric_column(\"diameter\"),\n",
    "    tf.feature_column.numeric_column(\"height\"),\n",
    "    tf.feature_column.numeric_column(\"rings\")\n",
    "]\n",
    "\n",
    "#Create Tensorflow Datasets\n",
    "train_per = 0.6\n",
    "validation_per = 0.3\n",
    "test_per = 0.1\n",
    "batch_size = 32\n",
    "\n",
    "train_dataframe, test_dataframe = train_test_split(dataframe, test_size=test_per)\n",
    "train_dataframe, validation_dataframe = train_test_split(train_dataframe, test_size=validation_per / (1 - test_per))\n",
    "\n",
    "train_dataset = df_to_ds(\n",
    "    train_dataframe,\n",
    "    selected_features,\n",
    "    selected_targets,\n",
    "    batch_size=batch_size)\n",
    "validation_dataset = df_to_ds(\n",
    "    validation_dataframe,\n",
    "    selected_features,\n",
    "    selected_targets,\n",
    "    batch_size=batch_size)\n",
    "test_dataset = df_to_ds(\n",
    "    test_dataframe,\n",
    "    selected_features,\n",
    "    selected_targets,\n",
    "    batch_size=batch_size)"
   ]
  },
  {
   "cell_type": "markdown",
   "metadata": {},
   "source": [
    "### Create Models"
   ]
  },
  {
   "cell_type": "code",
   "execution_count": 5,
   "metadata": {},
   "outputs": [],
   "source": [
    "linear_model = tf.keras.models.Sequential([\n",
    "    tf.keras.layers.DenseFeatures(feature_columns),\n",
    "    tf.keras.layers.Dense(3, kernel_regularizer=tf.keras.regularizers.l2(0.01), bias_regularizer=tf.keras.regularizers.l2(0.01)),\n",
    "])\n",
    "\n",
    "linear_model.compile(\n",
    "    optimizer=\"adam\",\n",
    "    loss=tf.keras.losses.CategoricalCrossentropy(from_logits=True),\n",
    "    metrics=[\"accuracy\"])"
   ]
  },
  {
   "cell_type": "code",
   "execution_count": 6,
   "metadata": {},
   "outputs": [],
   "source": [
    "nn_model = tf.keras.models.Sequential([\n",
    "    tf.keras.layers.DenseFeatures(feature_columns),\n",
    "    tf.keras.layers.Dense(10, activation=tf.nn.leaky_relu, kernel_regularizer=tf.keras.regularizers.l2(0.01), bias_regularizer=tf.keras.regularizers.l2(0.01)),\n",
    "    tf.keras.layers.Dense(5, activation=tf.nn.leaky_relu, kernel_regularizer=tf.keras.regularizers.l2(0.01), bias_regularizer=tf.keras.regularizers.l2(0.01)),\n",
    "    tf.keras.layers.Dense(3),\n",
    "])\n",
    "\n",
    "nn_model.compile(\n",
    "    optimizer=\"adam\",\n",
    "    loss=tf.keras.losses.CategoricalCrossentropy(from_logits=True),\n",
    "    metrics=[\"accuracy\"])"
   ]
  },
  {
   "cell_type": "markdown",
   "metadata": {},
   "source": [
    "### Train Models"
   ]
  },
  {
   "cell_type": "code",
   "execution_count": 7,
   "metadata": {},
   "outputs": [],
   "source": [
    "def plot_loss(model):\n",
    "    plt.ylabel(\"Loss\")\n",
    "    plt.xlabel(\"Epochs\")\n",
    "    plt.tight_layout()\n",
    "    plt.plot(model.history.history[\"loss\"], label=\"loss\")\n",
    "    if(\"val_loss\" in model.history.history.keys()):\n",
    "        plt.plot(model.history.history[\"val_loss\"], label=\"val_loss\")\n",
    "    plt.legend()\n",
    "    plt.show()"
   ]
  },
  {
   "cell_type": "code",
   "execution_count": 8,
   "metadata": {},
   "outputs": [],
   "source": [
    "def plot_accuracy(model):\n",
    "    plt.ylabel(\"Accuracy\")\n",
    "    plt.xlabel(\"Epochs\")\n",
    "    plt.tight_layout()\n",
    "    plt.plot(model.history.history[\"accuracy\"], label=\"accuracy\")\n",
    "    if(\"val_accuracy\" in model.history.history.keys()):\n",
    "        plt.plot(model.history.history[\"val_accuracy\"], label=\"val_accuracy\")\n",
    "    plt.legend()\n",
    "    plt.show()"
   ]
  },
  {
   "cell_type": "code",
   "execution_count": 9,
   "metadata": {
    "scrolled": false
   },
   "outputs": [
    {
     "name": "stdout",
     "output_type": "stream",
     "text": [
      "Epoch 1/30\n",
      "WARNING:tensorflow:Layer dense_features is casting an input tensor from dtype float64 to the layer's dtype of float32, which is new behavior in TensorFlow 2.  The layer has dtype float32 because it's dtype defaults to floatx.\n",
      "\n",
      "If you intended to run this layer in float32, you can safely ignore this warning. If in doubt, this warning is likely only an issue if you are porting a TensorFlow 1.X model to TensorFlow 2.\n",
      "\n",
      "To change all layers to have dtype float64 by default, call `tf.keras.backend.set_floatx('float64')`. To change just this layer, pass dtype='float64' to the layer constructor. If you are the author of this layer, you can disable autocasting by passing autocast=False to the base Layer constructor.\n",
      "\n"
     ]
    },
    {
     "name": "stderr",
     "output_type": "stream",
     "text": [
      "WARNING:tensorflow:Layer dense_features is casting an input tensor from dtype float64 to the layer's dtype of float32, which is new behavior in TensorFlow 2.  The layer has dtype float32 because it's dtype defaults to floatx.\n",
      "\n",
      "If you intended to run this layer in float32, you can safely ignore this warning. If in doubt, this warning is likely only an issue if you are porting a TensorFlow 1.X model to TensorFlow 2.\n",
      "\n",
      "To change all layers to have dtype float64 by default, call `tf.keras.backend.set_floatx('float64')`. To change just this layer, pass dtype='float64' to the layer constructor. If you are the author of this layer, you can disable autocasting by passing autocast=False to the base Layer constructor.\n",
      "\n"
     ]
    },
    {
     "name": "stdout",
     "output_type": "stream",
     "text": [
      "79/79 - 2s - loss: 8.9452 - accuracy: 0.3109 - val_loss: 8.2646 - val_accuracy: 0.3304\n",
      "Epoch 2/30\n",
      "79/79 - 1s - loss: 7.7251 - accuracy: 0.3109 - val_loss: 7.0676 - val_accuracy: 0.3304\n",
      "Epoch 3/30\n",
      "79/79 - 1s - loss: 6.5104 - accuracy: 0.3109 - val_loss: 5.8766 - val_accuracy: 0.3304\n",
      "Epoch 4/30\n",
      "79/79 - 1s - loss: 5.3044 - accuracy: 0.3109 - val_loss: 4.6983 - val_accuracy: 0.3304\n",
      "Epoch 5/30\n",
      "79/79 - 1s - loss: 4.1222 - accuracy: 0.3109 - val_loss: 3.5599 - val_accuracy: 0.3304\n",
      "Epoch 6/30\n",
      "79/79 - 1s - loss: 3.0196 - accuracy: 0.3109 - val_loss: 2.5557 - val_accuracy: 0.3312\n",
      "Epoch 7/30\n",
      "79/79 - 1s - loss: 2.1434 - accuracy: 0.3117 - val_loss: 1.8666 - val_accuracy: 0.3288\n",
      "Epoch 8/30\n",
      "79/79 - 1s - loss: 1.6228 - accuracy: 0.3312 - val_loss: 1.5043 - val_accuracy: 0.3272\n",
      "Epoch 9/30\n",
      "79/79 - 1s - loss: 1.3528 - accuracy: 0.3484 - val_loss: 1.3018 - val_accuracy: 0.3352\n",
      "Epoch 10/30\n",
      "79/79 - 1s - loss: 1.2075 - accuracy: 0.3747 - val_loss: 1.1979 - val_accuracy: 0.3312\n",
      "Epoch 11/30\n",
      "79/79 - 1s - loss: 1.1459 - accuracy: 0.3743 - val_loss: 1.1610 - val_accuracy: 0.3392\n",
      "Epoch 12/30\n",
      "79/79 - 1s - loss: 1.1275 - accuracy: 0.3755 - val_loss: 1.1501 - val_accuracy: 0.3464\n",
      "Epoch 13/30\n",
      "79/79 - 1s - loss: 1.1215 - accuracy: 0.3823 - val_loss: 1.1450 - val_accuracy: 0.3543\n",
      "Epoch 14/30\n",
      "79/79 - 1s - loss: 1.1176 - accuracy: 0.3879 - val_loss: 1.1407 - val_accuracy: 0.3543\n",
      "Epoch 15/30\n",
      "79/79 - 1s - loss: 1.1138 - accuracy: 0.3879 - val_loss: 1.1365 - val_accuracy: 0.3536\n",
      "Epoch 16/30\n",
      "79/79 - 1s - loss: 1.1100 - accuracy: 0.3895 - val_loss: 1.1323 - val_accuracy: 0.3567\n",
      "Epoch 17/30\n",
      "79/79 - 1s - loss: 1.1062 - accuracy: 0.3919 - val_loss: 1.1282 - val_accuracy: 0.3615\n",
      "Epoch 18/30\n",
      "79/79 - 1s - loss: 1.1024 - accuracy: 0.3974 - val_loss: 1.1240 - val_accuracy: 0.3671\n",
      "Epoch 19/30\n",
      "79/79 - 1s - loss: 1.0987 - accuracy: 0.4042 - val_loss: 1.1199 - val_accuracy: 0.3679\n",
      "Epoch 20/30\n",
      "79/79 - 1s - loss: 1.0950 - accuracy: 0.4066 - val_loss: 1.1158 - val_accuracy: 0.3679\n",
      "Epoch 21/30\n",
      "79/79 - 1s - loss: 1.0914 - accuracy: 0.4066 - val_loss: 1.1118 - val_accuracy: 0.3663\n",
      "Epoch 22/30\n",
      "79/79 - 1s - loss: 1.0879 - accuracy: 0.4078 - val_loss: 1.1079 - val_accuracy: 0.3703\n",
      "Epoch 23/30\n",
      "79/79 - 1s - loss: 1.0844 - accuracy: 0.4118 - val_loss: 1.1041 - val_accuracy: 0.3863\n",
      "Epoch 24/30\n",
      "79/79 - 1s - loss: 1.0811 - accuracy: 0.4170 - val_loss: 1.1004 - val_accuracy: 0.4038\n",
      "Epoch 25/30\n",
      "79/79 - 1s - loss: 1.0778 - accuracy: 0.4222 - val_loss: 1.0968 - val_accuracy: 0.4110\n",
      "Epoch 26/30\n",
      "79/79 - 1s - loss: 1.0747 - accuracy: 0.4262 - val_loss: 1.0932 - val_accuracy: 0.4118\n",
      "Epoch 27/30\n",
      "79/79 - 1s - loss: 1.0717 - accuracy: 0.4322 - val_loss: 1.0898 - val_accuracy: 0.4118\n",
      "Epoch 28/30\n",
      "79/79 - 1s - loss: 1.0687 - accuracy: 0.4413 - val_loss: 1.0865 - val_accuracy: 0.4134\n",
      "Epoch 29/30\n",
      "79/79 - 1s - loss: 1.0659 - accuracy: 0.4489 - val_loss: 1.0833 - val_accuracy: 0.4142\n",
      "Epoch 30/30\n",
      "79/79 - 1s - loss: 1.0632 - accuracy: 0.4489 - val_loss: 1.0803 - val_accuracy: 0.4142\n"
     ]
    },
    {
     "data": {
      "image/png": "[encoded data removed]",
      "text/plain": [
       "<Figure size 432x288 with 1 Axes>"
      ]
     },
     "metadata": {
      "needs_background": "light"
     },
     "output_type": "display_data"
    },
    {
     "data": {
      "image/png": "[encoded data removed]",
      "text/plain": [
       "<Figure size 432x288 with 1 Axes>"
      ]
     },
     "metadata": {
      "needs_background": "light"
     },
     "output_type": "display_data"
    }
   ],
   "source": [
    "linear_model.fit(train_dataset, validation_data=validation_dataset, epochs=30, verbose=2)\n",
    "\n",
    "plot_loss(linear_model)\n",
    "plot_accuracy(linear_model)"
   ]
  },
  {
   "cell_type": "code",
   "execution_count": 10,
   "metadata": {
    "scrolled": false
   },
   "outputs": [
    {
     "name": "stdout",
     "output_type": "stream",
     "text": [
      "Epoch 1/30\n",
      "WARNING:tensorflow:Layer dense_features_1 is casting an input tensor from dtype float64 to the layer's dtype of float32, which is new behavior in TensorFlow 2.  The layer has dtype float32 because it's dtype defaults to floatx.\n",
      "\n",
      "If you intended to run this layer in float32, you can safely ignore this warning. If in doubt, this warning is likely only an issue if you are porting a TensorFlow 1.X model to TensorFlow 2.\n",
      "\n",
      "To change all layers to have dtype float64 by default, call `tf.keras.backend.set_floatx('float64')`. To change just this layer, pass dtype='float64' to the layer constructor. If you are the author of this layer, you can disable autocasting by passing autocast=False to the base Layer constructor.\n",
      "\n"
     ]
    },
    {
     "name": "stderr",
     "output_type": "stream",
     "text": [
      "WARNING:tensorflow:Layer dense_features_1 is casting an input tensor from dtype float64 to the layer's dtype of float32, which is new behavior in TensorFlow 2.  The layer has dtype float32 because it's dtype defaults to floatx.\n",
      "\n",
      "If you intended to run this layer in float32, you can safely ignore this warning. If in doubt, this warning is likely only an issue if you are porting a TensorFlow 1.X model to TensorFlow 2.\n",
      "\n",
      "To change all layers to have dtype float64 by default, call `tf.keras.backend.set_floatx('float64')`. To change just this layer, pass dtype='float64' to the layer constructor. If you are the author of this layer, you can disable autocasting by passing autocast=False to the base Layer constructor.\n",
      "\n"
     ]
    },
    {
     "name": "stdout",
     "output_type": "stream",
     "text": [
      "79/79 - 2s - loss: 1.2220 - accuracy: 0.3747 - val_loss: 1.1807 - val_accuracy: 0.3400\n",
      "Epoch 2/30\n",
      "79/79 - 1s - loss: 1.1662 - accuracy: 0.3735 - val_loss: 1.1601 - val_accuracy: 0.3432\n",
      "Epoch 3/30\n",
      "79/79 - 1s - loss: 1.1471 - accuracy: 0.3767 - val_loss: 1.1431 - val_accuracy: 0.3472\n",
      "Epoch 4/30\n",
      "79/79 - 1s - loss: 1.1316 - accuracy: 0.3815 - val_loss: 1.1293 - val_accuracy: 0.3559\n",
      "Epoch 5/30\n",
      "79/79 - 1s - loss: 1.1190 - accuracy: 0.3879 - val_loss: 1.1180 - val_accuracy: 0.3559\n",
      "Epoch 6/30\n",
      "79/79 - 1s - loss: 1.1086 - accuracy: 0.3931 - val_loss: 1.1086 - val_accuracy: 0.3735\n",
      "Epoch 7/30\n",
      "79/79 - 1s - loss: 1.0998 - accuracy: 0.4006 - val_loss: 1.1006 - val_accuracy: 0.3735\n",
      "Epoch 8/30\n",
      "79/79 - 1s - loss: 1.0924 - accuracy: 0.4094 - val_loss: 1.0940 - val_accuracy: 0.3735\n",
      "Epoch 9/30\n",
      "79/79 - 1s - loss: 1.0861 - accuracy: 0.4174 - val_loss: 1.0883 - val_accuracy: 0.4190\n",
      "Epoch 10/30\n",
      "79/79 - 1s - loss: 1.0806 - accuracy: 0.4310 - val_loss: 1.0833 - val_accuracy: 0.4190\n",
      "Epoch 11/30\n",
      "79/79 - 1s - loss: 1.0757 - accuracy: 0.4377 - val_loss: 1.0788 - val_accuracy: 0.4198\n",
      "Epoch 12/30\n",
      "79/79 - 1s - loss: 1.0713 - accuracy: 0.4497 - val_loss: 1.0747 - val_accuracy: 0.4206\n",
      "Epoch 13/30\n",
      "79/79 - 1s - loss: 1.0672 - accuracy: 0.4553 - val_loss: 1.0709 - val_accuracy: 0.4206\n",
      "Epoch 14/30\n",
      "79/79 - 1s - loss: 1.0635 - accuracy: 0.4617 - val_loss: 1.0674 - val_accuracy: 0.4725\n",
      "Epoch 15/30\n",
      "79/79 - 1s - loss: 1.0599 - accuracy: 0.4685 - val_loss: 1.0641 - val_accuracy: 0.4717\n",
      "Epoch 16/30\n",
      "79/79 - 1s - loss: 1.0566 - accuracy: 0.4709 - val_loss: 1.0610 - val_accuracy: 0.4717\n",
      "Epoch 17/30\n",
      "79/79 - 1s - loss: 1.0534 - accuracy: 0.4721 - val_loss: 1.0580 - val_accuracy: 0.4725\n",
      "Epoch 18/30\n",
      "79/79 - 1s - loss: 1.0504 - accuracy: 0.4812 - val_loss: 1.0551 - val_accuracy: 0.4725\n",
      "Epoch 19/30\n",
      "79/79 - 1s - loss: 1.0475 - accuracy: 0.4832 - val_loss: 1.0524 - val_accuracy: 0.4725\n",
      "Epoch 20/30\n",
      "79/79 - 1s - loss: 1.0446 - accuracy: 0.4944 - val_loss: 1.0498 - val_accuracy: 0.4709\n",
      "Epoch 21/30\n",
      "79/79 - 1s - loss: 1.0419 - accuracy: 0.4956 - val_loss: 1.0473 - val_accuracy: 0.4709\n",
      "Epoch 22/30\n",
      "79/79 - 1s - loss: 1.0393 - accuracy: 0.4980 - val_loss: 1.0448 - val_accuracy: 0.5100\n",
      "Epoch 23/30\n",
      "79/79 - 1s - loss: 1.0368 - accuracy: 0.5004 - val_loss: 1.0425 - val_accuracy: 0.5044\n",
      "Epoch 24/30\n",
      "79/79 - 1s - loss: 1.0344 - accuracy: 0.5012 - val_loss: 1.0402 - val_accuracy: 0.5044\n",
      "Epoch 25/30\n",
      "79/79 - 1s - loss: 1.0320 - accuracy: 0.5028 - val_loss: 1.0381 - val_accuracy: 0.5044\n",
      "Epoch 26/30\n",
      "79/79 - 1s - loss: 1.0297 - accuracy: 0.5024 - val_loss: 1.0360 - val_accuracy: 0.5044\n",
      "Epoch 27/30\n",
      "79/79 - 1s - loss: 1.0275 - accuracy: 0.5028 - val_loss: 1.0339 - val_accuracy: 0.5028\n",
      "Epoch 28/30\n",
      "79/79 - 1s - loss: 1.0254 - accuracy: 0.5032 - val_loss: 1.0320 - val_accuracy: 0.4988\n",
      "Epoch 29/30\n",
      "79/79 - 1s - loss: 1.0233 - accuracy: 0.5028 - val_loss: 1.0301 - val_accuracy: 0.4988\n",
      "Epoch 30/30\n",
      "79/79 - 1s - loss: 1.0214 - accuracy: 0.5032 - val_loss: 1.0283 - val_accuracy: 0.4988\n"
     ]
    },
    {
     "data": {
      "image/png": "[encoded data removed]",
      "text/plain": [
       "<Figure size 432x288 with 1 Axes>"
      ]
     },
     "metadata": {
      "needs_background": "light"
     },
     "output_type": "display_data"
    },
    {
     "data": {
      "image/png": "[encoded data removed]",
      "text/plain": [
       "<Figure size 432x288 with 1 Axes>"
      ]
     },
     "metadata": {
      "needs_background": "light"
     },
     "output_type": "display_data"
    }
   ],
   "source": [
    "nn_model.fit(train_dataset, validation_data=validation_dataset, epochs=30, verbose=2)\n",
    "\n",
    "plot_loss(nn_model)\n",
    "plot_accuracy(nn_model)"
   ]
  },
  {
   "cell_type": "markdown",
   "metadata": {},
   "source": [
    "### Evaluation"
   ]
  },
  {
   "cell_type": "code",
   "execution_count": 11,
   "metadata": {},
   "outputs": [
    {
     "name": "stdout",
     "output_type": "stream",
     "text": [
      "14/14 [==============================] - 0s 8ms/step - loss: 1.0486 - accuracy: 0.4569\n"
     ]
    },
    {
     "data": {
      "text/plain": [
       "[1.0485764741897583, 0.4569377899169922]"
      ]
     },
     "execution_count": 11,
     "metadata": {},
     "output_type": "execute_result"
    }
   ],
   "source": [
    "linear_model.evaluate(test_dataset)"
   ]
  },
  {
   "cell_type": "code",
   "execution_count": 12,
   "metadata": {},
   "outputs": [
    {
     "name": "stdout",
     "output_type": "stream",
     "text": [
      "14/14 [==============================] - 0s 13ms/step - loss: 1.0086 - accuracy: 0.5502\n"
     ]
    },
    {
     "data": {
      "text/plain": [
       "[1.0086294412612915, 0.5502392053604126]"
      ]
     },
     "execution_count": 12,
     "metadata": {},
     "output_type": "execute_result"
    }
   ],
   "source": [
    "nn_model.evaluate(test_dataset)"
   ]
  },
  {
   "cell_type": "markdown",
   "metadata": {},
   "source": [
    "### Predictions"
   ]
  },
  {
   "cell_type": "code",
   "execution_count": 13,
   "metadata": {},
   "outputs": [],
   "source": [
    "labels = test_dataframe[selected_targets].reset_index(drop=True)"
   ]
  },
  {
   "cell_type": "code",
   "execution_count": 14,
   "metadata": {},
   "outputs": [
    {
     "data": {
      "text/html": [
       "<div>\n",
       "<style scoped>\n",
       "    .dataframe tbody tr th:only-of-type {\n",
       "        vertical-align: middle;\n",
       "    }\n",
       "\n",
       "    .dataframe tbody tr th {\n",
       "        vertical-align: top;\n",
       "    }\n",
       "\n",
       "    .dataframe thead th {\n",
       "        text-align: right;\n",
       "    }\n",
       "</style>\n",
       "<table border=\"1\" class=\"dataframe\">\n",
       "  <thead>\n",
       "    <tr style=\"text-align: right;\">\n",
       "      <th></th>\n",
       "      <th>probability_M</th>\n",
       "      <th>probability_F</th>\n",
       "      <th>probability_I</th>\n",
       "      <th>label_M</th>\n",
       "      <th>label_F</th>\n",
       "      <th>label_I</th>\n",
       "      <th>correct</th>\n",
       "    </tr>\n",
       "  </thead>\n",
       "  <tbody>\n",
       "    <tr>\n",
       "      <th>0</th>\n",
       "      <td>0.399825</td>\n",
       "      <td>0.299008</td>\n",
       "      <td>0.301167</td>\n",
       "      <td>0</td>\n",
       "      <td>0</td>\n",
       "      <td>1</td>\n",
       "      <td>False</td>\n",
       "    </tr>\n",
       "    <tr>\n",
       "      <th>1</th>\n",
       "      <td>0.352900</td>\n",
       "      <td>0.212840</td>\n",
       "      <td>0.434260</td>\n",
       "      <td>0</td>\n",
       "      <td>0</td>\n",
       "      <td>1</td>\n",
       "      <td>True</td>\n",
       "    </tr>\n",
       "    <tr>\n",
       "      <th>2</th>\n",
       "      <td>0.386883</td>\n",
       "      <td>0.358637</td>\n",
       "      <td>0.254481</td>\n",
       "      <td>0</td>\n",
       "      <td>1</td>\n",
       "      <td>0</td>\n",
       "      <td>False</td>\n",
       "    </tr>\n",
       "    <tr>\n",
       "      <th>3</th>\n",
       "      <td>0.410784</td>\n",
       "      <td>0.276764</td>\n",
       "      <td>0.312453</td>\n",
       "      <td>0</td>\n",
       "      <td>0</td>\n",
       "      <td>1</td>\n",
       "      <td>False</td>\n",
       "    </tr>\n",
       "    <tr>\n",
       "      <th>4</th>\n",
       "      <td>0.381329</td>\n",
       "      <td>0.201578</td>\n",
       "      <td>0.417093</td>\n",
       "      <td>0</td>\n",
       "      <td>0</td>\n",
       "      <td>1</td>\n",
       "      <td>True</td>\n",
       "    </tr>\n",
       "    <tr>\n",
       "      <th>...</th>\n",
       "      <td>...</td>\n",
       "      <td>...</td>\n",
       "      <td>...</td>\n",
       "      <td>...</td>\n",
       "      <td>...</td>\n",
       "      <td>...</td>\n",
       "      <td>...</td>\n",
       "    </tr>\n",
       "    <tr>\n",
       "      <th>413</th>\n",
       "      <td>0.380548</td>\n",
       "      <td>0.253456</td>\n",
       "      <td>0.365995</td>\n",
       "      <td>0</td>\n",
       "      <td>0</td>\n",
       "      <td>1</td>\n",
       "      <td>False</td>\n",
       "    </tr>\n",
       "    <tr>\n",
       "      <th>414</th>\n",
       "      <td>0.413533</td>\n",
       "      <td>0.232380</td>\n",
       "      <td>0.354087</td>\n",
       "      <td>1</td>\n",
       "      <td>0</td>\n",
       "      <td>0</td>\n",
       "      <td>True</td>\n",
       "    </tr>\n",
       "    <tr>\n",
       "      <th>415</th>\n",
       "      <td>0.417010</td>\n",
       "      <td>0.266980</td>\n",
       "      <td>0.316009</td>\n",
       "      <td>0</td>\n",
       "      <td>1</td>\n",
       "      <td>0</td>\n",
       "      <td>False</td>\n",
       "    </tr>\n",
       "    <tr>\n",
       "      <th>416</th>\n",
       "      <td>0.421828</td>\n",
       "      <td>0.295635</td>\n",
       "      <td>0.282537</td>\n",
       "      <td>1</td>\n",
       "      <td>0</td>\n",
       "      <td>0</td>\n",
       "      <td>True</td>\n",
       "    </tr>\n",
       "    <tr>\n",
       "      <th>417</th>\n",
       "      <td>0.407563</td>\n",
       "      <td>0.353163</td>\n",
       "      <td>0.239274</td>\n",
       "      <td>0</td>\n",
       "      <td>0</td>\n",
       "      <td>1</td>\n",
       "      <td>False</td>\n",
       "    </tr>\n",
       "  </tbody>\n",
       "</table>\n",
       "<p>418 rows × 7 columns</p>\n",
       "</div>"
      ],
      "text/plain": [
       "     probability_M  probability_F  probability_I  label_M  label_F  label_I  \\\n",
       "0         0.399825       0.299008       0.301167        0        0        1   \n",
       "1         0.352900       0.212840       0.434260        0        0        1   \n",
       "2         0.386883       0.358637       0.254481        0        1        0   \n",
       "3         0.410784       0.276764       0.312453        0        0        1   \n",
       "4         0.381329       0.201578       0.417093        0        0        1   \n",
       "..             ...            ...            ...      ...      ...      ...   \n",
       "413       0.380548       0.253456       0.365995        0        0        1   \n",
       "414       0.413533       0.232380       0.354087        1        0        0   \n",
       "415       0.417010       0.266980       0.316009        0        1        0   \n",
       "416       0.421828       0.295635       0.282537        1        0        0   \n",
       "417       0.407563       0.353163       0.239274        0        0        1   \n",
       "\n",
       "     correct  \n",
       "0      False  \n",
       "1       True  \n",
       "2      False  \n",
       "3      False  \n",
       "4       True  \n",
       "..       ...  \n",
       "413    False  \n",
       "414     True  \n",
       "415    False  \n",
       "416     True  \n",
       "417    False  \n",
       "\n",
       "[418 rows x 7 columns]"
      ]
     },
     "execution_count": 14,
     "metadata": {},
     "output_type": "execute_result"
    }
   ],
   "source": [
    "linear_predictions = pd.DataFrame(tf.nn.softmax(linear_model.predict(test_dataset)).numpy()).join(labels)\n",
    "linear_predictions.columns = [\"probability_M\", \"probability_F\", \"probability_I\", \"label_M\", \"label_F\", \"label_I\"]\n",
    "\n",
    "linear_prediction_values = linear_predictions[list(linear_predictions.columns[0:3])].idxmax(axis=1).apply(lambda x : linear_predictions.columns.get_loc(x) + 3)\n",
    "linear_label_values = linear_predictions[list(linear_predictions.columns[3:6])].idxmax(axis=1).apply(lambda x : linear_predictions.columns.get_loc(x))\n",
    "\n",
    "linear_predictions[\"correct\"] = linear_prediction_values.combine(linear_label_values, lambda x, y : x == y)\n",
    "\n",
    "linear_predictions"
   ]
  },
  {
   "cell_type": "code",
   "execution_count": 15,
   "metadata": {},
   "outputs": [
    {
     "data": {
      "text/html": [
       "<div>\n",
       "<style scoped>\n",
       "    .dataframe tbody tr th:only-of-type {\n",
       "        vertical-align: middle;\n",
       "    }\n",
       "\n",
       "    .dataframe tbody tr th {\n",
       "        vertical-align: top;\n",
       "    }\n",
       "\n",
       "    .dataframe thead th {\n",
       "        text-align: right;\n",
       "    }\n",
       "</style>\n",
       "<table border=\"1\" class=\"dataframe\">\n",
       "  <thead>\n",
       "    <tr style=\"text-align: right;\">\n",
       "      <th></th>\n",
       "      <th>probability_M</th>\n",
       "      <th>probability_F</th>\n",
       "      <th>probability_I</th>\n",
       "      <th>label_M</th>\n",
       "      <th>label_F</th>\n",
       "      <th>label_I</th>\n",
       "      <th>correct</th>\n",
       "    </tr>\n",
       "  </thead>\n",
       "  <tbody>\n",
       "    <tr>\n",
       "      <th>0</th>\n",
       "      <td>0.362929</td>\n",
       "      <td>0.311909</td>\n",
       "      <td>0.325162</td>\n",
       "      <td>0</td>\n",
       "      <td>0</td>\n",
       "      <td>1</td>\n",
       "      <td>False</td>\n",
       "    </tr>\n",
       "    <tr>\n",
       "      <th>1</th>\n",
       "      <td>0.262086</td>\n",
       "      <td>0.208338</td>\n",
       "      <td>0.529576</td>\n",
       "      <td>0</td>\n",
       "      <td>0</td>\n",
       "      <td>1</td>\n",
       "      <td>True</td>\n",
       "    </tr>\n",
       "    <tr>\n",
       "      <th>2</th>\n",
       "      <td>0.382899</td>\n",
       "      <td>0.335296</td>\n",
       "      <td>0.281805</td>\n",
       "      <td>0</td>\n",
       "      <td>1</td>\n",
       "      <td>0</td>\n",
       "      <td>False</td>\n",
       "    </tr>\n",
       "    <tr>\n",
       "      <th>3</th>\n",
       "      <td>0.363405</td>\n",
       "      <td>0.312490</td>\n",
       "      <td>0.324105</td>\n",
       "      <td>0</td>\n",
       "      <td>0</td>\n",
       "      <td>1</td>\n",
       "      <td>False</td>\n",
       "    </tr>\n",
       "    <tr>\n",
       "      <th>4</th>\n",
       "      <td>0.290050</td>\n",
       "      <td>0.235325</td>\n",
       "      <td>0.474625</td>\n",
       "      <td>0</td>\n",
       "      <td>0</td>\n",
       "      <td>1</td>\n",
       "      <td>True</td>\n",
       "    </tr>\n",
       "    <tr>\n",
       "      <th>...</th>\n",
       "      <td>...</td>\n",
       "      <td>...</td>\n",
       "      <td>...</td>\n",
       "      <td>...</td>\n",
       "      <td>...</td>\n",
       "      <td>...</td>\n",
       "      <td>...</td>\n",
       "    </tr>\n",
       "    <tr>\n",
       "      <th>413</th>\n",
       "      <td>0.315291</td>\n",
       "      <td>0.260610</td>\n",
       "      <td>0.424099</td>\n",
       "      <td>0</td>\n",
       "      <td>0</td>\n",
       "      <td>1</td>\n",
       "      <td>True</td>\n",
       "    </tr>\n",
       "    <tr>\n",
       "      <th>414</th>\n",
       "      <td>0.341134</td>\n",
       "      <td>0.287844</td>\n",
       "      <td>0.371021</td>\n",
       "      <td>1</td>\n",
       "      <td>0</td>\n",
       "      <td>0</td>\n",
       "      <td>False</td>\n",
       "    </tr>\n",
       "    <tr>\n",
       "      <th>415</th>\n",
       "      <td>0.363600</td>\n",
       "      <td>0.312730</td>\n",
       "      <td>0.323670</td>\n",
       "      <td>0</td>\n",
       "      <td>1</td>\n",
       "      <td>0</td>\n",
       "      <td>False</td>\n",
       "    </tr>\n",
       "    <tr>\n",
       "      <th>416</th>\n",
       "      <td>0.383979</td>\n",
       "      <td>0.336710</td>\n",
       "      <td>0.279311</td>\n",
       "      <td>1</td>\n",
       "      <td>0</td>\n",
       "      <td>0</td>\n",
       "      <td>True</td>\n",
       "    </tr>\n",
       "    <tr>\n",
       "      <th>417</th>\n",
       "      <td>0.401445</td>\n",
       "      <td>0.358670</td>\n",
       "      <td>0.239885</td>\n",
       "      <td>0</td>\n",
       "      <td>0</td>\n",
       "      <td>1</td>\n",
       "      <td>False</td>\n",
       "    </tr>\n",
       "  </tbody>\n",
       "</table>\n",
       "<p>418 rows × 7 columns</p>\n",
       "</div>"
      ],
      "text/plain": [
       "     probability_M  probability_F  probability_I  label_M  label_F  label_I  \\\n",
       "0         0.362929       0.311909       0.325162        0        0        1   \n",
       "1         0.262086       0.208338       0.529576        0        0        1   \n",
       "2         0.382899       0.335296       0.281805        0        1        0   \n",
       "3         0.363405       0.312490       0.324105        0        0        1   \n",
       "4         0.290050       0.235325       0.474625        0        0        1   \n",
       "..             ...            ...            ...      ...      ...      ...   \n",
       "413       0.315291       0.260610       0.424099        0        0        1   \n",
       "414       0.341134       0.287844       0.371021        1        0        0   \n",
       "415       0.363600       0.312730       0.323670        0        1        0   \n",
       "416       0.383979       0.336710       0.279311        1        0        0   \n",
       "417       0.401445       0.358670       0.239885        0        0        1   \n",
       "\n",
       "     correct  \n",
       "0      False  \n",
       "1       True  \n",
       "2      False  \n",
       "3      False  \n",
       "4       True  \n",
       "..       ...  \n",
       "413     True  \n",
       "414    False  \n",
       "415    False  \n",
       "416     True  \n",
       "417    False  \n",
       "\n",
       "[418 rows x 7 columns]"
      ]
     },
     "execution_count": 15,
     "metadata": {},
     "output_type": "execute_result"
    }
   ],
   "source": [
    "nn_predictions = pd.DataFrame(tf.nn.softmax(nn_model.predict(test_dataset)).numpy()).join(labels)\n",
    "nn_predictions.columns = [\"probability_M\", \"probability_F\", \"probability_I\", \"label_M\", \"label_F\", \"label_I\"]\n",
    "\n",
    "nn_prediction_values = nn_predictions[list(linear_predictions.columns[0:3])].idxmax(axis=1).apply(lambda x : nn_predictions.columns.get_loc(x) + 3)\n",
    "nn_label_values = nn_predictions[list(linear_predictions.columns[3:6])].idxmax(axis=1).apply(lambda x : nn_predictions.columns.get_loc(x))\n",
    "\n",
    "nn_predictions[\"correct\"] = nn_prediction_values.combine(nn_label_values, lambda x, y : x == y)\n",
    "\n",
    "nn_predictions"
   ]
  },
  {
   "cell_type": "markdown",
   "metadata": {},
   "source": [
    "### Backend"
   ]
  },
  {
   "cell_type": "markdown",
   "metadata": {},
   "source": [
    "#### Linear"
   ]
  },
  {
   "cell_type": "code",
   "execution_count": 16,
   "metadata": {},
   "outputs": [
    {
     "name": "stdout",
     "output_type": "stream",
     "text": [
      "Model: \"sequential\"\n",
      "_________________________________________________________________\n",
      "Layer (type)                 Output Shape              Param #   \n",
      "=================================================================\n",
      "dense_features (DenseFeature multiple                  0         \n",
      "_________________________________________________________________\n",
      "dense (Dense)                multiple                  15        \n",
      "=================================================================\n",
      "Total params: 15\n",
      "Trainable params: 15\n",
      "Non-trainable params: 0\n",
      "_________________________________________________________________\n"
     ]
    }
   ],
   "source": [
    "linear_model.summary()"
   ]
  },
  {
   "cell_type": "code",
   "execution_count": 17,
   "metadata": {},
   "outputs": [
    {
     "data": {
      "text/plain": [
       "{'verbose': 0, 'epochs': 1, 'steps': 14}"
      ]
     },
     "execution_count": 17,
     "metadata": {},
     "output_type": "execute_result"
    }
   ],
   "source": [
    "linear_model.history.params"
   ]
  },
  {
   "cell_type": "code",
   "execution_count": 18,
   "metadata": {},
   "outputs": [
    {
     "name": "stdout",
     "output_type": "stream",
     "text": [
      "[]\n",
      "[array([[-0.0067465 , -0.59929866,  0.21066992],\n",
      "       [ 0.06100454, -0.38357407, -0.15530111],\n",
      "       [ 0.6512007 , -0.30977985,  0.5848325 ],\n",
      "       [ 0.00990084,  0.13922398, -0.11583212]], dtype=float32), array([ 0.11929043, -0.5987299 ,  0.9441433 ], dtype=float32)]\n"
     ]
    }
   ],
   "source": [
    "for layer in linear_model.layers:\n",
    "    print(layer.get_weights())"
   ]
  },
  {
   "cell_type": "markdown",
   "metadata": {},
   "source": [
    "#### Neural Network"
   ]
  },
  {
   "cell_type": "code",
   "execution_count": 19,
   "metadata": {},
   "outputs": [
    {
     "name": "stdout",
     "output_type": "stream",
     "text": [
      "Model: \"sequential_1\"\n",
      "_________________________________________________________________\n",
      "Layer (type)                 Output Shape              Param #   \n",
      "=================================================================\n",
      "dense_features_1 (DenseFeatu multiple                  0         \n",
      "_________________________________________________________________\n",
      "dense_1 (Dense)              multiple                  50        \n",
      "_________________________________________________________________\n",
      "dense_2 (Dense)              multiple                  55        \n",
      "_________________________________________________________________\n",
      "dense_3 (Dense)              multiple                  18        \n",
      "=================================================================\n",
      "Total params: 123\n",
      "Trainable params: 123\n",
      "Non-trainable params: 0\n",
      "_________________________________________________________________\n"
     ]
    }
   ],
   "source": [
    "nn_model.summary()"
   ]
  },
  {
   "cell_type": "code",
   "execution_count": 20,
   "metadata": {},
   "outputs": [
    {
     "data": {
      "text/plain": [
       "{'verbose': 0, 'epochs': 1, 'steps': 14}"
      ]
     },
     "execution_count": 20,
     "metadata": {},
     "output_type": "execute_result"
    }
   ],
   "source": [
    "nn_model.history.params"
   ]
  },
  {
   "cell_type": "code",
   "execution_count": 21,
   "metadata": {},
   "outputs": [
    {
     "name": "stdout",
     "output_type": "stream",
     "text": [
      "[]\n",
      "[array([[-3.7819475e-05,  5.7768397e-02,  1.7616557e-02,  4.6271507e-02,\n",
      "         5.8181182e-02, -2.8584553e-05,  5.6803336e-05, -5.6222212e-05,\n",
      "         2.8014727e-02,  1.7375473e-02],\n",
      "       [-6.9673413e-05,  2.5469953e-02,  8.4823407e-03,  2.6049258e-02,\n",
      "         2.5471902e-02, -1.0367596e-05,  6.3307270e-06, -3.1748594e-05,\n",
      "         1.6190125e-02,  8.4943399e-03],\n",
      "       [-8.2134917e-05,  5.7900142e-02,  1.6960308e-02,  5.0196294e-02,\n",
      "         6.0827818e-02, -2.0198133e-05,  3.4563257e-06, -5.4000877e-05,\n",
      "         2.3882344e-02,  1.7362097e-02],\n",
      "       [-9.2824950e-04,  3.2997674e-01,  5.9754308e-02,  1.7927888e-01,\n",
      "         4.4003323e-01, -2.9088077e-03, -1.2247008e-04, -1.3185384e-02,\n",
      "         2.7448535e-01,  6.6604540e-02]], dtype=float32), array([ 2.9312496e-04, -2.1501900e-01, -8.6758532e-02, -2.3175201e-01,\n",
      "       -2.0939401e-01,  1.2648103e-04, -3.1062758e-05,  8.7593182e-04,\n",
      "       -1.3940179e-01, -8.6974718e-02], dtype=float32)]\n",
      "[array([[ 1.5076162e-05, -1.4281850e-03,  6.8985077e-04, -5.6269241e-04,\n",
      "         7.1711067e-05],\n",
      "       [-1.7997442e-01,  2.1492079e-01,  8.3148442e-02,  3.0206826e-01,\n",
      "        -3.1276566e-01],\n",
      "       [-2.9028656e-02,  6.5048009e-02, -6.6416256e-02,  2.7903361e-02,\n",
      "        -3.1281866e-02],\n",
      "       [-1.0733347e-01,  9.3592562e-02, -3.3811742e-01,  9.8915488e-02,\n",
      "        -7.6199859e-02],\n",
      "       [-5.5862404e-02,  1.1617636e-01, -3.6025921e-01, -3.1454834e-01,\n",
      "        -3.9909744e-01],\n",
      "       [ 1.4122177e-04,  3.4152344e-04,  1.3615120e-03, -1.2871846e-04,\n",
      "         1.6788777e-04],\n",
      "       [ 9.8820128e-06, -1.8062034e-04, -1.3558239e-03, -6.5161468e-04,\n",
      "        -1.3285682e-04],\n",
      "       [ 4.7536156e-04, -1.2163686e-03,  2.8565226e-03, -1.0403013e-03,\n",
      "         2.0788693e-04],\n",
      "       [-2.2122850e-01,  2.7671313e-02, -3.7082088e-01, -2.0573325e-01,\n",
      "         1.1384654e-01],\n",
      "       [-2.9981416e-02,  7.0217863e-02, -6.2092897e-02,  3.2063708e-02,\n",
      "        -2.7183775e-02]], dtype=float32), array([ 0.20717694, -0.27464095,  0.33690885, -0.18454781,  0.18200757],\n",
      "      dtype=float32)]\n",
      "[array([[ 0.18328293, -0.33236068,  0.65048426],\n",
      "       [ 0.29027206,  0.05206789, -0.28732172],\n",
      "       [ 0.71591747, -0.9616463 ,  1.1430267 ],\n",
      "       [-0.5646707 ,  0.67410815, -0.4316286 ],\n",
      "       [-0.64212465,  0.19170588,  0.62854594]], dtype=float32), array([-0.3614508 , -0.57856655,  0.982747  ], dtype=float32)]\n"
     ]
    }
   ],
   "source": [
    "for layer in nn_model.layers:\n",
    "    print(layer.get_weights())"
   ]
  }
 ],
 "metadata": {
  "hide_input": false,
  "kernelspec": {
   "display_name": "Python 3",
   "language": "python",
   "name": "python3"
  },
  "language_info": {
   "codemirror_mode": {
    "name": "ipython",
    "version": 3
   },
   "file_extension": ".py",
   "mimetype": "text/x-python",
   "name": "python",
   "nbconvert_exporter": "python",
   "pygments_lexer": "ipython3",
   "version": "3.8.2"
  },
  "toc": {
   "base_numbering": 1,
   "nav_menu": {},
   "number_sections": false,
   "sideBar": true,
   "skip_h1_title": false,
   "title_cell": "Table of Contents",
   "title_sidebar": "Contents",
   "toc_cell": false,
   "toc_position": {
    "height": "calc(100% - 180px)",
    "left": "10px",
    "top": "150px",
    "width": "319px"
   },
   "toc_section_display": true,
   "toc_window_display": true
  }
 },
 "nbformat": 4,
 "nbformat_minor": 2
}
