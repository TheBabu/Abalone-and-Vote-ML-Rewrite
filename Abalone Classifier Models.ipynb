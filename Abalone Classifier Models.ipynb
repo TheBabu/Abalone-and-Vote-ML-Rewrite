{
 "cells": [
  {
   "cell_type": "markdown",
   "metadata": {},
   "source": [
    "### Import Libraries"
   ]
  },
  {
   "cell_type": "code",
   "execution_count": 1,
   "metadata": {},
   "outputs": [
    {
     "name": "stderr",
     "output_type": "stream",
     "text": [
      "WARNING:root:Limited tf.compat.v2.summary API due to missing TensorBoard installation.\n",
      "WARNING:root:Limited tf.compat.v2.summary API due to missing TensorBoard installation.\n",
      "WARNING:root:Limited tf.compat.v2.summary API due to missing TensorBoard installation.\n",
      "WARNING:root:Limited tf.summary API due to missing TensorBoard installation.\n"
     ]
    }
   ],
   "source": [
    "import tensorflow as tf\n",
    "import numpy as np\n",
    "import pandas as pd\n",
    "import math\n",
    "from matplotlib import pyplot as plt\n",
    "from sklearn.model_selection import train_test_split"
   ]
  },
  {
   "cell_type": "markdown",
   "metadata": {},
   "source": [
    "### Load Data"
   ]
  },
  {
   "cell_type": "code",
   "execution_count": 2,
   "metadata": {},
   "outputs": [
    {
     "data": {
      "text/html": [
       "<div>\n",
       "<style scoped>\n",
       "    .dataframe tbody tr th:only-of-type {\n",
       "        vertical-align: middle;\n",
       "    }\n",
       "\n",
       "    .dataframe tbody tr th {\n",
       "        vertical-align: top;\n",
       "    }\n",
       "\n",
       "    .dataframe thead th {\n",
       "        text-align: right;\n",
       "    }\n",
       "</style>\n",
       "<table border=\"1\" class=\"dataframe\">\n",
       "  <thead>\n",
       "    <tr style=\"text-align: right;\">\n",
       "      <th></th>\n",
       "      <th>length</th>\n",
       "      <th>diameter</th>\n",
       "      <th>height</th>\n",
       "      <th>whole-weight</th>\n",
       "      <th>shucked-weight</th>\n",
       "      <th>viscera-weight</th>\n",
       "      <th>shell-weight</th>\n",
       "      <th>rings</th>\n",
       "      <th>sex_F</th>\n",
       "      <th>sex_I</th>\n",
       "      <th>sex_M</th>\n",
       "    </tr>\n",
       "  </thead>\n",
       "  <tbody>\n",
       "    <tr>\n",
       "      <th>0</th>\n",
       "      <td>0.455</td>\n",
       "      <td>0.365</td>\n",
       "      <td>0.095</td>\n",
       "      <td>0.5140</td>\n",
       "      <td>0.2245</td>\n",
       "      <td>0.1010</td>\n",
       "      <td>0.1500</td>\n",
       "      <td>15</td>\n",
       "      <td>0</td>\n",
       "      <td>0</td>\n",
       "      <td>1</td>\n",
       "    </tr>\n",
       "    <tr>\n",
       "      <th>1</th>\n",
       "      <td>0.350</td>\n",
       "      <td>0.265</td>\n",
       "      <td>0.090</td>\n",
       "      <td>0.2255</td>\n",
       "      <td>0.0995</td>\n",
       "      <td>0.0485</td>\n",
       "      <td>0.0700</td>\n",
       "      <td>7</td>\n",
       "      <td>0</td>\n",
       "      <td>0</td>\n",
       "      <td>1</td>\n",
       "    </tr>\n",
       "    <tr>\n",
       "      <th>2</th>\n",
       "      <td>0.530</td>\n",
       "      <td>0.420</td>\n",
       "      <td>0.135</td>\n",
       "      <td>0.6770</td>\n",
       "      <td>0.2565</td>\n",
       "      <td>0.1415</td>\n",
       "      <td>0.2100</td>\n",
       "      <td>9</td>\n",
       "      <td>1</td>\n",
       "      <td>0</td>\n",
       "      <td>0</td>\n",
       "    </tr>\n",
       "    <tr>\n",
       "      <th>3</th>\n",
       "      <td>0.440</td>\n",
       "      <td>0.365</td>\n",
       "      <td>0.125</td>\n",
       "      <td>0.5160</td>\n",
       "      <td>0.2155</td>\n",
       "      <td>0.1140</td>\n",
       "      <td>0.1550</td>\n",
       "      <td>10</td>\n",
       "      <td>0</td>\n",
       "      <td>0</td>\n",
       "      <td>1</td>\n",
       "    </tr>\n",
       "    <tr>\n",
       "      <th>4</th>\n",
       "      <td>0.330</td>\n",
       "      <td>0.255</td>\n",
       "      <td>0.080</td>\n",
       "      <td>0.2050</td>\n",
       "      <td>0.0895</td>\n",
       "      <td>0.0395</td>\n",
       "      <td>0.0550</td>\n",
       "      <td>7</td>\n",
       "      <td>0</td>\n",
       "      <td>1</td>\n",
       "      <td>0</td>\n",
       "    </tr>\n",
       "    <tr>\n",
       "      <th>...</th>\n",
       "      <td>...</td>\n",
       "      <td>...</td>\n",
       "      <td>...</td>\n",
       "      <td>...</td>\n",
       "      <td>...</td>\n",
       "      <td>...</td>\n",
       "      <td>...</td>\n",
       "      <td>...</td>\n",
       "      <td>...</td>\n",
       "      <td>...</td>\n",
       "      <td>...</td>\n",
       "    </tr>\n",
       "    <tr>\n",
       "      <th>4172</th>\n",
       "      <td>0.565</td>\n",
       "      <td>0.450</td>\n",
       "      <td>0.165</td>\n",
       "      <td>0.8870</td>\n",
       "      <td>0.3700</td>\n",
       "      <td>0.2390</td>\n",
       "      <td>0.2490</td>\n",
       "      <td>11</td>\n",
       "      <td>1</td>\n",
       "      <td>0</td>\n",
       "      <td>0</td>\n",
       "    </tr>\n",
       "    <tr>\n",
       "      <th>4173</th>\n",
       "      <td>0.590</td>\n",
       "      <td>0.440</td>\n",
       "      <td>0.135</td>\n",
       "      <td>0.9660</td>\n",
       "      <td>0.4390</td>\n",
       "      <td>0.2145</td>\n",
       "      <td>0.2605</td>\n",
       "      <td>10</td>\n",
       "      <td>0</td>\n",
       "      <td>0</td>\n",
       "      <td>1</td>\n",
       "    </tr>\n",
       "    <tr>\n",
       "      <th>4174</th>\n",
       "      <td>0.600</td>\n",
       "      <td>0.475</td>\n",
       "      <td>0.205</td>\n",
       "      <td>1.1760</td>\n",
       "      <td>0.5255</td>\n",
       "      <td>0.2875</td>\n",
       "      <td>0.3080</td>\n",
       "      <td>9</td>\n",
       "      <td>0</td>\n",
       "      <td>0</td>\n",
       "      <td>1</td>\n",
       "    </tr>\n",
       "    <tr>\n",
       "      <th>4175</th>\n",
       "      <td>0.625</td>\n",
       "      <td>0.485</td>\n",
       "      <td>0.150</td>\n",
       "      <td>1.0945</td>\n",
       "      <td>0.5310</td>\n",
       "      <td>0.2610</td>\n",
       "      <td>0.2960</td>\n",
       "      <td>10</td>\n",
       "      <td>1</td>\n",
       "      <td>0</td>\n",
       "      <td>0</td>\n",
       "    </tr>\n",
       "    <tr>\n",
       "      <th>4176</th>\n",
       "      <td>0.710</td>\n",
       "      <td>0.555</td>\n",
       "      <td>0.195</td>\n",
       "      <td>1.9485</td>\n",
       "      <td>0.9455</td>\n",
       "      <td>0.3765</td>\n",
       "      <td>0.4950</td>\n",
       "      <td>12</td>\n",
       "      <td>0</td>\n",
       "      <td>0</td>\n",
       "      <td>1</td>\n",
       "    </tr>\n",
       "  </tbody>\n",
       "</table>\n",
       "<p>4177 rows × 11 columns</p>\n",
       "</div>"
      ],
      "text/plain": [
       "      length  diameter  height  whole-weight  shucked-weight  viscera-weight  \\\n",
       "0      0.455     0.365   0.095        0.5140          0.2245          0.1010   \n",
       "1      0.350     0.265   0.090        0.2255          0.0995          0.0485   \n",
       "2      0.530     0.420   0.135        0.6770          0.2565          0.1415   \n",
       "3      0.440     0.365   0.125        0.5160          0.2155          0.1140   \n",
       "4      0.330     0.255   0.080        0.2050          0.0895          0.0395   \n",
       "...      ...       ...     ...           ...             ...             ...   \n",
       "4172   0.565     0.450   0.165        0.8870          0.3700          0.2390   \n",
       "4173   0.590     0.440   0.135        0.9660          0.4390          0.2145   \n",
       "4174   0.600     0.475   0.205        1.1760          0.5255          0.2875   \n",
       "4175   0.625     0.485   0.150        1.0945          0.5310          0.2610   \n",
       "4176   0.710     0.555   0.195        1.9485          0.9455          0.3765   \n",
       "\n",
       "      shell-weight  rings  sex_F  sex_I  sex_M  \n",
       "0           0.1500     15      0      0      1  \n",
       "1           0.0700      7      0      0      1  \n",
       "2           0.2100      9      1      0      0  \n",
       "3           0.1550     10      0      0      1  \n",
       "4           0.0550      7      0      1      0  \n",
       "...            ...    ...    ...    ...    ...  \n",
       "4172        0.2490     11      1      0      0  \n",
       "4173        0.2605     10      0      0      1  \n",
       "4174        0.3080      9      0      0      1  \n",
       "4175        0.2960     10      1      0      0  \n",
       "4176        0.4950     12      0      0      1  \n",
       "\n",
       "[4177 rows x 11 columns]"
      ]
     },
     "execution_count": 2,
     "metadata": {},
     "output_type": "execute_result"
    }
   ],
   "source": [
    "dataframe = pd.read_csv(\"abalone.csv\")\n",
    "dataframe.dropna() #Removes Missing Values\n",
    "dataframe = pd.get_dummies(dataframe, columns=[\"sex\"]) #One hot encode \"sex\" label\n",
    "dataframe"
   ]
  },
  {
   "cell_type": "code",
   "execution_count": 3,
   "metadata": {},
   "outputs": [],
   "source": [
    "#Convert Dataframe to Dataset\n",
    "def df_to_ds(dataframe, selected_features, selected_targets, batch_size=32):\n",
    "    features = dataframe[selected_features]\n",
    "    targets = dataframe[selected_targets]\n",
    "    ds = tf.data.Dataset.from_tensor_slices((dict(features), np.array(targets)))\n",
    "    ds = ds.batch(batch_size)\n",
    "    return ds"
   ]
  },
  {
   "cell_type": "code",
   "execution_count": 4,
   "metadata": {},
   "outputs": [],
   "source": [
    "#Selected Features and Target\n",
    "selected_features = [\n",
    "    \"length\",\n",
    "    \"diameter\",\n",
    "    \"height\",\n",
    "    \"whole-weight\",\n",
    "    \"rings\"]\n",
    "\n",
    "selected_targets = [\"sex_M\", \"sex_F\", \"sex_I\"]\n",
    "\n",
    "#Feature Columns\n",
    "feature_columns = []    \n",
    "for f in selected_features:\n",
    "    feature_columns.append(tf.feature_column.numeric_column(f))\n",
    "\n",
    "#Create Tensorflow Datasets\n",
    "train_per = 0.6\n",
    "validation_per = 0.3\n",
    "test_per = 0.1\n",
    "batch_size = 32\n",
    "\n",
    "train_dataframe, test_dataframe = train_test_split(dataframe, test_size=test_per)\n",
    "train_dataframe, validation_dataframe = train_test_split(train_dataframe, test_size=validation_per / (1 - test_per))\n",
    "\n",
    "train_dataset = df_to_ds(\n",
    "    train_dataframe,\n",
    "    selected_features,\n",
    "    selected_targets,\n",
    "    batch_size=batch_size)\n",
    "validation_dataset = df_to_ds(\n",
    "    validation_dataframe,\n",
    "    selected_features,\n",
    "    selected_targets,\n",
    "    batch_size=batch_size)\n",
    "test_dataset = df_to_ds(\n",
    "    test_dataframe,\n",
    "    selected_features,\n",
    "    selected_targets,\n",
    "    batch_size=batch_size)"
   ]
  },
  {
   "cell_type": "markdown",
   "metadata": {},
   "source": [
    "### Create Models"
   ]
  },
  {
   "cell_type": "code",
   "execution_count": 5,
   "metadata": {},
   "outputs": [],
   "source": [
    "linear_model = tf.keras.models.Sequential([\n",
    "    tf.keras.layers.DenseFeatures(feature_columns),\n",
    "    tf.keras.layers.Dense(3, kernel_regularizer=tf.keras.regularizers.l2(0.01), bias_regularizer=tf.keras.regularizers.l2(0.01)),\n",
    "])\n",
    "\n",
    "linear_model.compile(\n",
    "    optimizer=\"adam\",\n",
    "    loss=tf.keras.losses.CategoricalCrossentropy(from_logits=True),\n",
    "    metrics=[\"accuracy\"])"
   ]
  },
  {
   "cell_type": "code",
   "execution_count": 6,
   "metadata": {},
   "outputs": [],
   "source": [
    "nn_model = tf.keras.models.Sequential([\n",
    "    tf.keras.layers.DenseFeatures(feature_columns),\n",
    "    tf.keras.layers.Dense(10, activation=tf.nn.leaky_relu, kernel_regularizer=tf.keras.regularizers.l2(0.01), bias_regularizer=tf.keras.regularizers.l2(0.01)),\n",
    "    tf.keras.layers.Dense(5, activation=tf.nn.leaky_relu, kernel_regularizer=tf.keras.regularizers.l2(0.01), bias_regularizer=tf.keras.regularizers.l2(0.01)),\n",
    "    tf.keras.layers.Dense(3),\n",
    "])\n",
    "\n",
    "nn_model.compile(\n",
    "    optimizer=\"adam\",\n",
    "    loss=tf.keras.losses.CategoricalCrossentropy(from_logits=True),\n",
    "    metrics=[\"accuracy\"])"
   ]
  },
  {
   "cell_type": "markdown",
   "metadata": {},
   "source": [
    "### Train Models"
   ]
  },
  {
   "cell_type": "code",
   "execution_count": 7,
   "metadata": {},
   "outputs": [],
   "source": [
    "def plot_loss(model):\n",
    "    plt.ylabel(\"Loss\")\n",
    "    plt.xlabel(\"Epochs\")\n",
    "    plt.tight_layout()\n",
    "    plt.plot(model.history.history[\"loss\"], label=\"loss\")\n",
    "    if(\"val_loss\" in model.history.history.keys()):\n",
    "        plt.plot(model.history.history[\"val_loss\"], label=\"val_loss\")\n",
    "    plt.legend()\n",
    "    plt.show()"
   ]
  },
  {
   "cell_type": "code",
   "execution_count": 8,
   "metadata": {},
   "outputs": [],
   "source": [
    "def plot_accuracy(model):\n",
    "    plt.ylabel(\"Accuracy\")\n",
    "    plt.xlabel(\"Epochs\")\n",
    "    plt.tight_layout()\n",
    "    plt.plot(model.history.history[\"accuracy\"], label=\"accuracy\")\n",
    "    if(\"val_accuracy\" in model.history.history.keys()):\n",
    "        plt.plot(model.history.history[\"val_accuracy\"], label=\"val_accuracy\")\n",
    "    plt.legend()\n",
    "    plt.show()"
   ]
  },
  {
   "cell_type": "code",
   "execution_count": 9,
   "metadata": {
    "scrolled": false
   },
   "outputs": [
    {
     "name": "stdout",
     "output_type": "stream",
     "text": [
      "Epoch 1/30\n",
      "WARNING:tensorflow:Layer dense_features is casting an input tensor from dtype float64 to the layer's dtype of float32, which is new behavior in TensorFlow 2.  The layer has dtype float32 because it's dtype defaults to floatx.\n",
      "\n",
      "If you intended to run this layer in float32, you can safely ignore this warning. If in doubt, this warning is likely only an issue if you are porting a TensorFlow 1.X model to TensorFlow 2.\n",
      "\n",
      "To change all layers to have dtype float64 by default, call `tf.keras.backend.set_floatx('float64')`. To change just this layer, pass dtype='float64' to the layer constructor. If you are the author of this layer, you can disable autocasting by passing autocast=False to the base Layer constructor.\n",
      "\n"
     ]
    },
    {
     "name": "stderr",
     "output_type": "stream",
     "text": [
      "WARNING:tensorflow:Layer dense_features is casting an input tensor from dtype float64 to the layer's dtype of float32, which is new behavior in TensorFlow 2.  The layer has dtype float32 because it's dtype defaults to floatx.\n",
      "\n",
      "If you intended to run this layer in float32, you can safely ignore this warning. If in doubt, this warning is likely only an issue if you are porting a TensorFlow 1.X model to TensorFlow 2.\n",
      "\n",
      "To change all layers to have dtype float64 by default, call `tf.keras.backend.set_floatx('float64')`. To change just this layer, pass dtype='float64' to the layer constructor. If you are the author of this layer, you can disable autocasting by passing autocast=False to the base Layer constructor.\n",
      "\n"
     ]
    },
    {
     "name": "stdout",
     "output_type": "stream",
     "text": [
      "79/79 - 1s - loss: 5.7516 - accuracy: 0.3252 - val_loss: 5.7551 - val_accuracy: 0.3025\n",
      "Epoch 2/30\n",
      "79/79 - 0s - loss: 4.8463 - accuracy: 0.3456 - val_loss: 4.9675 - val_accuracy: 0.3711\n",
      "Epoch 3/30\n",
      "79/79 - 1s - loss: 4.1983 - accuracy: 0.4230 - val_loss: 4.2770 - val_accuracy: 0.4206\n",
      "Epoch 4/30\n",
      "79/79 - 0s - loss: 3.5695 - accuracy: 0.4413 - val_loss: 3.5706 - val_accuracy: 0.4326\n",
      "Epoch 5/30\n",
      "79/79 - 1s - loss: 2.9302 - accuracy: 0.4489 - val_loss: 2.8579 - val_accuracy: 0.4381\n",
      "Epoch 6/30\n",
      "79/79 - 1s - loss: 2.2953 - accuracy: 0.4589 - val_loss: 2.1634 - val_accuracy: 0.4405\n",
      "Epoch 7/30\n",
      "79/79 - 1s - loss: 1.7102 - accuracy: 0.4685 - val_loss: 1.5681 - val_accuracy: 0.4437\n",
      "Epoch 8/30\n",
      "79/79 - 0s - loss: 1.2928 - accuracy: 0.4785 - val_loss: 1.2272 - val_accuracy: 0.4573\n",
      "Epoch 9/30\n",
      "79/79 - 0s - loss: 1.1255 - accuracy: 0.4892 - val_loss: 1.1262 - val_accuracy: 0.4597\n",
      "Epoch 10/30\n",
      "79/79 - 0s - loss: 1.0912 - accuracy: 0.4824 - val_loss: 1.1030 - val_accuracy: 0.4629\n",
      "Epoch 11/30\n",
      "79/79 - 0s - loss: 1.0827 - accuracy: 0.4713 - val_loss: 1.0935 - val_accuracy: 0.4645\n",
      "Epoch 12/30\n",
      "79/79 - 1s - loss: 1.0766 - accuracy: 0.4725 - val_loss: 1.0866 - val_accuracy: 0.4685\n",
      "Epoch 13/30\n",
      "79/79 - 1s - loss: 1.0708 - accuracy: 0.4773 - val_loss: 1.0803 - val_accuracy: 0.4749\n",
      "Epoch 14/30\n",
      "79/79 - 0s - loss: 1.0652 - accuracy: 0.4804 - val_loss: 1.0743 - val_accuracy: 0.4765\n",
      "Epoch 15/30\n",
      "79/79 - 0s - loss: 1.0598 - accuracy: 0.4832 - val_loss: 1.0685 - val_accuracy: 0.4828\n",
      "Epoch 16/30\n",
      "79/79 - 0s - loss: 1.0545 - accuracy: 0.4840 - val_loss: 1.0629 - val_accuracy: 0.4852\n",
      "Epoch 17/30\n",
      "79/79 - 0s - loss: 1.0495 - accuracy: 0.4852 - val_loss: 1.0575 - val_accuracy: 0.4900\n",
      "Epoch 18/30\n",
      "79/79 - 0s - loss: 1.0447 - accuracy: 0.4872 - val_loss: 1.0523 - val_accuracy: 0.4924\n",
      "Epoch 19/30\n",
      "79/79 - 0s - loss: 1.0400 - accuracy: 0.4892 - val_loss: 1.0474 - val_accuracy: 0.4956\n",
      "Epoch 20/30\n",
      "79/79 - 0s - loss: 1.0356 - accuracy: 0.4884 - val_loss: 1.0426 - val_accuracy: 0.4940\n",
      "Epoch 21/30\n",
      "79/79 - 0s - loss: 1.0314 - accuracy: 0.4924 - val_loss: 1.0381 - val_accuracy: 0.4924\n",
      "Epoch 22/30\n",
      "79/79 - 1s - loss: 1.0274 - accuracy: 0.4940 - val_loss: 1.0337 - val_accuracy: 0.4940\n",
      "Epoch 23/30\n",
      "79/79 - 1s - loss: 1.0236 - accuracy: 0.4964 - val_loss: 1.0296 - val_accuracy: 0.4964\n",
      "Epoch 24/30\n",
      "79/79 - 0s - loss: 1.0200 - accuracy: 0.4976 - val_loss: 1.0256 - val_accuracy: 0.5012\n",
      "Epoch 25/30\n",
      "79/79 - 1s - loss: 1.0165 - accuracy: 0.4988 - val_loss: 1.0219 - val_accuracy: 0.4996\n",
      "Epoch 26/30\n",
      "79/79 - 0s - loss: 1.0133 - accuracy: 0.5020 - val_loss: 1.0183 - val_accuracy: 0.5012\n",
      "Epoch 27/30\n",
      "79/79 - 1s - loss: 1.0103 - accuracy: 0.5052 - val_loss: 1.0150 - val_accuracy: 0.5036\n",
      "Epoch 28/30\n",
      "79/79 - 1s - loss: 1.0074 - accuracy: 0.5080 - val_loss: 1.0118 - val_accuracy: 0.5044\n",
      "Epoch 29/30\n",
      "79/79 - 1s - loss: 1.0047 - accuracy: 0.5096 - val_loss: 1.0088 - val_accuracy: 0.5084\n",
      "Epoch 30/30\n",
      "79/79 - 0s - loss: 1.0021 - accuracy: 0.5120 - val_loss: 1.0060 - val_accuracy: 0.5100\n"
     ]
    },
    {
     "data": {
      "image/png": "[encoded data removed]",
      "text/plain": [
       "<Figure size 432x288 with 1 Axes>"
      ]
     },
     "metadata": {
      "needs_background": "light"
     },
     "output_type": "display_data"
    },
    {
     "data": {
      "image/png": "[encoded data removed]",
      "text/plain": [
       "<Figure size 432x288 with 1 Axes>"
      ]
     },
     "metadata": {
      "needs_background": "light"
     },
     "output_type": "display_data"
    }
   ],
   "source": [
    "linear_model.fit(train_dataset, validation_data=validation_dataset, epochs=30, verbose=2)\n",
    "\n",
    "plot_loss(linear_model)\n",
    "plot_accuracy(linear_model)"
   ]
  },
  {
   "cell_type": "code",
   "execution_count": null,
   "metadata": {
    "scrolled": false
   },
   "outputs": [
    {
     "name": "stdout",
     "output_type": "stream",
     "text": [
      "Epoch 1/30\n",
      "WARNING:tensorflow:Layer dense_features_1 is casting an input tensor from dtype float64 to the layer's dtype of float32, which is new behavior in TensorFlow 2.  The layer has dtype float32 because it's dtype defaults to floatx.\n",
      "\n",
      "If you intended to run this layer in float32, you can safely ignore this warning. If in doubt, this warning is likely only an issue if you are porting a TensorFlow 1.X model to TensorFlow 2.\n",
      "\n",
      "To change all layers to have dtype float64 by default, call `tf.keras.backend.set_floatx('float64')`. To change just this layer, pass dtype='float64' to the layer constructor. If you are the author of this layer, you can disable autocasting by passing autocast=False to the base Layer constructor.\n",
      "\n"
     ]
    },
    {
     "name": "stderr",
     "output_type": "stream",
     "text": [
      "WARNING:tensorflow:Layer dense_features_1 is casting an input tensor from dtype float64 to the layer's dtype of float32, which is new behavior in TensorFlow 2.  The layer has dtype float32 because it's dtype defaults to floatx.\n",
      "\n",
      "If you intended to run this layer in float32, you can safely ignore this warning. If in doubt, this warning is likely only an issue if you are porting a TensorFlow 1.X model to TensorFlow 2.\n",
      "\n",
      "To change all layers to have dtype float64 by default, call `tf.keras.backend.set_floatx('float64')`. To change just this layer, pass dtype='float64' to the layer constructor. If you are the author of this layer, you can disable autocasting by passing autocast=False to the base Layer constructor.\n",
      "\n"
     ]
    },
    {
     "name": "stdout",
     "output_type": "stream",
     "text": [
      "79/79 - 1s - loss: 1.3376 - accuracy: 0.3444 - val_loss: 1.1956 - val_accuracy: 0.3863\n",
      "Epoch 2/30\n",
      "79/79 - 1s - loss: 1.1867 - accuracy: 0.3520 - val_loss: 1.1628 - val_accuracy: 0.4126\n",
      "Epoch 3/30\n",
      "79/79 - 1s - loss: 1.1560 - accuracy: 0.4298 - val_loss: 1.1350 - val_accuracy: 0.5196\n",
      "Epoch 4/30\n",
      "79/79 - 1s - loss: 1.1283 - accuracy: 0.4844 - val_loss: 1.1109 - val_accuracy: 0.5427\n",
      "Epoch 5/30\n",
      "79/79 - 1s - loss: 1.1039 - accuracy: 0.5068 - val_loss: 1.0897 - val_accuracy: 0.5387\n",
      "Epoch 6/30\n",
      "79/79 - 1s - loss: 1.0823 - accuracy: 0.5180 - val_loss: 1.0713 - val_accuracy: 0.5331\n",
      "Epoch 7/30\n",
      "79/79 - 1s - loss: 1.0633 - accuracy: 0.5235 - val_loss: 1.0555 - val_accuracy: 0.5299\n",
      "Epoch 8/30\n",
      "79/79 - 2s - loss: 1.0466 - accuracy: 0.5219 - val_loss: 1.0417 - val_accuracy: 0.5339\n",
      "Epoch 9/30\n",
      "79/79 - 1s - loss: 1.0321 - accuracy: 0.5200 - val_loss: 1.0295 - val_accuracy: 0.5395\n",
      "Epoch 10/30\n"
     ]
    }
   ],
   "source": [
    "nn_model.fit(train_dataset, validation_data=validation_dataset, epochs=30, verbose=2)\n",
    "\n",
    "plot_loss(nn_model)\n",
    "plot_accuracy(nn_model)"
   ]
  },
  {
   "cell_type": "markdown",
   "metadata": {},
   "source": [
    "### Evaluation"
   ]
  },
  {
   "cell_type": "code",
   "execution_count": null,
   "metadata": {},
   "outputs": [],
   "source": [
    "linear_model.evaluate(test_dataset)"
   ]
  },
  {
   "cell_type": "code",
   "execution_count": null,
   "metadata": {},
   "outputs": [],
   "source": [
    "nn_model.evaluate(test_dataset)"
   ]
  },
  {
   "cell_type": "markdown",
   "metadata": {},
   "source": [
    "### Predictions"
   ]
  },
  {
   "cell_type": "code",
   "execution_count": null,
   "metadata": {},
   "outputs": [],
   "source": [
    "labels = test_dataframe[selected_targets].reset_index(drop=True)"
   ]
  },
  {
   "cell_type": "code",
   "execution_count": null,
   "metadata": {},
   "outputs": [],
   "source": [
    "linear_predictions = pd.DataFrame(tf.nn.softmax(linear_model.predict(test_dataset)).numpy()).join(labels)\n",
    "linear_predictions.columns = [\"probability_M\", \"probability_F\", \"probability_I\", \"label_M\", \"label_F\", \"label_I\"]\n",
    "\n",
    "linear_prediction_values = linear_predictions[list(linear_predictions.columns[0:3])].idxmax(axis=1).apply(lambda x : linear_predictions.columns.get_loc(x) + 3)\n",
    "linear_label_values = linear_predictions[list(linear_predictions.columns[3:6])].idxmax(axis=1).apply(lambda x : linear_predictions.columns.get_loc(x))\n",
    "\n",
    "linear_predictions[\"correct\"] = linear_prediction_values.combine(linear_label_values, lambda x, y : x == y)\n",
    "\n",
    "linear_predictions"
   ]
  },
  {
   "cell_type": "code",
   "execution_count": null,
   "metadata": {},
   "outputs": [],
   "source": [
    "nn_predictions = pd.DataFrame(tf.nn.softmax(nn_model.predict(test_dataset)).numpy()).join(labels)\n",
    "nn_predictions.columns = [\"probability_M\", \"probability_F\", \"probability_I\", \"label_M\", \"label_F\", \"label_I\"]\n",
    "\n",
    "nn_prediction_values = nn_predictions[list(linear_predictions.columns[0:3])].idxmax(axis=1).apply(lambda x : nn_predictions.columns.get_loc(x) + 3)\n",
    "nn_label_values = nn_predictions[list(linear_predictions.columns[3:6])].idxmax(axis=1).apply(lambda x : nn_predictions.columns.get_loc(x))\n",
    "\n",
    "nn_predictions[\"correct\"] = nn_prediction_values.combine(nn_label_values, lambda x, y : x == y)\n",
    "\n",
    "nn_predictions"
   ]
  },
  {
   "cell_type": "markdown",
   "metadata": {},
   "source": [
    "### Backend"
   ]
  },
  {
   "cell_type": "markdown",
   "metadata": {},
   "source": [
    "#### Linear"
   ]
  },
  {
   "cell_type": "code",
   "execution_count": null,
   "metadata": {},
   "outputs": [],
   "source": [
    "linear_model.summary()"
   ]
  },
  {
   "cell_type": "code",
   "execution_count": null,
   "metadata": {},
   "outputs": [],
   "source": [
    "linear_model.history.params"
   ]
  },
  {
   "cell_type": "code",
   "execution_count": null,
   "metadata": {},
   "outputs": [],
   "source": [
    "for layer in linear_model.layers:\n",
    "    print(layer.get_weights())"
   ]
  },
  {
   "cell_type": "markdown",
   "metadata": {},
   "source": [
    "#### Neural Network"
   ]
  },
  {
   "cell_type": "code",
   "execution_count": null,
   "metadata": {},
   "outputs": [],
   "source": [
    "nn_model.summary()"
   ]
  },
  {
   "cell_type": "code",
   "execution_count": null,
   "metadata": {},
   "outputs": [],
   "source": [
    "nn_model.history.params"
   ]
  },
  {
   "cell_type": "code",
   "execution_count": null,
   "metadata": {},
   "outputs": [],
   "source": [
    "for layer in nn_model.layers:\n",
    "    print(layer.get_weights())"
   ]
  }
 ],
 "metadata": {
  "hide_input": false,
  "kernelspec": {
   "display_name": "Python 3",
   "language": "python",
   "name": "python3"
  },
  "language_info": {
   "codemirror_mode": {
    "name": "ipython",
    "version": 3
   },
   "file_extension": ".py",
   "mimetype": "text/x-python",
   "name": "python",
   "nbconvert_exporter": "python",
   "pygments_lexer": "ipython3",
   "version": "3.8.2"
  },
  "toc": {
   "base_numbering": 1,
   "nav_menu": {},
   "number_sections": false,
   "sideBar": true,
   "skip_h1_title": false,
   "title_cell": "Table of Contents",
   "title_sidebar": "Contents",
   "toc_cell": false,
   "toc_position": {
    "height": "calc(100% - 180px)",
    "left": "10px",
    "top": "150px",
    "width": "319px"
   },
   "toc_section_display": true,
   "toc_window_display": true
  }
 },
 "nbformat": 4,
 "nbformat_minor": 2
}
