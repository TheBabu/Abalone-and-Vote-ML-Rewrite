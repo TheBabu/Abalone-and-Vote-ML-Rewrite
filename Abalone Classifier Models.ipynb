{
 "cells": [
  {
   "cell_type": "markdown",
   "metadata": {},
   "source": [
    "### Import Libraries"
   ]
  },
  {
   "cell_type": "code",
   "execution_count": 1,
   "metadata": {},
   "outputs": [
    {
     "name": "stderr",
     "output_type": "stream",
     "text": [
      "WARNING:root:Limited tf.compat.v2.summary API due to missing TensorBoard installation.\n",
      "WARNING:root:Limited tf.compat.v2.summary API due to missing TensorBoard installation.\n",
      "WARNING:root:Limited tf.compat.v2.summary API due to missing TensorBoard installation.\n",
      "WARNING:root:Limited tf.summary API due to missing TensorBoard installation.\n"
     ]
    }
   ],
   "source": [
    "import tensorflow as tf\n",
    "import numpy as np\n",
    "import pandas as pd\n",
    "import math\n",
    "from matplotlib import pyplot as plt\n",
    "from sklearn.model_selection import train_test_split"
   ]
  },
  {
   "cell_type": "markdown",
   "metadata": {},
   "source": [
    "### Load Data"
   ]
  },
  {
   "cell_type": "code",
   "execution_count": 2,
   "metadata": {},
   "outputs": [
    {
     "data": {
      "text/html": [
       "<div>\n",
       "<style scoped>\n",
       "    .dataframe tbody tr th:only-of-type {\n",
       "        vertical-align: middle;\n",
       "    }\n",
       "\n",
       "    .dataframe tbody tr th {\n",
       "        vertical-align: top;\n",
       "    }\n",
       "\n",
       "    .dataframe thead th {\n",
       "        text-align: right;\n",
       "    }\n",
       "</style>\n",
       "<table border=\"1\" class=\"dataframe\">\n",
       "  <thead>\n",
       "    <tr style=\"text-align: right;\">\n",
       "      <th></th>\n",
       "      <th>length</th>\n",
       "      <th>diameter</th>\n",
       "      <th>height</th>\n",
       "      <th>whole-weight</th>\n",
       "      <th>shucked-weight</th>\n",
       "      <th>viscera-weight</th>\n",
       "      <th>shell-weight</th>\n",
       "      <th>rings</th>\n",
       "      <th>sex_F</th>\n",
       "      <th>sex_I</th>\n",
       "      <th>sex_M</th>\n",
       "    </tr>\n",
       "  </thead>\n",
       "  <tbody>\n",
       "    <tr>\n",
       "      <th>0</th>\n",
       "      <td>0.455</td>\n",
       "      <td>0.365</td>\n",
       "      <td>0.095</td>\n",
       "      <td>0.5140</td>\n",
       "      <td>0.2245</td>\n",
       "      <td>0.1010</td>\n",
       "      <td>0.1500</td>\n",
       "      <td>15</td>\n",
       "      <td>0</td>\n",
       "      <td>0</td>\n",
       "      <td>1</td>\n",
       "    </tr>\n",
       "    <tr>\n",
       "      <th>1</th>\n",
       "      <td>0.350</td>\n",
       "      <td>0.265</td>\n",
       "      <td>0.090</td>\n",
       "      <td>0.2255</td>\n",
       "      <td>0.0995</td>\n",
       "      <td>0.0485</td>\n",
       "      <td>0.0700</td>\n",
       "      <td>7</td>\n",
       "      <td>0</td>\n",
       "      <td>0</td>\n",
       "      <td>1</td>\n",
       "    </tr>\n",
       "    <tr>\n",
       "      <th>2</th>\n",
       "      <td>0.530</td>\n",
       "      <td>0.420</td>\n",
       "      <td>0.135</td>\n",
       "      <td>0.6770</td>\n",
       "      <td>0.2565</td>\n",
       "      <td>0.1415</td>\n",
       "      <td>0.2100</td>\n",
       "      <td>9</td>\n",
       "      <td>1</td>\n",
       "      <td>0</td>\n",
       "      <td>0</td>\n",
       "    </tr>\n",
       "    <tr>\n",
       "      <th>3</th>\n",
       "      <td>0.440</td>\n",
       "      <td>0.365</td>\n",
       "      <td>0.125</td>\n",
       "      <td>0.5160</td>\n",
       "      <td>0.2155</td>\n",
       "      <td>0.1140</td>\n",
       "      <td>0.1550</td>\n",
       "      <td>10</td>\n",
       "      <td>0</td>\n",
       "      <td>0</td>\n",
       "      <td>1</td>\n",
       "    </tr>\n",
       "    <tr>\n",
       "      <th>4</th>\n",
       "      <td>0.330</td>\n",
       "      <td>0.255</td>\n",
       "      <td>0.080</td>\n",
       "      <td>0.2050</td>\n",
       "      <td>0.0895</td>\n",
       "      <td>0.0395</td>\n",
       "      <td>0.0550</td>\n",
       "      <td>7</td>\n",
       "      <td>0</td>\n",
       "      <td>1</td>\n",
       "      <td>0</td>\n",
       "    </tr>\n",
       "    <tr>\n",
       "      <th>...</th>\n",
       "      <td>...</td>\n",
       "      <td>...</td>\n",
       "      <td>...</td>\n",
       "      <td>...</td>\n",
       "      <td>...</td>\n",
       "      <td>...</td>\n",
       "      <td>...</td>\n",
       "      <td>...</td>\n",
       "      <td>...</td>\n",
       "      <td>...</td>\n",
       "      <td>...</td>\n",
       "    </tr>\n",
       "    <tr>\n",
       "      <th>4172</th>\n",
       "      <td>0.565</td>\n",
       "      <td>0.450</td>\n",
       "      <td>0.165</td>\n",
       "      <td>0.8870</td>\n",
       "      <td>0.3700</td>\n",
       "      <td>0.2390</td>\n",
       "      <td>0.2490</td>\n",
       "      <td>11</td>\n",
       "      <td>1</td>\n",
       "      <td>0</td>\n",
       "      <td>0</td>\n",
       "    </tr>\n",
       "    <tr>\n",
       "      <th>4173</th>\n",
       "      <td>0.590</td>\n",
       "      <td>0.440</td>\n",
       "      <td>0.135</td>\n",
       "      <td>0.9660</td>\n",
       "      <td>0.4390</td>\n",
       "      <td>0.2145</td>\n",
       "      <td>0.2605</td>\n",
       "      <td>10</td>\n",
       "      <td>0</td>\n",
       "      <td>0</td>\n",
       "      <td>1</td>\n",
       "    </tr>\n",
       "    <tr>\n",
       "      <th>4174</th>\n",
       "      <td>0.600</td>\n",
       "      <td>0.475</td>\n",
       "      <td>0.205</td>\n",
       "      <td>1.1760</td>\n",
       "      <td>0.5255</td>\n",
       "      <td>0.2875</td>\n",
       "      <td>0.3080</td>\n",
       "      <td>9</td>\n",
       "      <td>0</td>\n",
       "      <td>0</td>\n",
       "      <td>1</td>\n",
       "    </tr>\n",
       "    <tr>\n",
       "      <th>4175</th>\n",
       "      <td>0.625</td>\n",
       "      <td>0.485</td>\n",
       "      <td>0.150</td>\n",
       "      <td>1.0945</td>\n",
       "      <td>0.5310</td>\n",
       "      <td>0.2610</td>\n",
       "      <td>0.2960</td>\n",
       "      <td>10</td>\n",
       "      <td>1</td>\n",
       "      <td>0</td>\n",
       "      <td>0</td>\n",
       "    </tr>\n",
       "    <tr>\n",
       "      <th>4176</th>\n",
       "      <td>0.710</td>\n",
       "      <td>0.555</td>\n",
       "      <td>0.195</td>\n",
       "      <td>1.9485</td>\n",
       "      <td>0.9455</td>\n",
       "      <td>0.3765</td>\n",
       "      <td>0.4950</td>\n",
       "      <td>12</td>\n",
       "      <td>0</td>\n",
       "      <td>0</td>\n",
       "      <td>1</td>\n",
       "    </tr>\n",
       "  </tbody>\n",
       "</table>\n",
       "<p>4177 rows × 11 columns</p>\n",
       "</div>"
      ],
      "text/plain": [
       "      length  diameter  height  whole-weight  shucked-weight  viscera-weight  \\\n",
       "0      0.455     0.365   0.095        0.5140          0.2245          0.1010   \n",
       "1      0.350     0.265   0.090        0.2255          0.0995          0.0485   \n",
       "2      0.530     0.420   0.135        0.6770          0.2565          0.1415   \n",
       "3      0.440     0.365   0.125        0.5160          0.2155          0.1140   \n",
       "4      0.330     0.255   0.080        0.2050          0.0895          0.0395   \n",
       "...      ...       ...     ...           ...             ...             ...   \n",
       "4172   0.565     0.450   0.165        0.8870          0.3700          0.2390   \n",
       "4173   0.590     0.440   0.135        0.9660          0.4390          0.2145   \n",
       "4174   0.600     0.475   0.205        1.1760          0.5255          0.2875   \n",
       "4175   0.625     0.485   0.150        1.0945          0.5310          0.2610   \n",
       "4176   0.710     0.555   0.195        1.9485          0.9455          0.3765   \n",
       "\n",
       "      shell-weight  rings  sex_F  sex_I  sex_M  \n",
       "0           0.1500     15      0      0      1  \n",
       "1           0.0700      7      0      0      1  \n",
       "2           0.2100      9      1      0      0  \n",
       "3           0.1550     10      0      0      1  \n",
       "4           0.0550      7      0      1      0  \n",
       "...            ...    ...    ...    ...    ...  \n",
       "4172        0.2490     11      1      0      0  \n",
       "4173        0.2605     10      0      0      1  \n",
       "4174        0.3080      9      0      0      1  \n",
       "4175        0.2960     10      1      0      0  \n",
       "4176        0.4950     12      0      0      1  \n",
       "\n",
       "[4177 rows x 11 columns]"
      ]
     },
     "execution_count": 2,
     "metadata": {},
     "output_type": "execute_result"
    }
   ],
   "source": [
    "dataframe = pd.read_csv(\"abalone.csv\")\n",
    "dataframe.dropna() #Removes Missing Values\n",
    "dataframe = pd.get_dummies(dataframe, columns=[\"sex\"]) #One hot encode \"sex\" label\n",
    "dataframe"
   ]
  },
  {
   "cell_type": "code",
   "execution_count": 3,
   "metadata": {},
   "outputs": [],
   "source": [
    "#Convert Dataframe to Dataset\n",
    "def df_to_ds(dataframe, selected_features, selected_targets, batch_size=32):\n",
    "    features = dataframe[selected_features]\n",
    "    targets = dataframe[selected_targets]\n",
    "    ds = tf.data.Dataset.from_tensor_slices((dict(features), np.array(targets)))\n",
    "    ds = ds.batch(batch_size)\n",
    "    return ds"
   ]
  },
  {
   "cell_type": "code",
   "execution_count": 4,
   "metadata": {},
   "outputs": [],
   "source": [
    "#Selected Features and Target\n",
    "selected_features = [\n",
    "    \"length\",\n",
    "    \"diameter\",\n",
    "    \"height\",\n",
    "    \"whole-weight\",\n",
    "    \"rings\"]\n",
    "\n",
    "selected_targets = [\"sex_M\", \"sex_F\", \"sex_I\"]\n",
    "\n",
    "#Feature Columns\n",
    "feature_columns = []    \n",
    "for f in selected_features:\n",
    "    feature_columns.append(tf.feature_column.numeric_column(f))\n",
    "\n",
    "#Create Tensorflow Datasets\n",
    "train_per = 0.6\n",
    "validation_per = 0.3\n",
    "test_per = 0.1\n",
    "batch_size = 32\n",
    "\n",
    "train_dataframe, test_dataframe = train_test_split(dataframe, test_size=test_per)\n",
    "train_dataframe, validation_dataframe = train_test_split(train_dataframe, test_size=validation_per / (1 - test_per))\n",
    "\n",
    "train_dataset = df_to_ds(\n",
    "    train_dataframe,\n",
    "    selected_features,\n",
    "    selected_targets,\n",
    "    batch_size=batch_size)\n",
    "validation_dataset = df_to_ds(\n",
    "    validation_dataframe,\n",
    "    selected_features,\n",
    "    selected_targets,\n",
    "    batch_size=batch_size)\n",
    "test_dataset = df_to_ds(\n",
    "    test_dataframe,\n",
    "    selected_features,\n",
    "    selected_targets,\n",
    "    batch_size=batch_size)"
   ]
  },
  {
   "cell_type": "markdown",
   "metadata": {},
   "source": [
    "### Create Models"
   ]
  },
  {
   "cell_type": "code",
   "execution_count": 5,
   "metadata": {},
   "outputs": [],
   "source": [
    "linear_model = tf.keras.models.Sequential([\n",
    "    tf.keras.layers.DenseFeatures(feature_columns),\n",
    "    tf.keras.layers.Dense(3, kernel_regularizer=tf.keras.regularizers.l2(0.01), bias_regularizer=tf.keras.regularizers.l2(0.01)),\n",
    "])\n",
    "\n",
    "linear_model.compile(\n",
    "    optimizer=\"adam\",\n",
    "    loss=tf.keras.losses.CategoricalCrossentropy(from_logits=True),\n",
    "    metrics=[\"accuracy\"])"
   ]
  },
  {
   "cell_type": "code",
   "execution_count": 6,
   "metadata": {},
   "outputs": [],
   "source": [
    "nn_model = tf.keras.models.Sequential([\n",
    "    tf.keras.layers.DenseFeatures(feature_columns),\n",
    "    tf.keras.layers.Dense(10, activation=tf.nn.leaky_relu, kernel_regularizer=tf.keras.regularizers.l2(0.01), bias_regularizer=tf.keras.regularizers.l2(0.01)),\n",
    "    tf.keras.layers.Dense(5, activation=tf.nn.leaky_relu, kernel_regularizer=tf.keras.regularizers.l2(0.01), bias_regularizer=tf.keras.regularizers.l2(0.01)),\n",
    "    tf.keras.layers.Dense(3),\n",
    "])\n",
    "\n",
    "nn_model.compile(\n",
    "    optimizer=\"adam\",\n",
    "    loss=tf.keras.losses.CategoricalCrossentropy(from_logits=True),\n",
    "    metrics=[\"accuracy\"])"
   ]
  },
  {
   "cell_type": "markdown",
   "metadata": {},
   "source": [
    "### Train Models"
   ]
  },
  {
   "cell_type": "code",
   "execution_count": 7,
   "metadata": {},
   "outputs": [],
   "source": [
    "def plot_loss(model):\n",
    "    plt.ylabel(\"Loss\")\n",
    "    plt.xlabel(\"Epochs\")\n",
    "    plt.tight_layout()\n",
    "    plt.plot(model.history.history[\"loss\"], label=\"loss\")\n",
    "    if(\"val_loss\" in model.history.history.keys()):\n",
    "        plt.plot(model.history.history[\"val_loss\"], label=\"val_loss\")\n",
    "    plt.legend()\n",
    "    plt.show()"
   ]
  },
  {
   "cell_type": "code",
   "execution_count": 8,
   "metadata": {},
   "outputs": [],
   "source": [
    "def plot_accuracy(model):\n",
    "    plt.ylabel(\"Accuracy\")\n",
    "    plt.xlabel(\"Epochs\")\n",
    "    plt.tight_layout()\n",
    "    plt.plot(model.history.history[\"accuracy\"], label=\"accuracy\")\n",
    "    if(\"val_accuracy\" in model.history.history.keys()):\n",
    "        plt.plot(model.history.history[\"val_accuracy\"], label=\"val_accuracy\")\n",
    "    plt.legend()\n",
    "    plt.show()"
   ]
  },
  {
   "cell_type": "code",
   "execution_count": 9,
   "metadata": {
    "scrolled": false
   },
   "outputs": [
    {
     "name": "stdout",
     "output_type": "stream",
     "text": [
      "Epoch 1/30\n",
      "WARNING:tensorflow:Layer dense_features is casting an input tensor from dtype float64 to the layer's dtype of float32, which is new behavior in TensorFlow 2.  The layer has dtype float32 because it's dtype defaults to floatx.\n",
      "\n",
      "If you intended to run this layer in float32, you can safely ignore this warning. If in doubt, this warning is likely only an issue if you are porting a TensorFlow 1.X model to TensorFlow 2.\n",
      "\n",
      "To change all layers to have dtype float64 by default, call `tf.keras.backend.set_floatx('float64')`. To change just this layer, pass dtype='float64' to the layer constructor. If you are the author of this layer, you can disable autocasting by passing autocast=False to the base Layer constructor.\n",
      "\n"
     ]
    },
    {
     "name": "stderr",
     "output_type": "stream",
     "text": [
      "WARNING:tensorflow:Layer dense_features is casting an input tensor from dtype float64 to the layer's dtype of float32, which is new behavior in TensorFlow 2.  The layer has dtype float32 because it's dtype defaults to floatx.\n",
      "\n",
      "If you intended to run this layer in float32, you can safely ignore this warning. If in doubt, this warning is likely only an issue if you are porting a TensorFlow 1.X model to TensorFlow 2.\n",
      "\n",
      "To change all layers to have dtype float64 by default, call `tf.keras.backend.set_floatx('float64')`. To change just this layer, pass dtype='float64' to the layer constructor. If you are the author of this layer, you can disable autocasting by passing autocast=False to the base Layer constructor.\n",
      "\n"
     ]
    },
    {
     "name": "stdout",
     "output_type": "stream",
     "text": [
      "79/79 - 1s - loss: 4.1146 - accuracy: 0.3057 - val_loss: 3.5947 - val_accuracy: 0.3288\n",
      "Epoch 2/30\n",
      "79/79 - 0s - loss: 3.3878 - accuracy: 0.3065 - val_loss: 2.9316 - val_accuracy: 0.3296\n",
      "Epoch 3/30\n",
      "79/79 - 0s - loss: 2.6905 - accuracy: 0.3089 - val_loss: 2.2715 - val_accuracy: 0.3328\n",
      "Epoch 4/30\n",
      "79/79 - 0s - loss: 2.0194 - accuracy: 0.3152 - val_loss: 1.6716 - val_accuracy: 0.3400\n",
      "Epoch 5/30\n",
      "79/79 - 0s - loss: 1.4782 - accuracy: 0.3272 - val_loss: 1.2795 - val_accuracy: 0.3520\n",
      "Epoch 6/30\n",
      "79/79 - 0s - loss: 1.2079 - accuracy: 0.3727 - val_loss: 1.1563 - val_accuracy: 0.4070\n",
      "Epoch 7/30\n",
      "79/79 - 0s - loss: 1.1398 - accuracy: 0.4206 - val_loss: 1.1345 - val_accuracy: 0.4302\n",
      "Epoch 8/30\n",
      "79/79 - 1s - loss: 1.1238 - accuracy: 0.4505 - val_loss: 1.1250 - val_accuracy: 0.4421\n",
      "Epoch 9/30\n",
      "79/79 - 0s - loss: 1.1140 - accuracy: 0.4621 - val_loss: 1.1162 - val_accuracy: 0.4637\n",
      "Epoch 10/30\n",
      "79/79 - 0s - loss: 1.1049 - accuracy: 0.4713 - val_loss: 1.1075 - val_accuracy: 0.4765\n",
      "Epoch 11/30\n",
      "79/79 - 0s - loss: 1.0961 - accuracy: 0.4745 - val_loss: 1.0991 - val_accuracy: 0.4820\n",
      "Epoch 12/30\n",
      "79/79 - 0s - loss: 1.0877 - accuracy: 0.4773 - val_loss: 1.0910 - val_accuracy: 0.4932\n",
      "Epoch 13/30\n",
      "79/79 - 0s - loss: 1.0797 - accuracy: 0.4832 - val_loss: 1.0832 - val_accuracy: 0.4916\n",
      "Epoch 14/30\n",
      "79/79 - 1s - loss: 1.0720 - accuracy: 0.4872 - val_loss: 1.0759 - val_accuracy: 0.4948\n",
      "Epoch 15/30\n",
      "79/79 - 0s - loss: 1.0647 - accuracy: 0.4928 - val_loss: 1.0688 - val_accuracy: 0.4980\n",
      "Epoch 16/30\n",
      "79/79 - 0s - loss: 1.0577 - accuracy: 0.4972 - val_loss: 1.0622 - val_accuracy: 0.5076\n",
      "Epoch 17/30\n",
      "79/79 - 0s - loss: 1.0511 - accuracy: 0.4988 - val_loss: 1.0559 - val_accuracy: 0.5116\n",
      "Epoch 18/30\n",
      "79/79 - 0s - loss: 1.0449 - accuracy: 0.5020 - val_loss: 1.0499 - val_accuracy: 0.5116\n",
      "Epoch 19/30\n",
      "79/79 - 1s - loss: 1.0390 - accuracy: 0.5032 - val_loss: 1.0443 - val_accuracy: 0.5116\n",
      "Epoch 20/30\n",
      "79/79 - 0s - loss: 1.0335 - accuracy: 0.5060 - val_loss: 1.0390 - val_accuracy: 0.5156\n",
      "Epoch 21/30\n",
      "79/79 - 0s - loss: 1.0283 - accuracy: 0.5092 - val_loss: 1.0341 - val_accuracy: 0.5156\n",
      "Epoch 22/30\n",
      "79/79 - 0s - loss: 1.0234 - accuracy: 0.5112 - val_loss: 1.0294 - val_accuracy: 0.5140\n",
      "Epoch 23/30\n",
      "79/79 - 0s - loss: 1.0189 - accuracy: 0.5144 - val_loss: 1.0251 - val_accuracy: 0.5132\n",
      "Epoch 24/30\n",
      "79/79 - 0s - loss: 1.0147 - accuracy: 0.5164 - val_loss: 1.0211 - val_accuracy: 0.5172\n",
      "Epoch 25/30\n",
      "79/79 - 0s - loss: 1.0107 - accuracy: 0.5172 - val_loss: 1.0174 - val_accuracy: 0.5164\n",
      "Epoch 26/30\n",
      "79/79 - 0s - loss: 1.0071 - accuracy: 0.5184 - val_loss: 1.0139 - val_accuracy: 0.5188\n",
      "Epoch 27/30\n",
      "79/79 - 0s - loss: 1.0037 - accuracy: 0.5204 - val_loss: 1.0107 - val_accuracy: 0.5188\n",
      "Epoch 28/30\n",
      "79/79 - 0s - loss: 1.0006 - accuracy: 0.5227 - val_loss: 1.0077 - val_accuracy: 0.5164\n",
      "Epoch 29/30\n",
      "79/79 - 0s - loss: 0.9977 - accuracy: 0.5235 - val_loss: 1.0050 - val_accuracy: 0.5172\n",
      "Epoch 30/30\n",
      "79/79 - 0s - loss: 0.9950 - accuracy: 0.5255 - val_loss: 1.0025 - val_accuracy: 0.5204\n"
     ]
    },
    {
     "data": {
      "image/png": "[encoded data removed]",
      "text/plain": [
       "<Figure size 432x288 with 1 Axes>"
      ]
     },
     "metadata": {
      "needs_background": "light"
     },
     "output_type": "display_data"
    },
    {
     "data": {
      "image/png": "[encoded data removed]",
      "text/plain": [
       "<Figure size 432x288 with 1 Axes>"
      ]
     },
     "metadata": {
      "needs_background": "light"
     },
     "output_type": "display_data"
    }
   ],
   "source": [
    "linear_model.fit(train_dataset, validation_data=validation_dataset, epochs=30, verbose=2)\n",
    "\n",
    "plot_loss(linear_model)\n",
    "plot_accuracy(linear_model)"
   ]
  },
  {
   "cell_type": "code",
   "execution_count": 10,
   "metadata": {
    "scrolled": false
   },
   "outputs": [
    {
     "name": "stdout",
     "output_type": "stream",
     "text": [
      "Epoch 1/30\n",
      "WARNING:tensorflow:Layer dense_features_1 is casting an input tensor from dtype float64 to the layer's dtype of float32, which is new behavior in TensorFlow 2.  The layer has dtype float32 because it's dtype defaults to floatx.\n",
      "\n",
      "If you intended to run this layer in float32, you can safely ignore this warning. If in doubt, this warning is likely only an issue if you are porting a TensorFlow 1.X model to TensorFlow 2.\n",
      "\n",
      "To change all layers to have dtype float64 by default, call `tf.keras.backend.set_floatx('float64')`. To change just this layer, pass dtype='float64' to the layer constructor. If you are the author of this layer, you can disable autocasting by passing autocast=False to the base Layer constructor.\n",
      "\n"
     ]
    },
    {
     "name": "stderr",
     "output_type": "stream",
     "text": [
      "WARNING:tensorflow:Layer dense_features_1 is casting an input tensor from dtype float64 to the layer's dtype of float32, which is new behavior in TensorFlow 2.  The layer has dtype float32 because it's dtype defaults to floatx.\n",
      "\n",
      "If you intended to run this layer in float32, you can safely ignore this warning. If in doubt, this warning is likely only an issue if you are porting a TensorFlow 1.X model to TensorFlow 2.\n",
      "\n",
      "To change all layers to have dtype float64 by default, call `tf.keras.backend.set_floatx('float64')`. To change just this layer, pass dtype='float64' to the layer constructor. If you are the author of this layer, you can disable autocasting by passing autocast=False to the base Layer constructor.\n",
      "\n"
     ]
    },
    {
     "name": "stdout",
     "output_type": "stream",
     "text": [
      "79/79 - 1s - loss: 1.2750 - accuracy: 0.3631 - val_loss: 1.1911 - val_accuracy: 0.3496\n",
      "Epoch 2/30\n",
      "79/79 - 0s - loss: 1.1787 - accuracy: 0.3703 - val_loss: 1.1694 - val_accuracy: 0.3536\n",
      "Epoch 3/30\n",
      "79/79 - 0s - loss: 1.1575 - accuracy: 0.3974 - val_loss: 1.1494 - val_accuracy: 0.3847\n",
      "Epoch 4/30\n",
      "79/79 - 1s - loss: 1.1375 - accuracy: 0.4274 - val_loss: 1.1306 - val_accuracy: 0.4166\n",
      "Epoch 5/30\n",
      "79/79 - 1s - loss: 1.1187 - accuracy: 0.4641 - val_loss: 1.1129 - val_accuracy: 0.4453\n",
      "Epoch 6/30\n",
      "79/79 - 0s - loss: 1.1008 - accuracy: 0.4904 - val_loss: 1.0959 - val_accuracy: 0.4693\n",
      "Epoch 7/30\n",
      "79/79 - 0s - loss: 1.0835 - accuracy: 0.5088 - val_loss: 1.0795 - val_accuracy: 0.5012\n",
      "Epoch 8/30\n",
      "79/79 - 0s - loss: 1.0668 - accuracy: 0.5168 - val_loss: 1.0638 - val_accuracy: 0.5092\n",
      "Epoch 9/30\n",
      "79/79 - 0s - loss: 1.0508 - accuracy: 0.5200 - val_loss: 1.0487 - val_accuracy: 0.5124\n",
      "Epoch 10/30\n",
      "79/79 - 1s - loss: 1.0357 - accuracy: 0.5259 - val_loss: 1.0347 - val_accuracy: 0.5148\n",
      "Epoch 11/30\n",
      "79/79 - 0s - loss: 1.0217 - accuracy: 0.5275 - val_loss: 1.0218 - val_accuracy: 0.5227\n",
      "Epoch 12/30\n",
      "79/79 - 0s - loss: 1.0091 - accuracy: 0.5279 - val_loss: 1.0106 - val_accuracy: 0.5283\n",
      "Epoch 13/30\n",
      "79/79 - 0s - loss: 0.9980 - accuracy: 0.5255 - val_loss: 1.0009 - val_accuracy: 0.5291\n",
      "Epoch 14/30\n",
      "79/79 - 0s - loss: 0.9885 - accuracy: 0.5275 - val_loss: 0.9929 - val_accuracy: 0.5291\n",
      "Epoch 15/30\n",
      "79/79 - 0s - loss: 0.9805 - accuracy: 0.5291 - val_loss: 0.9864 - val_accuracy: 0.5307\n",
      "Epoch 16/30\n",
      "79/79 - 0s - loss: 0.9740 - accuracy: 0.5291 - val_loss: 0.9811 - val_accuracy: 0.5275\n",
      "Epoch 17/30\n",
      "79/79 - 0s - loss: 0.9686 - accuracy: 0.5275 - val_loss: 0.9769 - val_accuracy: 0.5267\n",
      "Epoch 18/30\n",
      "79/79 - 0s - loss: 0.9642 - accuracy: 0.5251 - val_loss: 0.9735 - val_accuracy: 0.5243\n",
      "Epoch 19/30\n",
      "79/79 - 1s - loss: 0.9605 - accuracy: 0.5255 - val_loss: 0.9708 - val_accuracy: 0.5219\n",
      "Epoch 20/30\n",
      "79/79 - 0s - loss: 0.9575 - accuracy: 0.5251 - val_loss: 0.9685 - val_accuracy: 0.5251\n",
      "Epoch 21/30\n",
      "79/79 - 0s - loss: 0.9549 - accuracy: 0.5267 - val_loss: 0.9666 - val_accuracy: 0.5251\n",
      "Epoch 22/30\n",
      "79/79 - 0s - loss: 0.9527 - accuracy: 0.5267 - val_loss: 0.9649 - val_accuracy: 0.5259\n",
      "Epoch 23/30\n",
      "79/79 - 0s - loss: 0.9507 - accuracy: 0.5247 - val_loss: 0.9634 - val_accuracy: 0.5267\n",
      "Epoch 24/30\n",
      "79/79 - 1s - loss: 0.9490 - accuracy: 0.5267 - val_loss: 0.9621 - val_accuracy: 0.5259\n",
      "Epoch 25/30\n",
      "79/79 - 1s - loss: 0.9474 - accuracy: 0.5271 - val_loss: 0.9610 - val_accuracy: 0.5259\n",
      "Epoch 26/30\n",
      "79/79 - 1s - loss: 0.9460 - accuracy: 0.5287 - val_loss: 0.9599 - val_accuracy: 0.5251\n",
      "Epoch 27/30\n",
      "79/79 - 1s - loss: 0.9447 - accuracy: 0.5287 - val_loss: 0.9589 - val_accuracy: 0.5251\n",
      "Epoch 28/30\n",
      "79/79 - 0s - loss: 0.9435 - accuracy: 0.5287 - val_loss: 0.9579 - val_accuracy: 0.5243\n",
      "Epoch 29/30\n",
      "79/79 - 1s - loss: 0.9424 - accuracy: 0.5299 - val_loss: 0.9570 - val_accuracy: 0.5235\n",
      "Epoch 30/30\n",
      "79/79 - 0s - loss: 0.9413 - accuracy: 0.5307 - val_loss: 0.9562 - val_accuracy: 0.5227\n"
     ]
    },
    {
     "data": {
      "image/png": "[encoded data removed]",
      "text/plain": [
       "<Figure size 432x288 with 1 Axes>"
      ]
     },
     "metadata": {
      "needs_background": "light"
     },
     "output_type": "display_data"
    },
    {
     "data": {
      "image/png": "[encoded data removed]",
      "text/plain": [
       "<Figure size 432x288 with 1 Axes>"
      ]
     },
     "metadata": {
      "needs_background": "light"
     },
     "output_type": "display_data"
    }
   ],
   "source": [
    "nn_model.fit(train_dataset, validation_data=validation_dataset, epochs=30, verbose=2)\n",
    "\n",
    "plot_loss(nn_model)\n",
    "plot_accuracy(nn_model)"
   ]
  },
  {
   "cell_type": "markdown",
   "metadata": {},
   "source": [
    "### Evaluation"
   ]
  },
  {
   "cell_type": "code",
   "execution_count": 11,
   "metadata": {},
   "outputs": [
    {
     "name": "stdout",
     "output_type": "stream",
     "text": [
      "14/14 [==============================] - 0s 3ms/step - loss: 1.0181 - accuracy: 0.5215\n"
     ]
    },
    {
     "data": {
      "text/plain": [
       "[1.0181225538253784, 0.5215311050415039]"
      ]
     },
     "execution_count": 11,
     "metadata": {},
     "output_type": "execute_result"
    }
   ],
   "source": [
    "linear_model.evaluate(test_dataset)"
   ]
  },
  {
   "cell_type": "code",
   "execution_count": 12,
   "metadata": {},
   "outputs": [
    {
     "name": "stdout",
     "output_type": "stream",
     "text": [
      "14/14 [==============================] - 0s 4ms/step - loss: 0.9523 - accuracy: 0.5455\n"
     ]
    },
    {
     "data": {
      "text/plain": [
       "[0.952333927154541, 0.5454545617103577]"
      ]
     },
     "execution_count": 12,
     "metadata": {},
     "output_type": "execute_result"
    }
   ],
   "source": [
    "nn_model.evaluate(test_dataset)"
   ]
  },
  {
   "cell_type": "markdown",
   "metadata": {},
   "source": [
    "### Predictions"
   ]
  },
  {
   "cell_type": "code",
   "execution_count": 13,
   "metadata": {},
   "outputs": [],
   "source": [
    "labels = test_dataframe[selected_targets].reset_index(drop=True)"
   ]
  },
  {
   "cell_type": "code",
   "execution_count": 14,
   "metadata": {},
   "outputs": [
    {
     "data": {
      "text/html": [
       "<div>\n",
       "<style scoped>\n",
       "    .dataframe tbody tr th:only-of-type {\n",
       "        vertical-align: middle;\n",
       "    }\n",
       "\n",
       "    .dataframe tbody tr th {\n",
       "        vertical-align: top;\n",
       "    }\n",
       "\n",
       "    .dataframe thead th {\n",
       "        text-align: right;\n",
       "    }\n",
       "</style>\n",
       "<table border=\"1\" class=\"dataframe\">\n",
       "  <thead>\n",
       "    <tr style=\"text-align: right;\">\n",
       "      <th></th>\n",
       "      <th>probability_M</th>\n",
       "      <th>probability_F</th>\n",
       "      <th>probability_I</th>\n",
       "      <th>label_M</th>\n",
       "      <th>label_F</th>\n",
       "      <th>label_I</th>\n",
       "      <th>correct</th>\n",
       "    </tr>\n",
       "  </thead>\n",
       "  <tbody>\n",
       "    <tr>\n",
       "      <th>0</th>\n",
       "      <td>0.503934</td>\n",
       "      <td>0.311863</td>\n",
       "      <td>0.184203</td>\n",
       "      <td>0</td>\n",
       "      <td>1</td>\n",
       "      <td>0</td>\n",
       "      <td>False</td>\n",
       "    </tr>\n",
       "    <tr>\n",
       "      <th>1</th>\n",
       "      <td>0.457625</td>\n",
       "      <td>0.356216</td>\n",
       "      <td>0.186158</td>\n",
       "      <td>1</td>\n",
       "      <td>0</td>\n",
       "      <td>0</td>\n",
       "      <td>True</td>\n",
       "    </tr>\n",
       "    <tr>\n",
       "      <th>2</th>\n",
       "      <td>0.210545</td>\n",
       "      <td>0.385155</td>\n",
       "      <td>0.404300</td>\n",
       "      <td>1</td>\n",
       "      <td>0</td>\n",
       "      <td>0</td>\n",
       "      <td>False</td>\n",
       "    </tr>\n",
       "    <tr>\n",
       "      <th>3</th>\n",
       "      <td>0.359325</td>\n",
       "      <td>0.320830</td>\n",
       "      <td>0.319845</td>\n",
       "      <td>1</td>\n",
       "      <td>0</td>\n",
       "      <td>0</td>\n",
       "      <td>True</td>\n",
       "    </tr>\n",
       "    <tr>\n",
       "      <th>4</th>\n",
       "      <td>0.275598</td>\n",
       "      <td>0.215368</td>\n",
       "      <td>0.509034</td>\n",
       "      <td>0</td>\n",
       "      <td>0</td>\n",
       "      <td>1</td>\n",
       "      <td>True</td>\n",
       "    </tr>\n",
       "    <tr>\n",
       "      <th>...</th>\n",
       "      <td>...</td>\n",
       "      <td>...</td>\n",
       "      <td>...</td>\n",
       "      <td>...</td>\n",
       "      <td>...</td>\n",
       "      <td>...</td>\n",
       "      <td>...</td>\n",
       "    </tr>\n",
       "    <tr>\n",
       "      <th>413</th>\n",
       "      <td>0.272583</td>\n",
       "      <td>0.399285</td>\n",
       "      <td>0.328132</td>\n",
       "      <td>1</td>\n",
       "      <td>0</td>\n",
       "      <td>0</td>\n",
       "      <td>False</td>\n",
       "    </tr>\n",
       "    <tr>\n",
       "      <th>414</th>\n",
       "      <td>0.157087</td>\n",
       "      <td>0.631675</td>\n",
       "      <td>0.211238</td>\n",
       "      <td>0</td>\n",
       "      <td>1</td>\n",
       "      <td>0</td>\n",
       "      <td>True</td>\n",
       "    </tr>\n",
       "    <tr>\n",
       "      <th>415</th>\n",
       "      <td>0.437910</td>\n",
       "      <td>0.353321</td>\n",
       "      <td>0.208768</td>\n",
       "      <td>0</td>\n",
       "      <td>1</td>\n",
       "      <td>0</td>\n",
       "      <td>False</td>\n",
       "    </tr>\n",
       "    <tr>\n",
       "      <th>416</th>\n",
       "      <td>0.579883</td>\n",
       "      <td>0.352001</td>\n",
       "      <td>0.068116</td>\n",
       "      <td>0</td>\n",
       "      <td>1</td>\n",
       "      <td>0</td>\n",
       "      <td>False</td>\n",
       "    </tr>\n",
       "    <tr>\n",
       "      <th>417</th>\n",
       "      <td>0.541012</td>\n",
       "      <td>0.331619</td>\n",
       "      <td>0.127369</td>\n",
       "      <td>0</td>\n",
       "      <td>1</td>\n",
       "      <td>0</td>\n",
       "      <td>False</td>\n",
       "    </tr>\n",
       "  </tbody>\n",
       "</table>\n",
       "<p>418 rows × 7 columns</p>\n",
       "</div>"
      ],
      "text/plain": [
       "     probability_M  probability_F  probability_I  label_M  label_F  label_I  \\\n",
       "0         0.503934       0.311863       0.184203        0        1        0   \n",
       "1         0.457625       0.356216       0.186158        1        0        0   \n",
       "2         0.210545       0.385155       0.404300        1        0        0   \n",
       "3         0.359325       0.320830       0.319845        1        0        0   \n",
       "4         0.275598       0.215368       0.509034        0        0        1   \n",
       "..             ...            ...            ...      ...      ...      ...   \n",
       "413       0.272583       0.399285       0.328132        1        0        0   \n",
       "414       0.157087       0.631675       0.211238        0        1        0   \n",
       "415       0.437910       0.353321       0.208768        0        1        0   \n",
       "416       0.579883       0.352001       0.068116        0        1        0   \n",
       "417       0.541012       0.331619       0.127369        0        1        0   \n",
       "\n",
       "     correct  \n",
       "0      False  \n",
       "1       True  \n",
       "2      False  \n",
       "3       True  \n",
       "4       True  \n",
       "..       ...  \n",
       "413    False  \n",
       "414     True  \n",
       "415    False  \n",
       "416    False  \n",
       "417    False  \n",
       "\n",
       "[418 rows x 7 columns]"
      ]
     },
     "execution_count": 14,
     "metadata": {},
     "output_type": "execute_result"
    }
   ],
   "source": [
    "linear_predictions = pd.DataFrame(tf.nn.softmax(linear_model.predict(test_dataset)).numpy()).join(labels)\n",
    "linear_predictions.columns = [\"probability_M\", \"probability_F\", \"probability_I\", \"label_M\", \"label_F\", \"label_I\"]\n",
    "\n",
    "linear_prediction_values = linear_predictions[list(linear_predictions.columns[0:3])].idxmax(axis=1).apply(lambda x : linear_predictions.columns.get_loc(x) + 3)\n",
    "linear_label_values = linear_predictions[list(linear_predictions.columns[3:6])].idxmax(axis=1).apply(lambda x : linear_predictions.columns.get_loc(x))\n",
    "\n",
    "linear_predictions[\"correct\"] = linear_prediction_values.combine(linear_label_values, lambda x, y : x == y)\n",
    "\n",
    "linear_predictions"
   ]
  },
  {
   "cell_type": "code",
   "execution_count": 15,
   "metadata": {},
   "outputs": [
    {
     "data": {
      "text/html": [
       "<div>\n",
       "<style scoped>\n",
       "    .dataframe tbody tr th:only-of-type {\n",
       "        vertical-align: middle;\n",
       "    }\n",
       "\n",
       "    .dataframe tbody tr th {\n",
       "        vertical-align: top;\n",
       "    }\n",
       "\n",
       "    .dataframe thead th {\n",
       "        text-align: right;\n",
       "    }\n",
       "</style>\n",
       "<table border=\"1\" class=\"dataframe\">\n",
       "  <thead>\n",
       "    <tr style=\"text-align: right;\">\n",
       "      <th></th>\n",
       "      <th>probability_M</th>\n",
       "      <th>probability_F</th>\n",
       "      <th>probability_I</th>\n",
       "      <th>label_M</th>\n",
       "      <th>label_F</th>\n",
       "      <th>label_I</th>\n",
       "      <th>correct</th>\n",
       "    </tr>\n",
       "  </thead>\n",
       "  <tbody>\n",
       "    <tr>\n",
       "      <th>0</th>\n",
       "      <td>0.443852</td>\n",
       "      <td>0.397481</td>\n",
       "      <td>0.158666</td>\n",
       "      <td>0</td>\n",
       "      <td>1</td>\n",
       "      <td>0</td>\n",
       "      <td>False</td>\n",
       "    </tr>\n",
       "    <tr>\n",
       "      <th>1</th>\n",
       "      <td>0.450890</td>\n",
       "      <td>0.431569</td>\n",
       "      <td>0.117541</td>\n",
       "      <td>1</td>\n",
       "      <td>0</td>\n",
       "      <td>0</td>\n",
       "      <td>True</td>\n",
       "    </tr>\n",
       "    <tr>\n",
       "      <th>2</th>\n",
       "      <td>0.338051</td>\n",
       "      <td>0.308853</td>\n",
       "      <td>0.353096</td>\n",
       "      <td>1</td>\n",
       "      <td>0</td>\n",
       "      <td>0</td>\n",
       "      <td>False</td>\n",
       "    </tr>\n",
       "    <tr>\n",
       "      <th>3</th>\n",
       "      <td>0.343462</td>\n",
       "      <td>0.284161</td>\n",
       "      <td>0.372376</td>\n",
       "      <td>1</td>\n",
       "      <td>0</td>\n",
       "      <td>0</td>\n",
       "      <td>False</td>\n",
       "    </tr>\n",
       "    <tr>\n",
       "      <th>4</th>\n",
       "      <td>0.103805</td>\n",
       "      <td>0.066679</td>\n",
       "      <td>0.829516</td>\n",
       "      <td>0</td>\n",
       "      <td>0</td>\n",
       "      <td>1</td>\n",
       "      <td>True</td>\n",
       "    </tr>\n",
       "    <tr>\n",
       "      <th>...</th>\n",
       "      <td>...</td>\n",
       "      <td>...</td>\n",
       "      <td>...</td>\n",
       "      <td>...</td>\n",
       "      <td>...</td>\n",
       "      <td>...</td>\n",
       "      <td>...</td>\n",
       "    </tr>\n",
       "    <tr>\n",
       "      <th>413</th>\n",
       "      <td>0.387737</td>\n",
       "      <td>0.363649</td>\n",
       "      <td>0.248614</td>\n",
       "      <td>1</td>\n",
       "      <td>0</td>\n",
       "      <td>0</td>\n",
       "      <td>True</td>\n",
       "    </tr>\n",
       "    <tr>\n",
       "      <th>414</th>\n",
       "      <td>0.407574</td>\n",
       "      <td>0.564141</td>\n",
       "      <td>0.028285</td>\n",
       "      <td>0</td>\n",
       "      <td>1</td>\n",
       "      <td>0</td>\n",
       "      <td>True</td>\n",
       "    </tr>\n",
       "    <tr>\n",
       "      <th>415</th>\n",
       "      <td>0.441027</td>\n",
       "      <td>0.412756</td>\n",
       "      <td>0.146217</td>\n",
       "      <td>0</td>\n",
       "      <td>1</td>\n",
       "      <td>0</td>\n",
       "      <td>False</td>\n",
       "    </tr>\n",
       "    <tr>\n",
       "      <th>416</th>\n",
       "      <td>0.442171</td>\n",
       "      <td>0.540728</td>\n",
       "      <td>0.017101</td>\n",
       "      <td>0</td>\n",
       "      <td>1</td>\n",
       "      <td>0</td>\n",
       "      <td>True</td>\n",
       "    </tr>\n",
       "    <tr>\n",
       "      <th>417</th>\n",
       "      <td>0.468275</td>\n",
       "      <td>0.465589</td>\n",
       "      <td>0.066135</td>\n",
       "      <td>0</td>\n",
       "      <td>1</td>\n",
       "      <td>0</td>\n",
       "      <td>False</td>\n",
       "    </tr>\n",
       "  </tbody>\n",
       "</table>\n",
       "<p>418 rows × 7 columns</p>\n",
       "</div>"
      ],
      "text/plain": [
       "     probability_M  probability_F  probability_I  label_M  label_F  label_I  \\\n",
       "0         0.443852       0.397481       0.158666        0        1        0   \n",
       "1         0.450890       0.431569       0.117541        1        0        0   \n",
       "2         0.338051       0.308853       0.353096        1        0        0   \n",
       "3         0.343462       0.284161       0.372376        1        0        0   \n",
       "4         0.103805       0.066679       0.829516        0        0        1   \n",
       "..             ...            ...            ...      ...      ...      ...   \n",
       "413       0.387737       0.363649       0.248614        1        0        0   \n",
       "414       0.407574       0.564141       0.028285        0        1        0   \n",
       "415       0.441027       0.412756       0.146217        0        1        0   \n",
       "416       0.442171       0.540728       0.017101        0        1        0   \n",
       "417       0.468275       0.465589       0.066135        0        1        0   \n",
       "\n",
       "     correct  \n",
       "0      False  \n",
       "1       True  \n",
       "2      False  \n",
       "3      False  \n",
       "4       True  \n",
       "..       ...  \n",
       "413     True  \n",
       "414     True  \n",
       "415    False  \n",
       "416     True  \n",
       "417    False  \n",
       "\n",
       "[418 rows x 7 columns]"
      ]
     },
     "execution_count": 15,
     "metadata": {},
     "output_type": "execute_result"
    }
   ],
   "source": [
    "nn_predictions = pd.DataFrame(tf.nn.softmax(nn_model.predict(test_dataset)).numpy()).join(labels)\n",
    "nn_predictions.columns = [\"probability_M\", \"probability_F\", \"probability_I\", \"label_M\", \"label_F\", \"label_I\"]\n",
    "\n",
    "nn_prediction_values = nn_predictions[list(linear_predictions.columns[0:3])].idxmax(axis=1).apply(lambda x : nn_predictions.columns.get_loc(x) + 3)\n",
    "nn_label_values = nn_predictions[list(linear_predictions.columns[3:6])].idxmax(axis=1).apply(lambda x : nn_predictions.columns.get_loc(x))\n",
    "\n",
    "nn_predictions[\"correct\"] = nn_prediction_values.combine(nn_label_values, lambda x, y : x == y)\n",
    "\n",
    "nn_predictions"
   ]
  },
  {
   "cell_type": "markdown",
   "metadata": {},
   "source": [
    "### Backend"
   ]
  },
  {
   "cell_type": "markdown",
   "metadata": {},
   "source": [
    "#### Linear"
   ]
  },
  {
   "cell_type": "code",
   "execution_count": 16,
   "metadata": {},
   "outputs": [
    {
     "name": "stdout",
     "output_type": "stream",
     "text": [
      "Model: \"sequential\"\n",
      "_________________________________________________________________\n",
      "Layer (type)                 Output Shape              Param #   \n",
      "=================================================================\n",
      "dense_features (DenseFeature multiple                  0         \n",
      "_________________________________________________________________\n",
      "dense (Dense)                multiple                  18        \n",
      "=================================================================\n",
      "Total params: 18\n",
      "Trainable params: 18\n",
      "Non-trainable params: 0\n",
      "_________________________________________________________________\n"
     ]
    }
   ],
   "source": [
    "linear_model.summary()"
   ]
  },
  {
   "cell_type": "code",
   "execution_count": 17,
   "metadata": {},
   "outputs": [
    {
     "data": {
      "text/plain": [
       "{'verbose': 0, 'epochs': 1, 'steps': 14}"
      ]
     },
     "execution_count": 17,
     "metadata": {},
     "output_type": "execute_result"
    }
   ],
   "source": [
    "linear_model.history.params"
   ]
  },
  {
   "cell_type": "code",
   "execution_count": 18,
   "metadata": {},
   "outputs": [
    {
     "name": "stdout",
     "output_type": "stream",
     "text": [
      "[]\n",
      "[array([[ 0.09471987, -0.06621363, -0.18520254],\n",
      "       [-0.06769063, -0.09046798,  0.03226322],\n",
      "       [-0.23516457, -0.6222926 , -0.11612412],\n",
      "       [ 0.20086633,  0.31227303,  0.24919458],\n",
      "       [ 0.5445405 ,  0.13760315, -1.2213475 ]], dtype=float32), array([ 0.07729705, -0.5183568 ,  0.6852512 ], dtype=float32)]\n"
     ]
    }
   ],
   "source": [
    "for layer in linear_model.layers:\n",
    "    print(layer.get_weights())"
   ]
  },
  {
   "cell_type": "markdown",
   "metadata": {},
   "source": [
    "#### Neural Network"
   ]
  },
  {
   "cell_type": "code",
   "execution_count": 19,
   "metadata": {},
   "outputs": [
    {
     "name": "stdout",
     "output_type": "stream",
     "text": [
      "Model: \"sequential_1\"\n",
      "_________________________________________________________________\n",
      "Layer (type)                 Output Shape              Param #   \n",
      "=================================================================\n",
      "dense_features_1 (DenseFeatu multiple                  0         \n",
      "_________________________________________________________________\n",
      "dense_1 (Dense)              multiple                  60        \n",
      "_________________________________________________________________\n",
      "dense_2 (Dense)              multiple                  55        \n",
      "_________________________________________________________________\n",
      "dense_3 (Dense)              multiple                  18        \n",
      "=================================================================\n",
      "Total params: 133\n",
      "Trainable params: 133\n",
      "Non-trainable params: 0\n",
      "_________________________________________________________________\n"
     ]
    }
   ],
   "source": [
    "nn_model.summary()"
   ]
  },
  {
   "cell_type": "code",
   "execution_count": 20,
   "metadata": {},
   "outputs": [
    {
     "data": {
      "text/plain": [
       "{'verbose': 0, 'epochs': 1, 'steps': 14}"
      ]
     },
     "execution_count": 20,
     "metadata": {},
     "output_type": "execute_result"
    }
   ],
   "source": [
    "nn_model.history.params"
   ]
  },
  {
   "cell_type": "code",
   "execution_count": 21,
   "metadata": {},
   "outputs": [
    {
     "name": "stdout",
     "output_type": "stream",
     "text": [
      "[]\n",
      "[array([[ 4.9615483e-04,  2.1188786e-04,  3.1133149e-02,  3.3226185e-03,\n",
      "        -9.0388529e-04,  4.8603461e-04,  3.8842421e-02, -7.6830588e-02,\n",
      "         8.5574435e-03,  7.3211975e-02],\n",
      "       [-2.0668420e-05,  1.6970988e-04, -2.8357729e-02,  4.3228660e-03,\n",
      "         9.7615179e-03,  1.6595911e-03,  2.0137724e-02,  1.4548169e-02,\n",
      "         9.4628148e-03, -2.4476405e-02],\n",
      "       [ 9.8274520e-04,  1.5011040e-04,  3.1053768e-02, -4.4218156e-02,\n",
      "         1.2890395e-02, -1.8632247e-03, -1.1392124e-03, -5.2631583e-02,\n",
      "         5.6942411e-02, -4.1063454e-02],\n",
      "       [-2.6117971e-02, -1.3539839e-02,  1.0106543e-01,  4.0775791e-01,\n",
      "         4.0028834e-01, -1.2107486e-01,  3.2556482e-02,  1.9613278e-01,\n",
      "         5.8671308e-01,  3.9831257e-01],\n",
      "       [-5.5113593e-03,  2.6217280e-03, -5.8851826e-01, -3.6156602e-02,\n",
      "         2.0652294e-01,  3.1096494e-02,  5.3792781e-01,  5.3424078e-01,\n",
      "         2.6215521e-01, -6.2834388e-01]], dtype=float32), array([ 0.00818526, -0.00109343,  0.39425996, -0.03634096, -0.12516703,\n",
      "       -0.02501977, -0.27520546, -0.40458727, -0.16977774,  0.35710976],\n",
      "      dtype=float32)]\n",
      "[array([[ 2.42853886e-04, -1.99289876e-03, -1.38614224e-02,\n",
      "         1.27670616e-02,  3.26015940e-03],\n",
      "       [-3.37254372e-04, -9.29551781e-04, -4.34609683e-04,\n",
      "        -8.72208737e-03,  1.54589745e-03],\n",
      "       [ 4.28979322e-02, -2.35257298e-02, -3.73977810e-01,\n",
      "         4.22787249e-01,  1.81406811e-01],\n",
      "       [-1.76282272e-01, -2.93998718e-01,  5.08011639e-01,\n",
      "         4.41147089e-01, -1.81049660e-01],\n",
      "       [-1.12766609e-01, -3.40881258e-01,  5.21626949e-01,\n",
      "         2.63856679e-01, -1.67583287e-01],\n",
      "       [ 6.52975054e-04, -3.93704715e-04,  1.18266389e-01,\n",
      "        -6.61443174e-02, -2.67980993e-02],\n",
      "       [-4.51867767e-02, -1.76488198e-02,  2.21870691e-01,\n",
      "        -5.89691639e-01, -1.05017856e-01],\n",
      "       [-2.47481521e-02,  1.04239576e-01,  3.74233246e-01,\n",
      "        -4.03733671e-01, -3.37222070e-01],\n",
      "       [-2.06221640e-01, -1.66196749e-01, -7.55799785e-02,\n",
      "        -4.57584321e-01,  2.66027719e-01],\n",
      "       [ 1.33149490e-01,  2.56665915e-01, -4.14353609e-01,\n",
      "         2.52770722e-01,  2.27080703e-01]], dtype=float32), array([ 0.04492726, -0.05081431, -0.36963895,  0.38583305,  0.20695378],\n",
      "      dtype=float32)]\n",
      "[array([[-0.5977879 , -0.46255964,  0.12321994],\n",
      "       [-0.95735514,  0.01884231, -0.45430875],\n",
      "       [ 0.1408109 ,  0.5248184 , -0.81568086],\n",
      "       [-1.1045455 , -0.8785264 ,  0.60093147],\n",
      "       [-0.32233346, -0.7655582 , -0.11772333]], dtype=float32), array([-0.09381579, -0.37567857,  0.42206043], dtype=float32)]\n"
     ]
    }
   ],
   "source": [
    "for layer in nn_model.layers:\n",
    "    print(layer.get_weights())"
   ]
  }
 ],
 "metadata": {
  "hide_input": false,
  "kernelspec": {
   "display_name": "Python 3",
   "language": "python",
   "name": "python3"
  },
  "language_info": {
   "codemirror_mode": {
    "name": "ipython",
    "version": 3
   },
   "file_extension": ".py",
   "mimetype": "text/x-python",
   "name": "python",
   "nbconvert_exporter": "python",
   "pygments_lexer": "ipython3",
   "version": "3.8.2"
  },
  "toc": {
   "base_numbering": 1,
   "nav_menu": {},
   "number_sections": false,
   "sideBar": true,
   "skip_h1_title": false,
   "title_cell": "Table of Contents",
   "title_sidebar": "Contents",
   "toc_cell": false,
   "toc_position": {
    "height": "calc(100% - 180px)",
    "left": "10px",
    "top": "150px",
    "width": "319px"
   },
   "toc_section_display": true,
   "toc_window_display": true
  }
 },
 "nbformat": 4,
 "nbformat_minor": 2
}
