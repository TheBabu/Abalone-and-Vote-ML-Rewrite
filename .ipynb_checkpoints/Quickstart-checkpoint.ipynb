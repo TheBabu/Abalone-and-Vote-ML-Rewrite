{
 "cells": [
  {
   "cell_type": "markdown",
   "metadata": {},
   "source": [
    "### Import Libraries"
   ]
  },
  {
   "cell_type": "code",
   "execution_count": 17,
   "metadata": {},
   "outputs": [],
   "source": [
    "import tensorflow as tf\n",
    "import numpy as np"
   ]
  },
  {
   "cell_type": "markdown",
   "metadata": {},
   "source": [
    "### Load Data"
   ]
  },
  {
   "cell_type": "code",
   "execution_count": 3,
   "metadata": {},
   "outputs": [],
   "source": [
    "mnist = tf.keras.datasets.mnist\n",
    "\n",
    "test = mnist.load_data()\n",
    "\n",
    "(x_train, y_train), (x_test, y_test) = mnist.load_data()\n",
    "\n",
    "#Divide by 255, to get values of 0 to 1\n",
    "x_train, x_test = x_train / 255.0, x_test / 255.0"
   ]
  },
  {
   "cell_type": "markdown",
   "metadata": {},
   "source": [
    "### Create Model"
   ]
  },
  {
   "cell_type": "code",
   "execution_count": 4,
   "metadata": {
    "scrolled": true
   },
   "outputs": [],
   "source": [
    "model = tf.keras.models.Sequential([\n",
    "    tf.keras.layers.Flatten(input_shape=(28, 28)),\n",
    "    tf.keras.layers.Dense(128, activation=\"relu\"),\n",
    "    tf.keras.layers.Dropout(0.2),\n",
    "    tf.keras.layers.Dense(10)\n",
    "])"
   ]
  },
  {
   "cell_type": "markdown",
   "metadata": {},
   "source": [
    "### Stats Before"
   ]
  },
  {
   "cell_type": "code",
   "execution_count": 5,
   "metadata": {},
   "outputs": [
    {
     "data": {
      "text/plain": [
       "array([[ 0.02161467,  0.7478225 ,  0.25820798,  0.44656834, -0.11072849,\n",
       "        -0.44395545,  0.08517149,  0.76583064, -1.0535663 , -0.7207897 ]],\n",
       "      dtype=float32)"
      ]
     },
     "execution_count": 5,
     "metadata": {},
     "output_type": "execute_result"
    }
   ],
   "source": [
    "#Predictions Before\n",
    "predictions = model.predict(x_train[:1])\n",
    "predictions"
   ]
  },
  {
   "cell_type": "code",
   "execution_count": 6,
   "metadata": {},
   "outputs": [
    {
     "data": {
      "text/plain": [
       "array([[0.08806613, 0.18205264, 0.11157324, 0.13469887, 0.07714948,\n",
       "        0.0552859 , 0.09384503, 0.18536076, 0.03005133, 0.04191668]],\n",
       "      dtype=float32)"
      ]
     },
     "execution_count": 6,
     "metadata": {},
     "output_type": "execute_result"
    }
   ],
   "source": [
    "#Softmax Function to convert into probabilites\n",
    "tf.nn.softmax(predictions).numpy()"
   ]
  },
  {
   "cell_type": "code",
   "execution_count": 7,
   "metadata": {},
   "outputs": [
    {
     "data": {
      "text/plain": [
       "2.8952374"
      ]
     },
     "execution_count": 7,
     "metadata": {},
     "output_type": "execute_result"
    }
   ],
   "source": [
    "#Loss Before\n",
    "loss_fn = tf.keras.losses.SparseCategoricalCrossentropy(from_logits = True)\n",
    "loss_fn(y_train[0], predictions).numpy()"
   ]
  },
  {
   "cell_type": "markdown",
   "metadata": {},
   "source": [
    "### Train and Evaluate Model"
   ]
  },
  {
   "cell_type": "code",
   "execution_count": 8,
   "metadata": {},
   "outputs": [
    {
     "name": "stdout",
     "output_type": "stream",
     "text": [
      "Train on 60000 samples\n",
      "Epoch 1/5\n",
      "60000/60000 [==============================] - 21s 355us/sample - loss: 0.2983 - accuracy: 0.9131\n",
      "Epoch 2/5\n",
      "60000/60000 [==============================] - 19s 325us/sample - loss: 0.1434 - accuracy: 0.9571\n",
      "Epoch 3/5\n",
      "60000/60000 [==============================] - 22s 363us/sample - loss: 0.1081 - accuracy: 0.9674\n",
      "Epoch 4/5\n",
      "60000/60000 [==============================] - 22s 362us/sample - loss: 0.0877 - accuracy: 0.9724\n",
      "Epoch 5/5\n",
      "60000/60000 [==============================] - 26s 432us/sample - loss: 0.0750 - accuracy: 0.9765\n"
     ]
    },
    {
     "data": {
      "text/plain": [
       "<tensorflow.python.keras.callbacks.History at 0x7efdd43ae820>"
      ]
     },
     "execution_count": 8,
     "metadata": {},
     "output_type": "execute_result"
    }
   ],
   "source": [
    "#Train Model\n",
    "model.compile(optimizer=\"adam\",\n",
    "              loss=loss_fn,\n",
    "              metrics=[\"accuracy\"])\n",
    "\n",
    "model.fit(x_train, y_train, epochs=5)"
   ]
  },
  {
   "cell_type": "code",
   "execution_count": 9,
   "metadata": {},
   "outputs": [
    {
     "name": "stdout",
     "output_type": "stream",
     "text": [
      "10000/10000 [==============================] - 2s 202us/sample - loss: 0.0686 - accuracy: 0.9791\n"
     ]
    },
    {
     "data": {
      "text/plain": [
       "[0.06864728200174867, 0.9791]"
      ]
     },
     "execution_count": 9,
     "metadata": {},
     "output_type": "execute_result"
    }
   ],
   "source": [
    "model.evaluate(x_test, y_test)"
   ]
  },
  {
   "cell_type": "code",
   "execution_count": 10,
   "metadata": {},
   "outputs": [],
   "source": [
    "probability_model = tf.keras.models.Sequential([\n",
    "    model,\n",
    "    tf.keras.layers.Softmax()\n",
    "])"
   ]
  },
  {
   "cell_type": "code",
   "execution_count": 11,
   "metadata": {},
   "outputs": [
    {
     "data": {
      "text/plain": [
       "array([[1.3118053e-08, 3.0364564e-08, 4.8595211e-05, 3.3773659e-04,\n",
       "        1.2479434e-11, 1.2937316e-07, 7.0809023e-12, 9.9961323e-01,\n",
       "        6.4040208e-08, 3.0396563e-07],\n",
       "       [1.5240433e-07, 2.6936070e-05, 9.9996853e-01, 3.1917943e-06,\n",
       "        5.8489882e-15, 1.5002978e-07, 8.2598817e-09, 5.6357422e-15,\n",
       "        1.0449161e-06, 3.6602262e-14],\n",
       "       [2.9648131e-06, 9.9762279e-01, 1.2171783e-04, 1.6479866e-05,\n",
       "        3.2703832e-04, 3.7397706e-06, 4.1023923e-05, 1.7892608e-03,\n",
       "        7.4775431e-05, 1.8354872e-07],\n",
       "       [9.9895060e-01, 1.3655882e-08, 1.7048573e-04, 1.0463469e-06,\n",
       "        3.3586659e-06, 5.7694060e-06, 7.2137662e-04, 7.8539706e-05,\n",
       "        2.4942415e-07, 6.8553083e-05],\n",
       "       [3.6150675e-06, 2.7996270e-09, 2.1794724e-05, 3.3324002e-07,\n",
       "        9.8608184e-01, 1.5638307e-07, 6.4702831e-06, 6.7647641e-05,\n",
       "        2.8949210e-06, 1.3815347e-02]], dtype=float32)"
      ]
     },
     "execution_count": 11,
     "metadata": {},
     "output_type": "execute_result"
    }
   ],
   "source": [
    "probability_model.predict(x_test[:5])"
   ]
  },
  {
   "cell_type": "markdown",
   "metadata": {},
   "source": [
    "### Stats After"
   ]
  },
  {
   "cell_type": "code",
   "execution_count": 12,
   "metadata": {},
   "outputs": [
    {
     "data": {
      "text/plain": [
       "array([[-12.674194 ,  -5.100444 ,  -6.5844016,   8.925458 , -30.685854 ,\n",
       "         12.927702 , -15.736921 , -10.454159 ,  -8.875283 ,  -4.107866 ]],\n",
       "      dtype=float32)"
      ]
     },
     "execution_count": 12,
     "metadata": {},
     "output_type": "execute_result"
    }
   ],
   "source": [
    "#Predictions After\n",
    "predictions = model.predict(x_train[:1])\n",
    "predictions"
   ]
  },
  {
   "cell_type": "code",
   "execution_count": 13,
   "metadata": {},
   "outputs": [
    {
     "data": {
      "text/plain": [
       "array([[7.4708989e-12, 1.4541569e-08, 3.2971295e-09, 1.7946618e-02,\n",
       "        1.1246267e-19, 9.8205340e-01, 3.4933926e-13, 6.8789481e-11,\n",
       "        3.3359424e-10, 3.9235736e-08]], dtype=float32)"
      ]
     },
     "execution_count": 13,
     "metadata": {},
     "output_type": "execute_result"
    }
   ],
   "source": [
    "#Softmax Function to convert into probabilites\n",
    "tf.nn.softmax(predictions).numpy()"
   ]
  },
  {
   "cell_type": "code",
   "execution_count": 16,
   "metadata": {},
   "outputs": [
    {
     "data": {
      "text/plain": [
       "0.018109573"
      ]
     },
     "execution_count": 16,
     "metadata": {},
     "output_type": "execute_result"
    }
   ],
   "source": [
    "#Loss After\n",
    "loss_fn = tf.keras.losses.SparseCategoricalCrossentropy(from_logits=True)\n",
    "loss_fn(y_train[0], predictions).numpy()"
   ]
  }
 ],
 "metadata": {
  "kernelspec": {
   "display_name": "Python 3",
   "language": "python",
   "name": "python3"
  },
  "language_info": {
   "codemirror_mode": {
    "name": "ipython",
    "version": 3
   },
   "file_extension": ".py",
   "mimetype": "text/x-python",
   "name": "python",
   "nbconvert_exporter": "python",
   "pygments_lexer": "ipython3",
   "version": "3.8.2"
  },
  "toc": {
   "base_numbering": 1,
   "nav_menu": {},
   "number_sections": false,
   "sideBar": true,
   "skip_h1_title": false,
   "title_cell": "Table of Contents",
   "title_sidebar": "Contents",
   "toc_cell": false,
   "toc_position": {},
   "toc_section_display": true,
   "toc_window_display": false
  }
 },
 "nbformat": 4,
 "nbformat_minor": 2
}
