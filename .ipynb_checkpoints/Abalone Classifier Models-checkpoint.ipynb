{
 "cells": [
  {
   "cell_type": "markdown",
   "metadata": {},
   "source": [
    "### Import Libraries"
   ]
  },
  {
   "cell_type": "code",
   "execution_count": 1,
   "metadata": {},
   "outputs": [
    {
     "name": "stderr",
     "output_type": "stream",
     "text": [
      "WARNING:root:Limited tf.compat.v2.summary API due to missing TensorBoard installation.\n",
      "WARNING:root:Limited tf.compat.v2.summary API due to missing TensorBoard installation.\n",
      "WARNING:root:Limited tf.compat.v2.summary API due to missing TensorBoard installation.\n",
      "WARNING:root:Limited tf.summary API due to missing TensorBoard installation.\n"
     ]
    }
   ],
   "source": [
    "import tensorflow as tf\n",
    "import numpy as np\n",
    "import pandas as pd\n",
    "import math\n",
    "from matplotlib import pyplot as plt\n",
    "from sklearn.model_selection import train_test_split"
   ]
  },
  {
   "cell_type": "markdown",
   "metadata": {},
   "source": [
    "### Load Data"
   ]
  },
  {
   "cell_type": "code",
   "execution_count": 25,
   "metadata": {},
   "outputs": [
    {
     "data": {
      "text/html": [
       "<div>\n",
       "<style scoped>\n",
       "    .dataframe tbody tr th:only-of-type {\n",
       "        vertical-align: middle;\n",
       "    }\n",
       "\n",
       "    .dataframe tbody tr th {\n",
       "        vertical-align: top;\n",
       "    }\n",
       "\n",
       "    .dataframe thead th {\n",
       "        text-align: right;\n",
       "    }\n",
       "</style>\n",
       "<table border=\"1\" class=\"dataframe\">\n",
       "  <thead>\n",
       "    <tr style=\"text-align: right;\">\n",
       "      <th></th>\n",
       "      <th>length</th>\n",
       "      <th>diameter</th>\n",
       "      <th>height</th>\n",
       "      <th>whole-weight</th>\n",
       "      <th>shucked-weight</th>\n",
       "      <th>viscera-weight</th>\n",
       "      <th>shell-weight</th>\n",
       "      <th>rings</th>\n",
       "      <th>sex_F</th>\n",
       "      <th>sex_I</th>\n",
       "      <th>sex_M</th>\n",
       "    </tr>\n",
       "  </thead>\n",
       "  <tbody>\n",
       "    <tr>\n",
       "      <th>0</th>\n",
       "      <td>0.455</td>\n",
       "      <td>0.365</td>\n",
       "      <td>0.095</td>\n",
       "      <td>0.5140</td>\n",
       "      <td>0.2245</td>\n",
       "      <td>0.1010</td>\n",
       "      <td>0.1500</td>\n",
       "      <td>15</td>\n",
       "      <td>0</td>\n",
       "      <td>0</td>\n",
       "      <td>1</td>\n",
       "    </tr>\n",
       "    <tr>\n",
       "      <th>1</th>\n",
       "      <td>0.350</td>\n",
       "      <td>0.265</td>\n",
       "      <td>0.090</td>\n",
       "      <td>0.2255</td>\n",
       "      <td>0.0995</td>\n",
       "      <td>0.0485</td>\n",
       "      <td>0.0700</td>\n",
       "      <td>7</td>\n",
       "      <td>0</td>\n",
       "      <td>0</td>\n",
       "      <td>1</td>\n",
       "    </tr>\n",
       "    <tr>\n",
       "      <th>2</th>\n",
       "      <td>0.530</td>\n",
       "      <td>0.420</td>\n",
       "      <td>0.135</td>\n",
       "      <td>0.6770</td>\n",
       "      <td>0.2565</td>\n",
       "      <td>0.1415</td>\n",
       "      <td>0.2100</td>\n",
       "      <td>9</td>\n",
       "      <td>1</td>\n",
       "      <td>0</td>\n",
       "      <td>0</td>\n",
       "    </tr>\n",
       "    <tr>\n",
       "      <th>3</th>\n",
       "      <td>0.440</td>\n",
       "      <td>0.365</td>\n",
       "      <td>0.125</td>\n",
       "      <td>0.5160</td>\n",
       "      <td>0.2155</td>\n",
       "      <td>0.1140</td>\n",
       "      <td>0.1550</td>\n",
       "      <td>10</td>\n",
       "      <td>0</td>\n",
       "      <td>0</td>\n",
       "      <td>1</td>\n",
       "    </tr>\n",
       "    <tr>\n",
       "      <th>4</th>\n",
       "      <td>0.330</td>\n",
       "      <td>0.255</td>\n",
       "      <td>0.080</td>\n",
       "      <td>0.2050</td>\n",
       "      <td>0.0895</td>\n",
       "      <td>0.0395</td>\n",
       "      <td>0.0550</td>\n",
       "      <td>7</td>\n",
       "      <td>0</td>\n",
       "      <td>1</td>\n",
       "      <td>0</td>\n",
       "    </tr>\n",
       "    <tr>\n",
       "      <th>...</th>\n",
       "      <td>...</td>\n",
       "      <td>...</td>\n",
       "      <td>...</td>\n",
       "      <td>...</td>\n",
       "      <td>...</td>\n",
       "      <td>...</td>\n",
       "      <td>...</td>\n",
       "      <td>...</td>\n",
       "      <td>...</td>\n",
       "      <td>...</td>\n",
       "      <td>...</td>\n",
       "    </tr>\n",
       "    <tr>\n",
       "      <th>4172</th>\n",
       "      <td>0.565</td>\n",
       "      <td>0.450</td>\n",
       "      <td>0.165</td>\n",
       "      <td>0.8870</td>\n",
       "      <td>0.3700</td>\n",
       "      <td>0.2390</td>\n",
       "      <td>0.2490</td>\n",
       "      <td>11</td>\n",
       "      <td>1</td>\n",
       "      <td>0</td>\n",
       "      <td>0</td>\n",
       "    </tr>\n",
       "    <tr>\n",
       "      <th>4173</th>\n",
       "      <td>0.590</td>\n",
       "      <td>0.440</td>\n",
       "      <td>0.135</td>\n",
       "      <td>0.9660</td>\n",
       "      <td>0.4390</td>\n",
       "      <td>0.2145</td>\n",
       "      <td>0.2605</td>\n",
       "      <td>10</td>\n",
       "      <td>0</td>\n",
       "      <td>0</td>\n",
       "      <td>1</td>\n",
       "    </tr>\n",
       "    <tr>\n",
       "      <th>4174</th>\n",
       "      <td>0.600</td>\n",
       "      <td>0.475</td>\n",
       "      <td>0.205</td>\n",
       "      <td>1.1760</td>\n",
       "      <td>0.5255</td>\n",
       "      <td>0.2875</td>\n",
       "      <td>0.3080</td>\n",
       "      <td>9</td>\n",
       "      <td>0</td>\n",
       "      <td>0</td>\n",
       "      <td>1</td>\n",
       "    </tr>\n",
       "    <tr>\n",
       "      <th>4175</th>\n",
       "      <td>0.625</td>\n",
       "      <td>0.485</td>\n",
       "      <td>0.150</td>\n",
       "      <td>1.0945</td>\n",
       "      <td>0.5310</td>\n",
       "      <td>0.2610</td>\n",
       "      <td>0.2960</td>\n",
       "      <td>10</td>\n",
       "      <td>1</td>\n",
       "      <td>0</td>\n",
       "      <td>0</td>\n",
       "    </tr>\n",
       "    <tr>\n",
       "      <th>4176</th>\n",
       "      <td>0.710</td>\n",
       "      <td>0.555</td>\n",
       "      <td>0.195</td>\n",
       "      <td>1.9485</td>\n",
       "      <td>0.9455</td>\n",
       "      <td>0.3765</td>\n",
       "      <td>0.4950</td>\n",
       "      <td>12</td>\n",
       "      <td>0</td>\n",
       "      <td>0</td>\n",
       "      <td>1</td>\n",
       "    </tr>\n",
       "  </tbody>\n",
       "</table>\n",
       "<p>4177 rows × 11 columns</p>\n",
       "</div>"
      ],
      "text/plain": [
       "      length  diameter  height  whole-weight  shucked-weight  viscera-weight  \\\n",
       "0      0.455     0.365   0.095        0.5140          0.2245          0.1010   \n",
       "1      0.350     0.265   0.090        0.2255          0.0995          0.0485   \n",
       "2      0.530     0.420   0.135        0.6770          0.2565          0.1415   \n",
       "3      0.440     0.365   0.125        0.5160          0.2155          0.1140   \n",
       "4      0.330     0.255   0.080        0.2050          0.0895          0.0395   \n",
       "...      ...       ...     ...           ...             ...             ...   \n",
       "4172   0.565     0.450   0.165        0.8870          0.3700          0.2390   \n",
       "4173   0.590     0.440   0.135        0.9660          0.4390          0.2145   \n",
       "4174   0.600     0.475   0.205        1.1760          0.5255          0.2875   \n",
       "4175   0.625     0.485   0.150        1.0945          0.5310          0.2610   \n",
       "4176   0.710     0.555   0.195        1.9485          0.9455          0.3765   \n",
       "\n",
       "      shell-weight  rings  sex_F  sex_I  sex_M  \n",
       "0           0.1500     15      0      0      1  \n",
       "1           0.0700      7      0      0      1  \n",
       "2           0.2100      9      1      0      0  \n",
       "3           0.1550     10      0      0      1  \n",
       "4           0.0550      7      0      1      0  \n",
       "...            ...    ...    ...    ...    ...  \n",
       "4172        0.2490     11      1      0      0  \n",
       "4173        0.2605     10      0      0      1  \n",
       "4174        0.3080      9      0      0      1  \n",
       "4175        0.2960     10      1      0      0  \n",
       "4176        0.4950     12      0      0      1  \n",
       "\n",
       "[4177 rows x 11 columns]"
      ]
     },
     "execution_count": 25,
     "metadata": {},
     "output_type": "execute_result"
    }
   ],
   "source": [
    "dataframe = pd.read_csv(\"abalone.csv\")\n",
    "dataframe.dropna() #Removes Missing Values\n",
    "dataframe = pd.get_dummies(dataframe, columns=[\"sex\"]) #One hot encode \"sex\" label\n",
    "dataframe"
   ]
  },
  {
   "cell_type": "code",
   "execution_count": 3,
   "metadata": {},
   "outputs": [],
   "source": [
    "#Convert Dataframe to Dataset\n",
    "def df_to_ds(dataframe, selected_features, selected_targets, batch_size=32):\n",
    "    features = dataframe[selected_features]\n",
    "    targets = dataframe[selected_targets]\n",
    "    ds = tf.data.Dataset.from_tensor_slices((dict(features), np.array(targets)))\n",
    "    ds = ds.batch(batch_size)\n",
    "    return ds"
   ]
  },
  {
   "cell_type": "code",
   "execution_count": 5,
   "metadata": {},
   "outputs": [],
   "source": [
    "#Selected Features and Target\n",
    "selected_features = [\n",
    "    \"length\",\n",
    "    \"diameter\",\n",
    "    \"height\",\n",
    "    \"whole-weight\",\n",
    "    \"rings\"]\n",
    "\n",
    "selected_targets = [\"sex_M\", \"sex_F\", \"sex_I\"]\n",
    "\n",
    "#Feature Columns\n",
    "feature_columns = [\n",
    "    tf.feature_column.numeric_column(\"length\"),\n",
    "    tf.feature_column.numeric_column(\"diameter\"),\n",
    "    tf.feature_column.numeric_column(\"height\"),\n",
    "    tf.feature_column.numeric_column(\"rings\")\n",
    "]\n",
    "\n",
    "#Create Tensorflow Datasets\n",
    "train_per = 0.6\n",
    "validation_per = 0.3\n",
    "test_per = 0.1\n",
    "batch_size = 32\n",
    "\n",
    "train_dataframe, test_dataframe = train_test_split(dataframe, test_size=test_per)\n",
    "train_dataframe, validation_dataframe = train_test_split(train_dataframe, test_size=validation_per / (1 - test_per))\n",
    "\n",
    "train_dataset = df_to_ds(\n",
    "    train_dataframe,\n",
    "    selected_features,\n",
    "    selected_targets,\n",
    "    batch_size=batch_size)\n",
    "validation_dataset = df_to_ds(\n",
    "    validation_dataframe,\n",
    "    selected_features,\n",
    "    selected_targets,\n",
    "    batch_size=batch_size)\n",
    "test_dataset = df_to_ds(\n",
    "    test_dataframe,\n",
    "    selected_features,\n",
    "    selected_targets,\n",
    "    batch_size=batch_size)"
   ]
  },
  {
   "cell_type": "markdown",
   "metadata": {},
   "source": [
    "### Create Models"
   ]
  },
  {
   "cell_type": "code",
   "execution_count": 6,
   "metadata": {},
   "outputs": [],
   "source": [
    "linear_model = tf.keras.models.Sequential([\n",
    "    tf.keras.layers.DenseFeatures(feature_columns),\n",
    "    tf.keras.layers.Dense(3, kernel_regularizer=tf.keras.regularizers.l2(0.01), bias_regularizer=tf.keras.regularizers.l2(0.01)),\n",
    "])\n",
    "\n",
    "linear_model.compile(\n",
    "    optimizer=\"adam\",\n",
    "    loss=tf.keras.losses.CategoricalCrossentropy(from_logits=True),\n",
    "    metrics=[\"accuracy\"])"
   ]
  },
  {
   "cell_type": "code",
   "execution_count": 7,
   "metadata": {},
   "outputs": [],
   "source": [
    "nn_model = tf.keras.models.Sequential([\n",
    "    tf.keras.layers.DenseFeatures(feature_columns),\n",
    "    tf.keras.layers.Dense(10, activation=tf.nn.leaky_relu, kernel_regularizer=tf.keras.regularizers.l2(0.01), bias_regularizer=tf.keras.regularizers.l2(0.01)),\n",
    "    tf.keras.layers.Dense(5, activation=tf.nn.leaky_relu, kernel_regularizer=tf.keras.regularizers.l2(0.01), bias_regularizer=tf.keras.regularizers.l2(0.01)),\n",
    "    tf.keras.layers.Dense(3),\n",
    "])\n",
    "\n",
    "nn_model.compile(\n",
    "    optimizer=\"adam\",\n",
    "    loss=tf.keras.losses.CategoricalCrossentropy(from_logits=True),\n",
    "    metrics=[\"accuracy\"])"
   ]
  },
  {
   "cell_type": "markdown",
   "metadata": {},
   "source": [
    "### Train Models"
   ]
  },
  {
   "cell_type": "code",
   "execution_count": 8,
   "metadata": {},
   "outputs": [],
   "source": [
    "def plot_loss(model):\n",
    "    plt.ylabel(\"Loss\")\n",
    "    plt.xlabel(\"Epochs\")\n",
    "    plt.tight_layout()\n",
    "    plt.plot(model.history.history[\"loss\"], label=\"loss\")\n",
    "    if(\"val_loss\" in model.history.history.keys()):\n",
    "        plt.plot(model.history.history[\"val_loss\"], label=\"val_loss\")\n",
    "    plt.legend()\n",
    "    plt.show()"
   ]
  },
  {
   "cell_type": "code",
   "execution_count": 9,
   "metadata": {},
   "outputs": [],
   "source": [
    "def plot_accuracy(model):\n",
    "    plt.ylabel(\"Accuracy\")\n",
    "    plt.xlabel(\"Epochs\")\n",
    "    plt.tight_layout()\n",
    "    plt.plot(model.history.history[\"accuracy\"], label=\"accuracy\")\n",
    "    if(\"val_accuracy\" in model.history.history.keys()):\n",
    "        plt.plot(model.history.history[\"val_accuracy\"], label=\"val_accuracy\")\n",
    "    plt.legend()\n",
    "    plt.show()"
   ]
  },
  {
   "cell_type": "code",
   "execution_count": 10,
   "metadata": {
    "scrolled": false
   },
   "outputs": [
    {
     "name": "stdout",
     "output_type": "stream",
     "text": [
      "Epoch 1/30\n",
      "WARNING:tensorflow:Layer dense_features is casting an input tensor from dtype float64 to the layer's dtype of float32, which is new behavior in TensorFlow 2.  The layer has dtype float32 because it's dtype defaults to floatx.\n",
      "\n",
      "If you intended to run this layer in float32, you can safely ignore this warning. If in doubt, this warning is likely only an issue if you are porting a TensorFlow 1.X model to TensorFlow 2.\n",
      "\n",
      "To change all layers to have dtype float64 by default, call `tf.keras.backend.set_floatx('float64')`. To change just this layer, pass dtype='float64' to the layer constructor. If you are the author of this layer, you can disable autocasting by passing autocast=False to the base Layer constructor.\n",
      "\n"
     ]
    },
    {
     "name": "stderr",
     "output_type": "stream",
     "text": [
      "WARNING:tensorflow:Layer dense_features is casting an input tensor from dtype float64 to the layer's dtype of float32, which is new behavior in TensorFlow 2.  The layer has dtype float32 because it's dtype defaults to floatx.\n",
      "\n",
      "If you intended to run this layer in float32, you can safely ignore this warning. If in doubt, this warning is likely only an issue if you are porting a TensorFlow 1.X model to TensorFlow 2.\n",
      "\n",
      "To change all layers to have dtype float64 by default, call `tf.keras.backend.set_floatx('float64')`. To change just this layer, pass dtype='float64' to the layer constructor. If you are the author of this layer, you can disable autocasting by passing autocast=False to the base Layer constructor.\n",
      "\n"
     ]
    },
    {
     "name": "stdout",
     "output_type": "stream",
     "text": [
      "79/79 - 3s - loss: 2.6022 - accuracy: 0.2933 - val_loss: 2.2211 - val_accuracy: 0.3041\n",
      "Epoch 2/30\n",
      "79/79 - 2s - loss: 1.9354 - accuracy: 0.2985 - val_loss: 1.6065 - val_accuracy: 0.2985\n",
      "Epoch 3/30\n",
      "79/79 - 1s - loss: 1.4049 - accuracy: 0.3045 - val_loss: 1.2201 - val_accuracy: 0.3057\n",
      "Epoch 4/30\n",
      "79/79 - 2s - loss: 1.1676 - accuracy: 0.3105 - val_loss: 1.1297 - val_accuracy: 0.3551\n",
      "Epoch 5/30\n",
      "79/79 - 2s - loss: 1.1292 - accuracy: 0.3587 - val_loss: 1.1213 - val_accuracy: 0.3647\n",
      "Epoch 6/30\n",
      "79/79 - 1s - loss: 1.1236 - accuracy: 0.3595 - val_loss: 1.1173 - val_accuracy: 0.3639\n",
      "Epoch 7/30\n",
      "79/79 - 1s - loss: 1.1195 - accuracy: 0.3595 - val_loss: 1.1134 - val_accuracy: 0.3639\n",
      "Epoch 8/30\n",
      "79/79 - 1s - loss: 1.1155 - accuracy: 0.3615 - val_loss: 1.1096 - val_accuracy: 0.3639\n",
      "Epoch 9/30\n",
      "79/79 - 1s - loss: 1.1116 - accuracy: 0.3615 - val_loss: 1.1059 - val_accuracy: 0.3647\n",
      "Epoch 10/30\n",
      "79/79 - 2s - loss: 1.1077 - accuracy: 0.3623 - val_loss: 1.1022 - val_accuracy: 0.3647\n",
      "Epoch 11/30\n",
      "79/79 - 2s - loss: 1.1040 - accuracy: 0.3623 - val_loss: 1.0986 - val_accuracy: 0.3647\n",
      "Epoch 12/30\n",
      "79/79 - 2s - loss: 1.1003 - accuracy: 0.3619 - val_loss: 1.0952 - val_accuracy: 0.3639\n",
      "Epoch 13/30\n",
      "79/79 - 1s - loss: 1.0968 - accuracy: 0.3623 - val_loss: 1.0919 - val_accuracy: 0.3623\n",
      "Epoch 14/30\n",
      "79/79 - 1s - loss: 1.0934 - accuracy: 0.3623 - val_loss: 1.0887 - val_accuracy: 0.3639\n",
      "Epoch 15/30\n",
      "79/79 - 1s - loss: 1.0901 - accuracy: 0.3631 - val_loss: 1.0856 - val_accuracy: 0.3663\n",
      "Epoch 16/30\n",
      "79/79 - 1s - loss: 1.0869 - accuracy: 0.3647 - val_loss: 1.0826 - val_accuracy: 0.3647\n",
      "Epoch 17/30\n",
      "79/79 - 1s - loss: 1.0839 - accuracy: 0.3695 - val_loss: 1.0798 - val_accuracy: 0.3735\n",
      "Epoch 18/30\n",
      "79/79 - 1s - loss: 1.0810 - accuracy: 0.3743 - val_loss: 1.0771 - val_accuracy: 0.3759\n",
      "Epoch 19/30\n",
      "79/79 - 2s - loss: 1.0782 - accuracy: 0.3839 - val_loss: 1.0746 - val_accuracy: 0.3895\n",
      "Epoch 20/30\n",
      "79/79 - 2s - loss: 1.0756 - accuracy: 0.3947 - val_loss: 1.0721 - val_accuracy: 0.3974\n",
      "Epoch 21/30\n",
      "79/79 - 2s - loss: 1.0731 - accuracy: 0.4002 - val_loss: 1.0698 - val_accuracy: 0.4014\n",
      "Epoch 22/30\n",
      "79/79 - 2s - loss: 1.0707 - accuracy: 0.4146 - val_loss: 1.0676 - val_accuracy: 0.4174\n",
      "Epoch 23/30\n",
      "79/79 - 2s - loss: 1.0684 - accuracy: 0.4282 - val_loss: 1.0655 - val_accuracy: 0.4381\n",
      "Epoch 24/30\n",
      "79/79 - 2s - loss: 1.0663 - accuracy: 0.4409 - val_loss: 1.0635 - val_accuracy: 0.4485\n",
      "Epoch 25/30\n",
      "79/79 - 1s - loss: 1.0642 - accuracy: 0.4421 - val_loss: 1.0616 - val_accuracy: 0.4477\n",
      "Epoch 26/30\n",
      "79/79 - 1s - loss: 1.0623 - accuracy: 0.4433 - val_loss: 1.0598 - val_accuracy: 0.4477\n",
      "Epoch 27/30\n",
      "79/79 - 1s - loss: 1.0605 - accuracy: 0.4441 - val_loss: 1.0582 - val_accuracy: 0.4461\n",
      "Epoch 28/30\n",
      "79/79 - 1s - loss: 1.0588 - accuracy: 0.4453 - val_loss: 1.0566 - val_accuracy: 0.4429\n",
      "Epoch 29/30\n",
      "79/79 - 2s - loss: 1.0571 - accuracy: 0.4557 - val_loss: 1.0551 - val_accuracy: 0.4509\n",
      "Epoch 30/30\n",
      "79/79 - 1s - loss: 1.0556 - accuracy: 0.4729 - val_loss: 1.0537 - val_accuracy: 0.4812\n"
     ]
    },
    {
     "data": {
      "image/png": "[encoded data removed]",
      "text/plain": [
       "<Figure size 432x288 with 1 Axes>"
      ]
     },
     "metadata": {
      "needs_background": "light"
     },
     "output_type": "display_data"
    },
    {
     "data": {
      "image/png": "[encoded data removed]",
      "text/plain": [
       "<Figure size 432x288 with 1 Axes>"
      ]
     },
     "metadata": {
      "needs_background": "light"
     },
     "output_type": "display_data"
    }
   ],
   "source": [
    "linear_model.fit(train_dataset, validation_data=validation_dataset, epochs=30, verbose=2)\n",
    "\n",
    "plot_loss(linear_model)\n",
    "plot_accuracy(linear_model)"
   ]
  },
  {
   "cell_type": "code",
   "execution_count": 11,
   "metadata": {
    "scrolled": false
   },
   "outputs": [
    {
     "name": "stdout",
     "output_type": "stream",
     "text": [
      "Epoch 1/30\n",
      "WARNING:tensorflow:Layer dense_features_1 is casting an input tensor from dtype float64 to the layer's dtype of float32, which is new behavior in TensorFlow 2.  The layer has dtype float32 because it's dtype defaults to floatx.\n",
      "\n",
      "If you intended to run this layer in float32, you can safely ignore this warning. If in doubt, this warning is likely only an issue if you are porting a TensorFlow 1.X model to TensorFlow 2.\n",
      "\n",
      "To change all layers to have dtype float64 by default, call `tf.keras.backend.set_floatx('float64')`. To change just this layer, pass dtype='float64' to the layer constructor. If you are the author of this layer, you can disable autocasting by passing autocast=False to the base Layer constructor.\n",
      "\n"
     ]
    },
    {
     "name": "stderr",
     "output_type": "stream",
     "text": [
      "WARNING:tensorflow:Layer dense_features_1 is casting an input tensor from dtype float64 to the layer's dtype of float32, which is new behavior in TensorFlow 2.  The layer has dtype float32 because it's dtype defaults to floatx.\n",
      "\n",
      "If you intended to run this layer in float32, you can safely ignore this warning. If in doubt, this warning is likely only an issue if you are porting a TensorFlow 1.X model to TensorFlow 2.\n",
      "\n",
      "To change all layers to have dtype float64 by default, call `tf.keras.backend.set_floatx('float64')`. To change just this layer, pass dtype='float64' to the layer constructor. If you are the author of this layer, you can disable autocasting by passing autocast=False to the base Layer constructor.\n",
      "\n"
     ]
    },
    {
     "name": "stdout",
     "output_type": "stream",
     "text": [
      "79/79 - 2s - loss: 1.6766 - accuracy: 0.3240 - val_loss: 1.2124 - val_accuracy: 0.3639\n",
      "Epoch 2/30\n",
      "79/79 - 1s - loss: 1.2064 - accuracy: 0.3627 - val_loss: 1.1948 - val_accuracy: 0.3559\n",
      "Epoch 3/30\n",
      "79/79 - 2s - loss: 1.1887 - accuracy: 0.3591 - val_loss: 1.1777 - val_accuracy: 0.3551\n",
      "Epoch 4/30\n",
      "79/79 - 1s - loss: 1.1718 - accuracy: 0.3587 - val_loss: 1.1620 - val_accuracy: 0.3504\n",
      "Epoch 5/30\n",
      "79/79 - 1s - loss: 1.1564 - accuracy: 0.3563 - val_loss: 1.1478 - val_accuracy: 0.3504\n",
      "Epoch 6/30\n",
      "79/79 - 1s - loss: 1.1425 - accuracy: 0.3627 - val_loss: 1.1351 - val_accuracy: 0.3831\n",
      "Epoch 7/30\n",
      "79/79 - 1s - loss: 1.1299 - accuracy: 0.3763 - val_loss: 1.1235 - val_accuracy: 0.4222\n",
      "Epoch 8/30\n",
      "79/79 - 1s - loss: 1.1186 - accuracy: 0.4046 - val_loss: 1.1131 - val_accuracy: 0.4206\n",
      "Epoch 9/30\n",
      "79/79 - 2s - loss: 1.1084 - accuracy: 0.4342 - val_loss: 1.1037 - val_accuracy: 0.4621\n",
      "Epoch 10/30\n",
      "79/79 - 1s - loss: 1.0992 - accuracy: 0.4557 - val_loss: 1.0952 - val_accuracy: 0.4621\n",
      "Epoch 11/30\n",
      "79/79 - 1s - loss: 1.0908 - accuracy: 0.4657 - val_loss: 1.0874 - val_accuracy: 0.4637\n",
      "Epoch 12/30\n",
      "79/79 - 2s - loss: 1.0831 - accuracy: 0.4769 - val_loss: 1.0804 - val_accuracy: 0.4685\n",
      "Epoch 13/30\n",
      "79/79 - 1s - loss: 1.0761 - accuracy: 0.4964 - val_loss: 1.0738 - val_accuracy: 0.5132\n",
      "Epoch 14/30\n",
      "79/79 - 1s - loss: 1.0697 - accuracy: 0.5012 - val_loss: 1.0679 - val_accuracy: 0.5028\n",
      "Epoch 15/30\n",
      "79/79 - 1s - loss: 1.0637 - accuracy: 0.5016 - val_loss: 1.0623 - val_accuracy: 0.4988\n",
      "Epoch 16/30\n",
      "79/79 - 2s - loss: 1.0582 - accuracy: 0.5064 - val_loss: 1.0572 - val_accuracy: 0.4980\n",
      "Epoch 17/30\n",
      "79/79 - 1s - loss: 1.0532 - accuracy: 0.5108 - val_loss: 1.0524 - val_accuracy: 0.4980\n",
      "Epoch 18/30\n",
      "79/79 - 1s - loss: 1.0485 - accuracy: 0.5084 - val_loss: 1.0480 - val_accuracy: 0.4980\n",
      "Epoch 19/30\n",
      "79/79 - 1s - loss: 1.0442 - accuracy: 0.5072 - val_loss: 1.0439 - val_accuracy: 0.4980\n",
      "Epoch 20/30\n",
      "79/79 - 1s - loss: 1.0402 - accuracy: 0.5068 - val_loss: 1.0400 - val_accuracy: 0.4980\n",
      "Epoch 21/30\n",
      "79/79 - 1s - loss: 1.0364 - accuracy: 0.5072 - val_loss: 1.0364 - val_accuracy: 0.4988\n",
      "Epoch 22/30\n",
      "79/79 - 1s - loss: 1.0329 - accuracy: 0.5056 - val_loss: 1.0331 - val_accuracy: 0.5012\n",
      "Epoch 23/30\n",
      "79/79 - 1s - loss: 1.0297 - accuracy: 0.5064 - val_loss: 1.0299 - val_accuracy: 0.5020\n",
      "Epoch 24/30\n",
      "79/79 - 1s - loss: 1.0266 - accuracy: 0.5072 - val_loss: 1.0270 - val_accuracy: 0.5012\n",
      "Epoch 25/30\n",
      "79/79 - 1s - loss: 1.0237 - accuracy: 0.5076 - val_loss: 1.0243 - val_accuracy: 0.5028\n",
      "Epoch 26/30\n",
      "79/79 - 1s - loss: 1.0210 - accuracy: 0.5092 - val_loss: 1.0217 - val_accuracy: 0.5052\n",
      "Epoch 27/30\n",
      "79/79 - 1s - loss: 1.0185 - accuracy: 0.5100 - val_loss: 1.0193 - val_accuracy: 0.5060\n",
      "Epoch 28/30\n",
      "79/79 - 0s - loss: 1.0160 - accuracy: 0.5104 - val_loss: 1.0170 - val_accuracy: 0.5052\n",
      "Epoch 29/30\n",
      "79/79 - 1s - loss: 1.0138 - accuracy: 0.5100 - val_loss: 1.0149 - val_accuracy: 0.5052\n",
      "Epoch 30/30\n",
      "79/79 - 1s - loss: 1.0115 - accuracy: 0.5116 - val_loss: 1.0128 - val_accuracy: 0.5084\n"
     ]
    },
    {
     "data": {
      "image/png": "[encoded data removed]",
      "text/plain": [
       "<Figure size 432x288 with 1 Axes>"
      ]
     },
     "metadata": {
      "needs_background": "light"
     },
     "output_type": "display_data"
    },
    {
     "data": {
      "image/png": "[encoded data removed]",
      "text/plain": [
       "<Figure size 432x288 with 1 Axes>"
      ]
     },
     "metadata": {
      "needs_background": "light"
     },
     "output_type": "display_data"
    }
   ],
   "source": [
    "nn_model.fit(train_dataset, validation_data=validation_dataset, epochs=30, verbose=2)\n",
    "\n",
    "plot_loss(nn_model)\n",
    "plot_accuracy(nn_model)"
   ]
  },
  {
   "cell_type": "markdown",
   "metadata": {},
   "source": [
    "### Evaluation"
   ]
  },
  {
   "cell_type": "code",
   "execution_count": 12,
   "metadata": {},
   "outputs": [
    {
     "name": "stdout",
     "output_type": "stream",
     "text": [
      "14/14 [==============================] - 0s 8ms/step - loss: 1.0469 - accuracy: 0.4976\n"
     ]
    },
    {
     "data": {
      "text/plain": [
       "[1.0469390153884888, 0.49760764837265015]"
      ]
     },
     "execution_count": 12,
     "metadata": {},
     "output_type": "execute_result"
    }
   ],
   "source": [
    "linear_model.evaluate(test_dataset)"
   ]
  },
  {
   "cell_type": "code",
   "execution_count": 13,
   "metadata": {},
   "outputs": [
    {
     "name": "stdout",
     "output_type": "stream",
     "text": [
      "14/14 [==============================] - 0s 13ms/step - loss: 1.0148 - accuracy: 0.5120\n"
     ]
    },
    {
     "data": {
      "text/plain": [
       "[1.014771819114685, 0.5119616985321045]"
      ]
     },
     "execution_count": 13,
     "metadata": {},
     "output_type": "execute_result"
    }
   ],
   "source": [
    "nn_model.evaluate(test_dataset)"
   ]
  },
  {
   "cell_type": "markdown",
   "metadata": {},
   "source": [
    "### Predictions"
   ]
  },
  {
   "cell_type": "code",
   "execution_count": 14,
   "metadata": {},
   "outputs": [],
   "source": [
    "labels = test_dataframe[selected_targets].reset_index(drop=True)"
   ]
  },
  {
   "cell_type": "code",
   "execution_count": 15,
   "metadata": {},
   "outputs": [
    {
     "data": {
      "text/html": [
       "<div>\n",
       "<style scoped>\n",
       "    .dataframe tbody tr th:only-of-type {\n",
       "        vertical-align: middle;\n",
       "    }\n",
       "\n",
       "    .dataframe tbody tr th {\n",
       "        vertical-align: top;\n",
       "    }\n",
       "\n",
       "    .dataframe thead th {\n",
       "        text-align: right;\n",
       "    }\n",
       "</style>\n",
       "<table border=\"1\" class=\"dataframe\">\n",
       "  <thead>\n",
       "    <tr style=\"text-align: right;\">\n",
       "      <th></th>\n",
       "      <th>probability_M</th>\n",
       "      <th>probability_F</th>\n",
       "      <th>probability_I</th>\n",
       "      <th>label_M</th>\n",
       "      <th>label_F</th>\n",
       "      <th>label_I</th>\n",
       "      <th>correct</th>\n",
       "    </tr>\n",
       "  </thead>\n",
       "  <tbody>\n",
       "    <tr>\n",
       "      <th>0</th>\n",
       "      <td>0.367242</td>\n",
       "      <td>0.303413</td>\n",
       "      <td>0.329345</td>\n",
       "      <td>1</td>\n",
       "      <td>0</td>\n",
       "      <td>0</td>\n",
       "      <td>True</td>\n",
       "    </tr>\n",
       "    <tr>\n",
       "      <th>1</th>\n",
       "      <td>0.433831</td>\n",
       "      <td>0.434381</td>\n",
       "      <td>0.131788</td>\n",
       "      <td>0</td>\n",
       "      <td>1</td>\n",
       "      <td>0</td>\n",
       "      <td>True</td>\n",
       "    </tr>\n",
       "    <tr>\n",
       "      <th>2</th>\n",
       "      <td>0.397570</td>\n",
       "      <td>0.354865</td>\n",
       "      <td>0.247565</td>\n",
       "      <td>1</td>\n",
       "      <td>0</td>\n",
       "      <td>0</td>\n",
       "      <td>True</td>\n",
       "    </tr>\n",
       "    <tr>\n",
       "      <th>3</th>\n",
       "      <td>0.368408</td>\n",
       "      <td>0.303747</td>\n",
       "      <td>0.327845</td>\n",
       "      <td>0</td>\n",
       "      <td>0</td>\n",
       "      <td>1</td>\n",
       "      <td>False</td>\n",
       "    </tr>\n",
       "    <tr>\n",
       "      <th>4</th>\n",
       "      <td>0.389486</td>\n",
       "      <td>0.337369</td>\n",
       "      <td>0.273145</td>\n",
       "      <td>0</td>\n",
       "      <td>1</td>\n",
       "      <td>0</td>\n",
       "      <td>False</td>\n",
       "    </tr>\n",
       "    <tr>\n",
       "      <th>...</th>\n",
       "      <td>...</td>\n",
       "      <td>...</td>\n",
       "      <td>...</td>\n",
       "      <td>...</td>\n",
       "      <td>...</td>\n",
       "      <td>...</td>\n",
       "      <td>...</td>\n",
       "    </tr>\n",
       "    <tr>\n",
       "      <th>413</th>\n",
       "      <td>0.437295</td>\n",
       "      <td>0.431457</td>\n",
       "      <td>0.131248</td>\n",
       "      <td>1</td>\n",
       "      <td>0</td>\n",
       "      <td>0</td>\n",
       "      <td>True</td>\n",
       "    </tr>\n",
       "    <tr>\n",
       "      <th>414</th>\n",
       "      <td>0.330596</td>\n",
       "      <td>0.250545</td>\n",
       "      <td>0.418859</td>\n",
       "      <td>1</td>\n",
       "      <td>0</td>\n",
       "      <td>0</td>\n",
       "      <td>False</td>\n",
       "    </tr>\n",
       "    <tr>\n",
       "      <th>415</th>\n",
       "      <td>0.438679</td>\n",
       "      <td>0.468145</td>\n",
       "      <td>0.093176</td>\n",
       "      <td>0</td>\n",
       "      <td>0</td>\n",
       "      <td>1</td>\n",
       "      <td>False</td>\n",
       "    </tr>\n",
       "    <tr>\n",
       "      <th>416</th>\n",
       "      <td>0.396375</td>\n",
       "      <td>0.354402</td>\n",
       "      <td>0.249223</td>\n",
       "      <td>1</td>\n",
       "      <td>0</td>\n",
       "      <td>0</td>\n",
       "      <td>True</td>\n",
       "    </tr>\n",
       "    <tr>\n",
       "      <th>417</th>\n",
       "      <td>0.399127</td>\n",
       "      <td>0.351274</td>\n",
       "      <td>0.249599</td>\n",
       "      <td>1</td>\n",
       "      <td>0</td>\n",
       "      <td>0</td>\n",
       "      <td>True</td>\n",
       "    </tr>\n",
       "  </tbody>\n",
       "</table>\n",
       "<p>418 rows × 7 columns</p>\n",
       "</div>"
      ],
      "text/plain": [
       "     probability_M  probability_F  probability_I  label_M  label_F  label_I  \\\n",
       "0         0.367242       0.303413       0.329345        1        0        0   \n",
       "1         0.433831       0.434381       0.131788        0        1        0   \n",
       "2         0.397570       0.354865       0.247565        1        0        0   \n",
       "3         0.368408       0.303747       0.327845        0        0        1   \n",
       "4         0.389486       0.337369       0.273145        0        1        0   \n",
       "..             ...            ...            ...      ...      ...      ...   \n",
       "413       0.437295       0.431457       0.131248        1        0        0   \n",
       "414       0.330596       0.250545       0.418859        1        0        0   \n",
       "415       0.438679       0.468145       0.093176        0        0        1   \n",
       "416       0.396375       0.354402       0.249223        1        0        0   \n",
       "417       0.399127       0.351274       0.249599        1        0        0   \n",
       "\n",
       "     correct  \n",
       "0       True  \n",
       "1       True  \n",
       "2       True  \n",
       "3      False  \n",
       "4      False  \n",
       "..       ...  \n",
       "413     True  \n",
       "414    False  \n",
       "415    False  \n",
       "416     True  \n",
       "417     True  \n",
       "\n",
       "[418 rows x 7 columns]"
      ]
     },
     "execution_count": 15,
     "metadata": {},
     "output_type": "execute_result"
    }
   ],
   "source": [
    "linear_predictions = pd.DataFrame(tf.nn.softmax(linear_model.predict(test_dataset)).numpy()).join(labels)\n",
    "linear_predictions.columns = [\"probability_M\", \"probability_F\", \"probability_I\", \"label_M\", \"label_F\", \"label_I\"]\n",
    "\n",
    "linear_prediction_values = linear_predictions[list(linear_predictions.columns[0:3])].idxmax(axis=1).apply(lambda x : linear_predictions.columns.get_loc(x) + 3)\n",
    "linear_label_values = linear_predictions[list(linear_predictions.columns[3:6])].idxmax(axis=1).apply(lambda x : linear_predictions.columns.get_loc(x))\n",
    "\n",
    "linear_predictions[\"correct\"] = linear_prediction_values.combine(linear_label_values, lambda x, y : x == y)\n",
    "\n",
    "linear_predictions"
   ]
  },
  {
   "cell_type": "code",
   "execution_count": 16,
   "metadata": {},
   "outputs": [
    {
     "data": {
      "text/html": [
       "<div>\n",
       "<style scoped>\n",
       "    .dataframe tbody tr th:only-of-type {\n",
       "        vertical-align: middle;\n",
       "    }\n",
       "\n",
       "    .dataframe tbody tr th {\n",
       "        vertical-align: top;\n",
       "    }\n",
       "\n",
       "    .dataframe thead th {\n",
       "        text-align: right;\n",
       "    }\n",
       "</style>\n",
       "<table border=\"1\" class=\"dataframe\">\n",
       "  <thead>\n",
       "    <tr style=\"text-align: right;\">\n",
       "      <th></th>\n",
       "      <th>probability_M</th>\n",
       "      <th>probability_F</th>\n",
       "      <th>probability_I</th>\n",
       "      <th>label_M</th>\n",
       "      <th>label_F</th>\n",
       "      <th>label_I</th>\n",
       "      <th>correct</th>\n",
       "    </tr>\n",
       "  </thead>\n",
       "  <tbody>\n",
       "    <tr>\n",
       "      <th>0</th>\n",
       "      <td>0.314776</td>\n",
       "      <td>0.295226</td>\n",
       "      <td>0.389998</td>\n",
       "      <td>1</td>\n",
       "      <td>0</td>\n",
       "      <td>0</td>\n",
       "      <td>False</td>\n",
       "    </tr>\n",
       "    <tr>\n",
       "      <th>1</th>\n",
       "      <td>0.419002</td>\n",
       "      <td>0.549901</td>\n",
       "      <td>0.031097</td>\n",
       "      <td>0</td>\n",
       "      <td>1</td>\n",
       "      <td>0</td>\n",
       "      <td>True</td>\n",
       "    </tr>\n",
       "    <tr>\n",
       "      <th>2</th>\n",
       "      <td>0.403091</td>\n",
       "      <td>0.429868</td>\n",
       "      <td>0.167042</td>\n",
       "      <td>1</td>\n",
       "      <td>0</td>\n",
       "      <td>0</td>\n",
       "      <td>False</td>\n",
       "    </tr>\n",
       "    <tr>\n",
       "      <th>3</th>\n",
       "      <td>0.321049</td>\n",
       "      <td>0.302994</td>\n",
       "      <td>0.375957</td>\n",
       "      <td>0</td>\n",
       "      <td>0</td>\n",
       "      <td>1</td>\n",
       "      <td>True</td>\n",
       "    </tr>\n",
       "    <tr>\n",
       "      <th>4</th>\n",
       "      <td>0.379984</td>\n",
       "      <td>0.387217</td>\n",
       "      <td>0.232800</td>\n",
       "      <td>0</td>\n",
       "      <td>1</td>\n",
       "      <td>0</td>\n",
       "      <td>True</td>\n",
       "    </tr>\n",
       "    <tr>\n",
       "      <th>...</th>\n",
       "      <td>...</td>\n",
       "      <td>...</td>\n",
       "      <td>...</td>\n",
       "      <td>...</td>\n",
       "      <td>...</td>\n",
       "      <td>...</td>\n",
       "      <td>...</td>\n",
       "    </tr>\n",
       "    <tr>\n",
       "      <th>413</th>\n",
       "      <td>0.419411</td>\n",
       "      <td>0.547955</td>\n",
       "      <td>0.032634</td>\n",
       "      <td>1</td>\n",
       "      <td>0</td>\n",
       "      <td>0</td>\n",
       "      <td>False</td>\n",
       "    </tr>\n",
       "    <tr>\n",
       "      <th>414</th>\n",
       "      <td>0.179175</td>\n",
       "      <td>0.149167</td>\n",
       "      <td>0.671658</td>\n",
       "      <td>1</td>\n",
       "      <td>0</td>\n",
       "      <td>0</td>\n",
       "      <td>False</td>\n",
       "    </tr>\n",
       "    <tr>\n",
       "      <th>415</th>\n",
       "      <td>0.401427</td>\n",
       "      <td>0.586379</td>\n",
       "      <td>0.012194</td>\n",
       "      <td>0</td>\n",
       "      <td>0</td>\n",
       "      <td>1</td>\n",
       "      <td>False</td>\n",
       "    </tr>\n",
       "    <tr>\n",
       "      <th>416</th>\n",
       "      <td>0.400108</td>\n",
       "      <td>0.423915</td>\n",
       "      <td>0.175978</td>\n",
       "      <td>1</td>\n",
       "      <td>0</td>\n",
       "      <td>0</td>\n",
       "      <td>False</td>\n",
       "    </tr>\n",
       "    <tr>\n",
       "      <th>417</th>\n",
       "      <td>0.395177</td>\n",
       "      <td>0.415008</td>\n",
       "      <td>0.189815</td>\n",
       "      <td>1</td>\n",
       "      <td>0</td>\n",
       "      <td>0</td>\n",
       "      <td>False</td>\n",
       "    </tr>\n",
       "  </tbody>\n",
       "</table>\n",
       "<p>418 rows × 7 columns</p>\n",
       "</div>"
      ],
      "text/plain": [
       "     probability_M  probability_F  probability_I  label_M  label_F  label_I  \\\n",
       "0         0.314776       0.295226       0.389998        1        0        0   \n",
       "1         0.419002       0.549901       0.031097        0        1        0   \n",
       "2         0.403091       0.429868       0.167042        1        0        0   \n",
       "3         0.321049       0.302994       0.375957        0        0        1   \n",
       "4         0.379984       0.387217       0.232800        0        1        0   \n",
       "..             ...            ...            ...      ...      ...      ...   \n",
       "413       0.419411       0.547955       0.032634        1        0        0   \n",
       "414       0.179175       0.149167       0.671658        1        0        0   \n",
       "415       0.401427       0.586379       0.012194        0        0        1   \n",
       "416       0.400108       0.423915       0.175978        1        0        0   \n",
       "417       0.395177       0.415008       0.189815        1        0        0   \n",
       "\n",
       "     correct  \n",
       "0      False  \n",
       "1       True  \n",
       "2      False  \n",
       "3       True  \n",
       "4       True  \n",
       "..       ...  \n",
       "413    False  \n",
       "414    False  \n",
       "415    False  \n",
       "416    False  \n",
       "417    False  \n",
       "\n",
       "[418 rows x 7 columns]"
      ]
     },
     "execution_count": 16,
     "metadata": {},
     "output_type": "execute_result"
    }
   ],
   "source": [
    "nn_predictions = pd.DataFrame(tf.nn.softmax(nn_model.predict(test_dataset)).numpy()).join(labels)\n",
    "nn_predictions.columns = [\"probability_M\", \"probability_F\", \"probability_I\", \"label_M\", \"label_F\", \"label_I\"]\n",
    "\n",
    "nn_prediction_values = nn_predictions[list(linear_predictions.columns[0:3])].idxmax(axis=1).apply(lambda x : nn_predictions.columns.get_loc(x) + 3)\n",
    "nn_label_values = nn_predictions[list(linear_predictions.columns[3:6])].idxmax(axis=1).apply(lambda x : nn_predictions.columns.get_loc(x))\n",
    "\n",
    "nn_predictions[\"correct\"] = nn_prediction_values.combine(nn_label_values, lambda x, y : x == y)\n",
    "\n",
    "nn_predictions"
   ]
  },
  {
   "cell_type": "markdown",
   "metadata": {},
   "source": [
    "### Backend"
   ]
  },
  {
   "cell_type": "markdown",
   "metadata": {},
   "source": [
    "#### Linear"
   ]
  },
  {
   "cell_type": "code",
   "execution_count": 17,
   "metadata": {},
   "outputs": [
    {
     "name": "stdout",
     "output_type": "stream",
     "text": [
      "Model: \"sequential\"\n",
      "_________________________________________________________________\n",
      "Layer (type)                 Output Shape              Param #   \n",
      "=================================================================\n",
      "dense_features (DenseFeature multiple                  0         \n",
      "_________________________________________________________________\n",
      "dense (Dense)                multiple                  15        \n",
      "=================================================================\n",
      "Total params: 15\n",
      "Trainable params: 15\n",
      "Non-trainable params: 0\n",
      "_________________________________________________________________\n"
     ]
    }
   ],
   "source": [
    "linear_model.summary()"
   ]
  },
  {
   "cell_type": "code",
   "execution_count": 18,
   "metadata": {},
   "outputs": [
    {
     "data": {
      "text/plain": [
       "{'verbose': 0, 'epochs': 1, 'steps': 14}"
      ]
     },
     "execution_count": 18,
     "metadata": {},
     "output_type": "execute_result"
    }
   ],
   "source": [
    "linear_model.history.params"
   ]
  },
  {
   "cell_type": "code",
   "execution_count": 19,
   "metadata": {},
   "outputs": [
    {
     "name": "stdout",
     "output_type": "stream",
     "text": [
      "[]\n",
      "[array([[ 0.48562002,  0.12999238,  0.07057716],\n",
      "       [ 0.0550269 ,  0.09228962, -0.13993981],\n",
      "       [-0.3307382 ,  0.08906496,  0.09412447],\n",
      "       [-0.56685346, -0.54691535, -0.68686134]], dtype=float32), array([-0.12179838, -0.5471175 ,  0.7004965 ], dtype=float32)]\n"
     ]
    }
   ],
   "source": [
    "for layer in linear_model.layers:\n",
    "    print(layer.get_weights())"
   ]
  },
  {
   "cell_type": "markdown",
   "metadata": {},
   "source": [
    "#### Neural Network"
   ]
  },
  {
   "cell_type": "code",
   "execution_count": 20,
   "metadata": {},
   "outputs": [
    {
     "name": "stdout",
     "output_type": "stream",
     "text": [
      "Model: \"sequential_1\"\n",
      "_________________________________________________________________\n",
      "Layer (type)                 Output Shape              Param #   \n",
      "=================================================================\n",
      "dense_features_1 (DenseFeatu multiple                  0         \n",
      "_________________________________________________________________\n",
      "dense_1 (Dense)              multiple                  50        \n",
      "_________________________________________________________________\n",
      "dense_2 (Dense)              multiple                  55        \n",
      "_________________________________________________________________\n",
      "dense_3 (Dense)              multiple                  18        \n",
      "=================================================================\n",
      "Total params: 123\n",
      "Trainable params: 123\n",
      "Non-trainable params: 0\n",
      "_________________________________________________________________\n"
     ]
    }
   ],
   "source": [
    "nn_model.summary()"
   ]
  },
  {
   "cell_type": "code",
   "execution_count": 21,
   "metadata": {},
   "outputs": [
    {
     "data": {
      "text/plain": [
       "{'verbose': 0, 'epochs': 1, 'steps': 14}"
      ]
     },
     "execution_count": 21,
     "metadata": {},
     "output_type": "execute_result"
    }
   ],
   "source": [
    "nn_model.history.params"
   ]
  },
  {
   "cell_type": "code",
   "execution_count": 22,
   "metadata": {},
   "outputs": [
    {
     "name": "stdout",
     "output_type": "stream",
     "text": [
      "[]\n",
      "[array([[ 0.20713429,  0.02305215, -0.15937234, -0.14098074,  0.13661642,\n",
      "        -0.00501186,  0.175002  ,  0.03084107, -0.01593383, -0.00370225],\n",
      "       [ 0.10924316,  0.01104764, -0.07399915, -0.08808354,  0.07056695,\n",
      "        -0.00205076,  0.13101736,  0.0127781 , -0.00644711,  0.00205979],\n",
      "       [ 0.20730868,  0.02551107, -0.11814722, -0.0980574 ,  0.14175071,\n",
      "        -0.00562035,  0.1952252 ,  0.03371087, -0.01784588,  0.00860703],\n",
      "       [ 0.56080943, -0.08470228,  0.42235145,  0.05043594,  0.11222539,\n",
      "        -0.03169515,  0.0979515 , -0.25156635, -0.10196511, -0.21291907]],\n",
      "      dtype=float32), array([-0.5695753 , -0.04732716,  0.35227698,  0.23135659, -0.37795538,\n",
      "        0.01430017, -0.39515424, -0.09043475,  0.02925233, -0.05965979],\n",
      "      dtype=float32)]\n",
      "[array([[ 0.5463658 ,  0.12305362,  0.1313749 , -0.339995  ,  0.43721893],\n",
      "       [ 0.1495462 , -0.01194668,  0.09483911, -0.01576654,  0.13287626],\n",
      "       [-0.1840764 ,  0.35787416, -0.05986048,  0.21152271, -0.05286743],\n",
      "       [-0.29800695, -0.07455514, -0.28182882,  0.09895832, -0.28266805],\n",
      "       [ 0.36080435, -0.17292228, -0.00550058, -0.03631461,  0.22136712],\n",
      "       [-0.05120277,  0.00275324, -0.00417844, -0.00432064, -0.02087123],\n",
      "       [ 0.5296776 , -0.132313  ,  0.25597405, -0.08862995, -0.26969752],\n",
      "       [ 0.35644844, -0.11499874, -0.07702157, -0.04344589,  0.1090209 ],\n",
      "       [-0.06411183, -0.00976048, -0.10775405, -0.01019237,  0.13339823],\n",
      "       [ 0.28144377,  0.00727497, -0.26002538, -0.02385913, -0.19937475]],\n",
      "      dtype=float32), array([-0.40095586,  0.31087273, -0.17529346,  0.29836452,  0.10397922],\n",
      "      dtype=float32)]\n",
      "[array([[ 7.14622200e-01, -8.78047124e-02, -1.02665448e+00],\n",
      "       [ 5.54052711e-01,  1.00957505e-01,  6.51993394e-01],\n",
      "       [-4.57667798e-01,  8.73870492e-01, -4.95887071e-01],\n",
      "       [-1.17047201e-03,  1.71663731e-01,  1.33240378e+00],\n",
      "       [-5.03695965e-01,  7.02597618e-01,  4.37346578e-01]], dtype=float32), array([-0.23081006, -0.5770439 ,  0.6828184 ], dtype=float32)]\n"
     ]
    }
   ],
   "source": [
    "for layer in nn_model.layers:\n",
    "    print(layer.get_weights())"
   ]
  }
 ],
 "metadata": {
  "hide_input": false,
  "kernelspec": {
   "display_name": "Python 3",
   "language": "python",
   "name": "python3"
  },
  "language_info": {
   "codemirror_mode": {
    "name": "ipython",
    "version": 3
   },
   "file_extension": ".py",
   "mimetype": "text/x-python",
   "name": "python",
   "nbconvert_exporter": "python",
   "pygments_lexer": "ipython3",
   "version": "3.8.2"
  },
  "toc": {
   "base_numbering": 1,
   "nav_menu": {},
   "number_sections": false,
   "sideBar": true,
   "skip_h1_title": false,
   "title_cell": "Table of Contents",
   "title_sidebar": "Contents",
   "toc_cell": false,
   "toc_position": {
    "height": "calc(100% - 180px)",
    "left": "10px",
    "top": "150px",
    "width": "304px"
   },
   "toc_section_display": true,
   "toc_window_display": true
  }
 },
 "nbformat": 4,
 "nbformat_minor": 2
}
