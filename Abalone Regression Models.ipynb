{
 "cells": [
  {
   "cell_type": "markdown",
   "metadata": {},
   "source": [
    "### Import Libraries"
   ]
  },
  {
   "cell_type": "code",
   "execution_count": 1,
   "metadata": {},
   "outputs": [
    {
     "name": "stderr",
     "output_type": "stream",
     "text": [
      "WARNING:root:Limited tf.compat.v2.summary API due to missing TensorBoard installation.\n",
      "WARNING:root:Limited tf.compat.v2.summary API due to missing TensorBoard installation.\n",
      "WARNING:root:Limited tf.compat.v2.summary API due to missing TensorBoard installation.\n",
      "WARNING:root:Limited tf.summary API due to missing TensorBoard installation.\n"
     ]
    }
   ],
   "source": [
    "import tensorflow as tf\n",
    "import numpy as np\n",
    "import pandas as pd\n",
    "import math\n",
    "from matplotlib import pyplot as plt\n",
    "from sklearn.model_selection import train_test_split"
   ]
  },
  {
   "cell_type": "markdown",
   "metadata": {},
   "source": [
    "### Load Data"
   ]
  },
  {
   "cell_type": "code",
   "execution_count": 2,
   "metadata": {
    "scrolled": false
   },
   "outputs": [
    {
     "data": {
      "text/html": [
       "<div>\n",
       "<style scoped>\n",
       "    .dataframe tbody tr th:only-of-type {\n",
       "        vertical-align: middle;\n",
       "    }\n",
       "\n",
       "    .dataframe tbody tr th {\n",
       "        vertical-align: top;\n",
       "    }\n",
       "\n",
       "    .dataframe thead th {\n",
       "        text-align: right;\n",
       "    }\n",
       "</style>\n",
       "<table border=\"1\" class=\"dataframe\">\n",
       "  <thead>\n",
       "    <tr style=\"text-align: right;\">\n",
       "      <th></th>\n",
       "      <th>sex</th>\n",
       "      <th>length</th>\n",
       "      <th>diameter</th>\n",
       "      <th>height</th>\n",
       "      <th>whole-weight</th>\n",
       "      <th>shucked-weight</th>\n",
       "      <th>viscera-weight</th>\n",
       "      <th>shell-weight</th>\n",
       "      <th>rings</th>\n",
       "    </tr>\n",
       "  </thead>\n",
       "  <tbody>\n",
       "    <tr>\n",
       "      <th>0</th>\n",
       "      <td>M</td>\n",
       "      <td>0.455</td>\n",
       "      <td>0.365</td>\n",
       "      <td>0.095</td>\n",
       "      <td>0.5140</td>\n",
       "      <td>0.2245</td>\n",
       "      <td>0.1010</td>\n",
       "      <td>0.1500</td>\n",
       "      <td>15</td>\n",
       "    </tr>\n",
       "    <tr>\n",
       "      <th>1</th>\n",
       "      <td>M</td>\n",
       "      <td>0.350</td>\n",
       "      <td>0.265</td>\n",
       "      <td>0.090</td>\n",
       "      <td>0.2255</td>\n",
       "      <td>0.0995</td>\n",
       "      <td>0.0485</td>\n",
       "      <td>0.0700</td>\n",
       "      <td>7</td>\n",
       "    </tr>\n",
       "    <tr>\n",
       "      <th>2</th>\n",
       "      <td>F</td>\n",
       "      <td>0.530</td>\n",
       "      <td>0.420</td>\n",
       "      <td>0.135</td>\n",
       "      <td>0.6770</td>\n",
       "      <td>0.2565</td>\n",
       "      <td>0.1415</td>\n",
       "      <td>0.2100</td>\n",
       "      <td>9</td>\n",
       "    </tr>\n",
       "    <tr>\n",
       "      <th>3</th>\n",
       "      <td>M</td>\n",
       "      <td>0.440</td>\n",
       "      <td>0.365</td>\n",
       "      <td>0.125</td>\n",
       "      <td>0.5160</td>\n",
       "      <td>0.2155</td>\n",
       "      <td>0.1140</td>\n",
       "      <td>0.1550</td>\n",
       "      <td>10</td>\n",
       "    </tr>\n",
       "    <tr>\n",
       "      <th>4</th>\n",
       "      <td>I</td>\n",
       "      <td>0.330</td>\n",
       "      <td>0.255</td>\n",
       "      <td>0.080</td>\n",
       "      <td>0.2050</td>\n",
       "      <td>0.0895</td>\n",
       "      <td>0.0395</td>\n",
       "      <td>0.0550</td>\n",
       "      <td>7</td>\n",
       "    </tr>\n",
       "    <tr>\n",
       "      <th>...</th>\n",
       "      <td>...</td>\n",
       "      <td>...</td>\n",
       "      <td>...</td>\n",
       "      <td>...</td>\n",
       "      <td>...</td>\n",
       "      <td>...</td>\n",
       "      <td>...</td>\n",
       "      <td>...</td>\n",
       "      <td>...</td>\n",
       "    </tr>\n",
       "    <tr>\n",
       "      <th>4172</th>\n",
       "      <td>F</td>\n",
       "      <td>0.565</td>\n",
       "      <td>0.450</td>\n",
       "      <td>0.165</td>\n",
       "      <td>0.8870</td>\n",
       "      <td>0.3700</td>\n",
       "      <td>0.2390</td>\n",
       "      <td>0.2490</td>\n",
       "      <td>11</td>\n",
       "    </tr>\n",
       "    <tr>\n",
       "      <th>4173</th>\n",
       "      <td>M</td>\n",
       "      <td>0.590</td>\n",
       "      <td>0.440</td>\n",
       "      <td>0.135</td>\n",
       "      <td>0.9660</td>\n",
       "      <td>0.4390</td>\n",
       "      <td>0.2145</td>\n",
       "      <td>0.2605</td>\n",
       "      <td>10</td>\n",
       "    </tr>\n",
       "    <tr>\n",
       "      <th>4174</th>\n",
       "      <td>M</td>\n",
       "      <td>0.600</td>\n",
       "      <td>0.475</td>\n",
       "      <td>0.205</td>\n",
       "      <td>1.1760</td>\n",
       "      <td>0.5255</td>\n",
       "      <td>0.2875</td>\n",
       "      <td>0.3080</td>\n",
       "      <td>9</td>\n",
       "    </tr>\n",
       "    <tr>\n",
       "      <th>4175</th>\n",
       "      <td>F</td>\n",
       "      <td>0.625</td>\n",
       "      <td>0.485</td>\n",
       "      <td>0.150</td>\n",
       "      <td>1.0945</td>\n",
       "      <td>0.5310</td>\n",
       "      <td>0.2610</td>\n",
       "      <td>0.2960</td>\n",
       "      <td>10</td>\n",
       "    </tr>\n",
       "    <tr>\n",
       "      <th>4176</th>\n",
       "      <td>M</td>\n",
       "      <td>0.710</td>\n",
       "      <td>0.555</td>\n",
       "      <td>0.195</td>\n",
       "      <td>1.9485</td>\n",
       "      <td>0.9455</td>\n",
       "      <td>0.3765</td>\n",
       "      <td>0.4950</td>\n",
       "      <td>12</td>\n",
       "    </tr>\n",
       "  </tbody>\n",
       "</table>\n",
       "<p>4177 rows × 9 columns</p>\n",
       "</div>"
      ],
      "text/plain": [
       "     sex  length  diameter  height  whole-weight  shucked-weight  \\\n",
       "0      M   0.455     0.365   0.095        0.5140          0.2245   \n",
       "1      M   0.350     0.265   0.090        0.2255          0.0995   \n",
       "2      F   0.530     0.420   0.135        0.6770          0.2565   \n",
       "3      M   0.440     0.365   0.125        0.5160          0.2155   \n",
       "4      I   0.330     0.255   0.080        0.2050          0.0895   \n",
       "...   ..     ...       ...     ...           ...             ...   \n",
       "4172   F   0.565     0.450   0.165        0.8870          0.3700   \n",
       "4173   M   0.590     0.440   0.135        0.9660          0.4390   \n",
       "4174   M   0.600     0.475   0.205        1.1760          0.5255   \n",
       "4175   F   0.625     0.485   0.150        1.0945          0.5310   \n",
       "4176   M   0.710     0.555   0.195        1.9485          0.9455   \n",
       "\n",
       "      viscera-weight  shell-weight  rings  \n",
       "0             0.1010        0.1500     15  \n",
       "1             0.0485        0.0700      7  \n",
       "2             0.1415        0.2100      9  \n",
       "3             0.1140        0.1550     10  \n",
       "4             0.0395        0.0550      7  \n",
       "...              ...           ...    ...  \n",
       "4172          0.2390        0.2490     11  \n",
       "4173          0.2145        0.2605     10  \n",
       "4174          0.2875        0.3080      9  \n",
       "4175          0.2610        0.2960     10  \n",
       "4176          0.3765        0.4950     12  \n",
       "\n",
       "[4177 rows x 9 columns]"
      ]
     },
     "execution_count": 2,
     "metadata": {},
     "output_type": "execute_result"
    }
   ],
   "source": [
    "dataframe = pd.read_csv(\"abalone.csv\")\n",
    "dataframe.dropna() #Removes Missing Values"
   ]
  },
  {
   "cell_type": "code",
   "execution_count": 3,
   "metadata": {},
   "outputs": [],
   "source": [
    "#Convert Dataframe to Dataset\n",
    "def df_to_ds(dataframe, selected_features, selected_targets, batch_size=32):\n",
    "    features = dataframe[selected_features]\n",
    "    targets = dataframe[selected_targets]\n",
    "    ds = tf.data.Dataset.from_tensor_slices((dict(features), np.array(targets)))\n",
    "    ds = ds.batch(batch_size)\n",
    "    return ds"
   ]
  },
  {
   "cell_type": "code",
   "execution_count": 4,
   "metadata": {},
   "outputs": [],
   "source": [
    "#Selected Features and Target\n",
    "selected_features = [\n",
    "    \"sex\",\n",
    "    \"length\",\n",
    "    \"diameter\",\n",
    "    \"height\",\n",
    "    \"rings\"]\n",
    "\n",
    "selected_targets = [\"whole-weight\"]\n",
    "\n",
    "#Feature Columns\n",
    "sex_vocab_list = [\"M\", \"F\", \"I\"]\n",
    "\n",
    "feature_columns = [\n",
    "    tf.feature_column.indicator_column(tf.feature_column.categorical_column_with_vocabulary_list(\"sex\", sex_vocab_list)),\n",
    "    tf.feature_column.numeric_column(\"length\"),\n",
    "    tf.feature_column.numeric_column(\"diameter\"),\n",
    "    tf.feature_column.numeric_column(\"height\"),\n",
    "    tf.feature_column.numeric_column(\"rings\")\n",
    "]\n",
    "\n",
    "#Create Tensorflow Datasets\n",
    "train_per = 0.6\n",
    "validation_per = 0.3\n",
    "test_per = 0.1\n",
    "batch_size = 32\n",
    "\n",
    "train_dataframe, test_dataframe = train_test_split(dataframe, test_size=test_per)\n",
    "train_dataframe, validation_dataframe = train_test_split(train_dataframe, test_size=validation_per / (1 - test_per))\n",
    "\n",
    "train_dataset = df_to_ds(\n",
    "    train_dataframe,\n",
    "    selected_features,\n",
    "    selected_targets,\n",
    "    batch_size=batch_size)\n",
    "validation_dataset = df_to_ds(\n",
    "    validation_dataframe,\n",
    "    selected_features,\n",
    "    selected_targets,\n",
    "    batch_size=batch_size)\n",
    "test_dataset = df_to_ds(\n",
    "    test_dataframe,\n",
    "    selected_features,\n",
    "    selected_targets,\n",
    "    batch_size=batch_size)"
   ]
  },
  {
   "cell_type": "markdown",
   "metadata": {},
   "source": [
    "### Create Models"
   ]
  },
  {
   "cell_type": "code",
   "execution_count": 5,
   "metadata": {},
   "outputs": [],
   "source": [
    "linear_model = tf.keras.models.Sequential([\n",
    "    tf.keras.layers.DenseFeatures(feature_columns),\n",
    "    tf.keras.layers.Dense(1)\n",
    "])\n",
    "\n",
    "linear_model.compile(\n",
    "    optimizer=\"adam\",\n",
    "    loss=\"mean_squared_error\")"
   ]
  },
  {
   "cell_type": "code",
   "execution_count": 6,
   "metadata": {},
   "outputs": [],
   "source": [
    "nn_model = tf.keras.models.Sequential([\n",
    "    tf.keras.layers.DenseFeatures(feature_columns),\n",
    "    tf.keras.layers.Dense(10, activation=tf.nn.leaky_relu),\n",
    "    tf.keras.layers.Dense(5, activation=tf.nn.leaky_relu),\n",
    "    tf.keras.layers.Dense(1)\n",
    "])\n",
    "\n",
    "nn_model.compile(\n",
    "    optimizer=\"adam\",\n",
    "    loss=\"mean_squared_error\")"
   ]
  },
  {
   "cell_type": "markdown",
   "metadata": {},
   "source": [
    "### Train Models"
   ]
  },
  {
   "cell_type": "code",
   "execution_count": 7,
   "metadata": {},
   "outputs": [],
   "source": [
    "def plot_loss(model):\n",
    "    plt.ylabel(\"Loss\")\n",
    "    plt.xlabel(\"Epochs\")\n",
    "    plt.tight_layout()\n",
    "    plt.plot(model.history.history[\"loss\"], label=\"loss\")\n",
    "    if(\"val_loss\" in model.history.history.keys()):\n",
    "        plt.plot(model.history.history[\"val_loss\"], label=\"val_loss\")\n",
    "    plt.legend()\n",
    "    plt.show()"
   ]
  },
  {
   "cell_type": "code",
   "execution_count": 8,
   "metadata": {},
   "outputs": [
    {
     "name": "stdout",
     "output_type": "stream",
     "text": [
      "Epoch 1/10\n",
      "WARNING:tensorflow:Layer dense_features is casting an input tensor from dtype float64 to the layer's dtype of float32, which is new behavior in TensorFlow 2.  The layer has dtype float32 because it's dtype defaults to floatx.\n",
      "\n",
      "If you intended to run this layer in float32, you can safely ignore this warning. If in doubt, this warning is likely only an issue if you are porting a TensorFlow 1.X model to TensorFlow 2.\n",
      "\n",
      "To change all layers to have dtype float64 by default, call `tf.keras.backend.set_floatx('float64')`. To change just this layer, pass dtype='float64' to the layer constructor. If you are the author of this layer, you can disable autocasting by passing autocast=False to the base Layer constructor.\n",
      "\n"
     ]
    },
    {
     "name": "stderr",
     "output_type": "stream",
     "text": [
      "WARNING:tensorflow:Layer dense_features is casting an input tensor from dtype float64 to the layer's dtype of float32, which is new behavior in TensorFlow 2.  The layer has dtype float32 because it's dtype defaults to floatx.\n",
      "\n",
      "If you intended to run this layer in float32, you can safely ignore this warning. If in doubt, this warning is likely only an issue if you are porting a TensorFlow 1.X model to TensorFlow 2.\n",
      "\n",
      "To change all layers to have dtype float64 by default, call `tf.keras.backend.set_floatx('float64')`. To change just this layer, pass dtype='float64' to the layer constructor. If you are the author of this layer, you can disable autocasting by passing autocast=False to the base Layer constructor.\n",
      "\n"
     ]
    },
    {
     "name": "stdout",
     "output_type": "stream",
     "text": [
      "79/79 - 2s - loss: 44.0289 - val_loss: 37.5447\n",
      "Epoch 2/10\n",
      "79/79 - 1s - loss: 31.9523 - val_loss: 26.9500\n",
      "Epoch 3/10\n",
      "79/79 - 1s - loss: 22.6496 - val_loss: 18.8847\n",
      "Epoch 4/10\n",
      "79/79 - 2s - loss: 15.6625 - val_loss: 12.9121\n",
      "Epoch 5/10\n",
      "79/79 - 2s - loss: 10.5666 - val_loss: 8.6242\n",
      "Epoch 6/10\n",
      "79/79 - 2s - loss: 6.9694 - val_loss: 5.6487\n",
      "Epoch 7/10\n",
      "79/79 - 2s - loss: 4.5185 - val_loss: 3.6575\n",
      "Epoch 8/10\n",
      "79/79 - 1s - loss: 2.9102 - val_loss: 2.3740\n",
      "Epoch 9/10\n",
      "79/79 - 1s - loss: 1.8941 - val_loss: 1.5765\n",
      "Epoch 10/10\n",
      "79/79 - 1s - loss: 1.2752 - val_loss: 1.0969\n"
     ]
    },
    {
     "data": {
      "image/png": "[encoded data removed]",
      "text/plain": [
       "<Figure size 432x288 with 1 Axes>"
      ]
     },
     "metadata": {
      "needs_background": "light"
     },
     "output_type": "display_data"
    }
   ],
   "source": [
    "linear_model.fit(train_dataset, validation_data=validation_dataset, epochs=10, verbose=2)\n",
    "\n",
    "plot_loss(linear_model)"
   ]
  },
  {
   "cell_type": "code",
   "execution_count": 9,
   "metadata": {
    "scrolled": false
   },
   "outputs": [
    {
     "name": "stdout",
     "output_type": "stream",
     "text": [
      "Epoch 1/20\n",
      "WARNING:tensorflow:Layer dense_features_1 is casting an input tensor from dtype float64 to the layer's dtype of float32, which is new behavior in TensorFlow 2.  The layer has dtype float32 because it's dtype defaults to floatx.\n",
      "\n",
      "If you intended to run this layer in float32, you can safely ignore this warning. If in doubt, this warning is likely only an issue if you are porting a TensorFlow 1.X model to TensorFlow 2.\n",
      "\n",
      "To change all layers to have dtype float64 by default, call `tf.keras.backend.set_floatx('float64')`. To change just this layer, pass dtype='float64' to the layer constructor. If you are the author of this layer, you can disable autocasting by passing autocast=False to the base Layer constructor.\n",
      "\n"
     ]
    },
    {
     "name": "stderr",
     "output_type": "stream",
     "text": [
      "WARNING:tensorflow:Layer dense_features_1 is casting an input tensor from dtype float64 to the layer's dtype of float32, which is new behavior in TensorFlow 2.  The layer has dtype float32 because it's dtype defaults to floatx.\n",
      "\n",
      "If you intended to run this layer in float32, you can safely ignore this warning. If in doubt, this warning is likely only an issue if you are porting a TensorFlow 1.X model to TensorFlow 2.\n",
      "\n",
      "To change all layers to have dtype float64 by default, call `tf.keras.backend.set_floatx('float64')`. To change just this layer, pass dtype='float64' to the layer constructor. If you are the author of this layer, you can disable autocasting by passing autocast=False to the base Layer constructor.\n",
      "\n"
     ]
    },
    {
     "name": "stdout",
     "output_type": "stream",
     "text": [
      "79/79 - 2s - loss: 0.2624 - val_loss: 0.1865\n",
      "Epoch 2/20\n",
      "79/79 - 2s - loss: 0.1613 - val_loss: 0.1774\n",
      "Epoch 3/20\n",
      "79/79 - 2s - loss: 0.1545 - val_loss: 0.1702\n",
      "Epoch 4/20\n",
      "79/79 - 2s - loss: 0.1485 - val_loss: 0.1636\n",
      "Epoch 5/20\n",
      "79/79 - 2s - loss: 0.1430 - val_loss: 0.1574\n",
      "Epoch 6/20\n",
      "79/79 - 1s - loss: 0.1378 - val_loss: 0.1515\n",
      "Epoch 7/20\n",
      "79/79 - 1s - loss: 0.1329 - val_loss: 0.1456\n",
      "Epoch 8/20\n",
      "79/79 - 1s - loss: 0.1277 - val_loss: 0.1382\n",
      "Epoch 9/20\n",
      "79/79 - 1s - loss: 0.1224 - val_loss: 0.1328\n",
      "Epoch 10/20\n",
      "79/79 - 1s - loss: 0.1181 - val_loss: 0.1279\n",
      "Epoch 11/20\n",
      "79/79 - 1s - loss: 0.1139 - val_loss: 0.1230\n",
      "Epoch 12/20\n",
      "79/79 - 1s - loss: 0.1095 - val_loss: 0.1180\n",
      "Epoch 13/20\n",
      "79/79 - 2s - loss: 0.1029 - val_loss: 0.1034\n",
      "Epoch 14/20\n",
      "79/79 - 1s - loss: 0.0915 - val_loss: 0.0955\n",
      "Epoch 15/20\n",
      "79/79 - 2s - loss: 0.0843 - val_loss: 0.0879\n",
      "Epoch 16/20\n",
      "79/79 - 1s - loss: 0.0773 - val_loss: 0.0802\n",
      "Epoch 17/20\n",
      "79/79 - 2s - loss: 0.0697 - val_loss: 0.0715\n",
      "Epoch 18/20\n",
      "79/79 - 2s - loss: 0.0604 - val_loss: 0.0609\n",
      "Epoch 19/20\n",
      "79/79 - 2s - loss: 0.0511 - val_loss: 0.0512\n",
      "Epoch 20/20\n",
      "79/79 - 2s - loss: 0.0442 - val_loss: 0.0451\n"
     ]
    },
    {
     "data": {
      "image/png": "[encoded data removed]",
      "text/plain": [
       "<Figure size 432x288 with 1 Axes>"
      ]
     },
     "metadata": {
      "needs_background": "light"
     },
     "output_type": "display_data"
    }
   ],
   "source": [
    "nn_model.fit(train_dataset, validation_data=validation_dataset,epochs=20, verbose=2)\n",
    "\n",
    "plot_loss(nn_model)"
   ]
  },
  {
   "cell_type": "markdown",
   "metadata": {},
   "source": [
    "### Evaluations"
   ]
  },
  {
   "cell_type": "code",
   "execution_count": 10,
   "metadata": {
    "scrolled": false
   },
   "outputs": [
    {
     "name": "stdout",
     "output_type": "stream",
     "text": [
      "14/14 [==============================] - 0s 24ms/step - loss: 1.1332\n",
      "MSE: 1.1332049369812012 RMSE: 1.0645209894507488\n"
     ]
    }
   ],
   "source": [
    "linear_evaluation = linear_model.evaluate(test_dataset)\n",
    "print(\"MSE:\", linear_evaluation, \"RMSE:\", math.sqrt(linear_evaluation))"
   ]
  },
  {
   "cell_type": "code",
   "execution_count": 11,
   "metadata": {},
   "outputs": [
    {
     "name": "stdout",
     "output_type": "stream",
     "text": [
      "14/14 [==============================] - 0s 15ms/step - loss: 0.0495\n",
      "MSE: 0.04954521730542183 RMSE: 0.22258754975384815\n"
     ]
    }
   ],
   "source": [
    "nn_evaluation = nn_model.evaluate(test_dataset)\n",
    "print(\"MSE:\", nn_evaluation, \"RMSE:\", math.sqrt(nn_evaluation))"
   ]
  },
  {
   "cell_type": "markdown",
   "metadata": {},
   "source": [
    "### Predictions"
   ]
  },
  {
   "cell_type": "code",
   "execution_count": 12,
   "metadata": {},
   "outputs": [],
   "source": [
    "labels = test_dataframe[selected_targets].reset_index(drop=True)"
   ]
  },
  {
   "cell_type": "code",
   "execution_count": 13,
   "metadata": {},
   "outputs": [
    {
     "data": {
      "text/html": [
       "<div>\n",
       "<style scoped>\n",
       "    .dataframe tbody tr th:only-of-type {\n",
       "        vertical-align: middle;\n",
       "    }\n",
       "\n",
       "    .dataframe tbody tr th {\n",
       "        vertical-align: top;\n",
       "    }\n",
       "\n",
       "    .dataframe thead th {\n",
       "        text-align: right;\n",
       "    }\n",
       "</style>\n",
       "<table border=\"1\" class=\"dataframe\">\n",
       "  <thead>\n",
       "    <tr style=\"text-align: right;\">\n",
       "      <th></th>\n",
       "      <th>predictions</th>\n",
       "      <th>labels</th>\n",
       "      <th>difference</th>\n",
       "    </tr>\n",
       "  </thead>\n",
       "  <tbody>\n",
       "    <tr>\n",
       "      <th>0</th>\n",
       "      <td>0.464819</td>\n",
       "      <td>0.2330</td>\n",
       "      <td>0.231819</td>\n",
       "    </tr>\n",
       "    <tr>\n",
       "      <th>1</th>\n",
       "      <td>0.975187</td>\n",
       "      <td>0.4470</td>\n",
       "      <td>0.528187</td>\n",
       "    </tr>\n",
       "    <tr>\n",
       "      <th>2</th>\n",
       "      <td>-0.061294</td>\n",
       "      <td>0.9700</td>\n",
       "      <td>-1.031294</td>\n",
       "    </tr>\n",
       "    <tr>\n",
       "      <th>3</th>\n",
       "      <td>0.907480</td>\n",
       "      <td>0.6245</td>\n",
       "      <td>0.282980</td>\n",
       "    </tr>\n",
       "    <tr>\n",
       "      <th>4</th>\n",
       "      <td>-0.321871</td>\n",
       "      <td>1.3025</td>\n",
       "      <td>-1.624371</td>\n",
       "    </tr>\n",
       "    <tr>\n",
       "      <th>...</th>\n",
       "      <td>...</td>\n",
       "      <td>...</td>\n",
       "      <td>...</td>\n",
       "    </tr>\n",
       "    <tr>\n",
       "      <th>413</th>\n",
       "      <td>-0.018007</td>\n",
       "      <td>0.7310</td>\n",
       "      <td>-0.749007</td>\n",
       "    </tr>\n",
       "    <tr>\n",
       "      <th>414</th>\n",
       "      <td>0.237946</td>\n",
       "      <td>0.8440</td>\n",
       "      <td>-0.606054</td>\n",
       "    </tr>\n",
       "    <tr>\n",
       "      <th>415</th>\n",
       "      <td>0.120440</td>\n",
       "      <td>1.0570</td>\n",
       "      <td>-0.936560</td>\n",
       "    </tr>\n",
       "    <tr>\n",
       "      <th>416</th>\n",
       "      <td>-0.051861</td>\n",
       "      <td>0.5150</td>\n",
       "      <td>-0.566861</td>\n",
       "    </tr>\n",
       "    <tr>\n",
       "      <th>417</th>\n",
       "      <td>-0.086335</td>\n",
       "      <td>1.4405</td>\n",
       "      <td>-1.526835</td>\n",
       "    </tr>\n",
       "  </tbody>\n",
       "</table>\n",
       "<p>418 rows × 3 columns</p>\n",
       "</div>"
      ],
      "text/plain": [
       "     predictions  labels  difference\n",
       "0       0.464819  0.2330    0.231819\n",
       "1       0.975187  0.4470    0.528187\n",
       "2      -0.061294  0.9700   -1.031294\n",
       "3       0.907480  0.6245    0.282980\n",
       "4      -0.321871  1.3025   -1.624371\n",
       "..           ...     ...         ...\n",
       "413    -0.018007  0.7310   -0.749007\n",
       "414     0.237946  0.8440   -0.606054\n",
       "415     0.120440  1.0570   -0.936560\n",
       "416    -0.051861  0.5150   -0.566861\n",
       "417    -0.086335  1.4405   -1.526835\n",
       "\n",
       "[418 rows x 3 columns]"
      ]
     },
     "execution_count": 13,
     "metadata": {},
     "output_type": "execute_result"
    }
   ],
   "source": [
    "linear_predictions = pd.DataFrame(linear_model.predict(test_dataset).flatten()).join(labels)\n",
    "linear_predictions.columns = [\"predictions\", \"labels\"]\n",
    "linear_predictions[\"difference\"] = linear_predictions[\"predictions\"] - linear_predictions[\"labels\"]\n",
    "linear_predictions"
   ]
  },
  {
   "cell_type": "code",
   "execution_count": 14,
   "metadata": {},
   "outputs": [
    {
     "data": {
      "text/html": [
       "<div>\n",
       "<style scoped>\n",
       "    .dataframe tbody tr th:only-of-type {\n",
       "        vertical-align: middle;\n",
       "    }\n",
       "\n",
       "    .dataframe tbody tr th {\n",
       "        vertical-align: top;\n",
       "    }\n",
       "\n",
       "    .dataframe thead th {\n",
       "        text-align: right;\n",
       "    }\n",
       "</style>\n",
       "<table border=\"1\" class=\"dataframe\">\n",
       "  <thead>\n",
       "    <tr style=\"text-align: right;\">\n",
       "      <th></th>\n",
       "      <th>predictions</th>\n",
       "      <th>labels</th>\n",
       "      <th>difference</th>\n",
       "    </tr>\n",
       "  </thead>\n",
       "  <tbody>\n",
       "    <tr>\n",
       "      <th>0</th>\n",
       "      <td>0.330716</td>\n",
       "      <td>0.2330</td>\n",
       "      <td>0.097716</td>\n",
       "    </tr>\n",
       "    <tr>\n",
       "      <th>1</th>\n",
       "      <td>0.447027</td>\n",
       "      <td>0.4470</td>\n",
       "      <td>0.000027</td>\n",
       "    </tr>\n",
       "    <tr>\n",
       "      <th>2</th>\n",
       "      <td>1.108455</td>\n",
       "      <td>0.9700</td>\n",
       "      <td>0.138455</td>\n",
       "    </tr>\n",
       "    <tr>\n",
       "      <th>3</th>\n",
       "      <td>0.591132</td>\n",
       "      <td>0.6245</td>\n",
       "      <td>-0.033368</td>\n",
       "    </tr>\n",
       "    <tr>\n",
       "      <th>4</th>\n",
       "      <td>1.139032</td>\n",
       "      <td>1.3025</td>\n",
       "      <td>-0.163468</td>\n",
       "    </tr>\n",
       "    <tr>\n",
       "      <th>...</th>\n",
       "      <td>...</td>\n",
       "      <td>...</td>\n",
       "      <td>...</td>\n",
       "    </tr>\n",
       "    <tr>\n",
       "      <th>413</th>\n",
       "      <td>0.910211</td>\n",
       "      <td>0.7310</td>\n",
       "      <td>0.179211</td>\n",
       "    </tr>\n",
       "    <tr>\n",
       "      <th>414</th>\n",
       "      <td>0.995969</td>\n",
       "      <td>0.8440</td>\n",
       "      <td>0.151969</td>\n",
       "    </tr>\n",
       "    <tr>\n",
       "      <th>415</th>\n",
       "      <td>0.914084</td>\n",
       "      <td>1.0570</td>\n",
       "      <td>-0.142916</td>\n",
       "    </tr>\n",
       "    <tr>\n",
       "      <th>416</th>\n",
       "      <td>0.741247</td>\n",
       "      <td>0.5150</td>\n",
       "      <td>0.226247</td>\n",
       "    </tr>\n",
       "    <tr>\n",
       "      <th>417</th>\n",
       "      <td>1.341733</td>\n",
       "      <td>1.4405</td>\n",
       "      <td>-0.098767</td>\n",
       "    </tr>\n",
       "  </tbody>\n",
       "</table>\n",
       "<p>418 rows × 3 columns</p>\n",
       "</div>"
      ],
      "text/plain": [
       "     predictions  labels  difference\n",
       "0       0.330716  0.2330    0.097716\n",
       "1       0.447027  0.4470    0.000027\n",
       "2       1.108455  0.9700    0.138455\n",
       "3       0.591132  0.6245   -0.033368\n",
       "4       1.139032  1.3025   -0.163468\n",
       "..           ...     ...         ...\n",
       "413     0.910211  0.7310    0.179211\n",
       "414     0.995969  0.8440    0.151969\n",
       "415     0.914084  1.0570   -0.142916\n",
       "416     0.741247  0.5150    0.226247\n",
       "417     1.341733  1.4405   -0.098767\n",
       "\n",
       "[418 rows x 3 columns]"
      ]
     },
     "execution_count": 14,
     "metadata": {},
     "output_type": "execute_result"
    }
   ],
   "source": [
    "nn_predictions = pd.DataFrame(nn_model.predict(test_dataset).flatten()).join(labels)\n",
    "nn_predictions.columns = [\"predictions\", \"labels\"]\n",
    "nn_predictions[\"difference\"] = nn_predictions[\"predictions\"] - nn_predictions[\"labels\"]\n",
    "nn_predictions"
   ]
  },
  {
   "cell_type": "markdown",
   "metadata": {},
   "source": [
    "### Backend"
   ]
  },
  {
   "cell_type": "markdown",
   "metadata": {},
   "source": [
    "#### Linear"
   ]
  },
  {
   "cell_type": "code",
   "execution_count": 15,
   "metadata": {
    "scrolled": true
   },
   "outputs": [
    {
     "name": "stdout",
     "output_type": "stream",
     "text": [
      "Model: \"sequential\"\n",
      "_________________________________________________________________\n",
      "Layer (type)                 Output Shape              Param #   \n",
      "=================================================================\n",
      "dense_features (DenseFeature multiple                  0         \n",
      "_________________________________________________________________\n",
      "dense (Dense)                multiple                  8         \n",
      "=================================================================\n",
      "Total params: 8\n",
      "Trainable params: 8\n",
      "Non-trainable params: 0\n",
      "_________________________________________________________________\n"
     ]
    }
   ],
   "source": [
    "linear_model.summary()"
   ]
  },
  {
   "cell_type": "code",
   "execution_count": 16,
   "metadata": {},
   "outputs": [
    {
     "data": {
      "text/plain": [
       "{'verbose': 0, 'epochs': 1, 'steps': 14}"
      ]
     },
     "execution_count": 16,
     "metadata": {},
     "output_type": "execute_result"
    }
   ],
   "source": [
    "linear_model.history.params"
   ]
  },
  {
   "cell_type": "code",
   "execution_count": 17,
   "metadata": {},
   "outputs": [
    {
     "name": "stdout",
     "output_type": "stream",
     "text": [
      "[]\n",
      "[array([[ 0.19913013],\n",
      "       [ 1.3394881 ],\n",
      "       [ 0.32746294],\n",
      "       [-0.1132816 ],\n",
      "       [ 0.23246096],\n",
      "       [ 0.3145707 ],\n",
      "       [ 0.9460177 ]], dtype=float32), array([0.46742728], dtype=float32)]\n"
     ]
    }
   ],
   "source": [
    "for layer in linear_model.layers:\n",
    "    print(layer.get_weights())"
   ]
  },
  {
   "cell_type": "markdown",
   "metadata": {},
   "source": [
    "#### Neural Network"
   ]
  },
  {
   "cell_type": "code",
   "execution_count": 18,
   "metadata": {
    "scrolled": true
   },
   "outputs": [
    {
     "name": "stdout",
     "output_type": "stream",
     "text": [
      "Model: \"sequential_1\"\n",
      "_________________________________________________________________\n",
      "Layer (type)                 Output Shape              Param #   \n",
      "=================================================================\n",
      "dense_features_1 (DenseFeatu multiple                  0         \n",
      "_________________________________________________________________\n",
      "dense_1 (Dense)              multiple                  80        \n",
      "_________________________________________________________________\n",
      "dense_2 (Dense)              multiple                  55        \n",
      "_________________________________________________________________\n",
      "dense_3 (Dense)              multiple                  6         \n",
      "=================================================================\n",
      "Total params: 141\n",
      "Trainable params: 141\n",
      "Non-trainable params: 0\n",
      "_________________________________________________________________\n"
     ]
    }
   ],
   "source": [
    "nn_model.summary()"
   ]
  },
  {
   "cell_type": "code",
   "execution_count": 19,
   "metadata": {},
   "outputs": [
    {
     "data": {
      "text/plain": [
       "{'verbose': 0, 'epochs': 1, 'steps': 14}"
      ]
     },
     "execution_count": 19,
     "metadata": {},
     "output_type": "execute_result"
    }
   ],
   "source": [
    "nn_model.history.params"
   ]
  },
  {
   "cell_type": "code",
   "execution_count": 20,
   "metadata": {
    "scrolled": false
   },
   "outputs": [
    {
     "name": "stdout",
     "output_type": "stream",
     "text": [
      "[]\n",
      "[array([[ 1.05460441e+00,  7.65016317e-01, -1.27260447e-01,\n",
      "        -7.47723281e-01,  1.61135364e+00,  1.27503264e+00,\n",
      "         5.89039803e-01, -1.88125908e-01, -6.05791271e-01,\n",
      "        -8.85510683e-01],\n",
      "       [ 3.49389315e-01,  5.59943378e-01, -8.89693260e-01,\n",
      "        -6.48025155e-01,  1.58312273e+00,  1.16633308e+00,\n",
      "         9.31029320e-01, -3.76970828e-01, -7.20847845e-01,\n",
      "        -1.40687034e-01],\n",
      "       [ 3.10932279e-01,  1.54645488e-01, -9.08316493e-01,\n",
      "         1.54791206e-01,  6.92883909e-01,  1.14552438e+00,\n",
      "         2.86846638e-01,  3.62262160e-01, -2.27170618e-04,\n",
      "        -3.40597004e-01],\n",
      "       [ 3.46952409e-01,  5.94493235e-03,  2.11266428e-02,\n",
      "         3.79292518e-02, -4.26656008e-02,  1.27538040e-01,\n",
      "         4.66113210e-01,  5.01997173e-01, -1.64949670e-01,\n",
      "         5.10029852e-01],\n",
      "       [-3.23886275e-01,  1.85021594e-01, -1.55289710e-01,\n",
      "         6.57139599e-01, -1.77295685e-01,  2.02323087e-02,\n",
      "        -2.75399178e-01,  2.69943118e-01, -5.76741338e-01,\n",
      "        -3.75477582e-01],\n",
      "       [ 7.74312735e-01, -3.47686470e-01, -7.00717926e-01,\n",
      "         2.68171519e-01, -1.33270755e-01, -1.38245635e-02,\n",
      "         4.18077677e-01,  3.95119548e-01,  3.78717571e-01,\n",
      "         1.32995933e-01],\n",
      "       [-7.65740693e-01, -9.31301527e-03,  4.24148053e-01,\n",
      "        -3.62028927e-02, -4.51489866e-01,  3.29144031e-01,\n",
      "        -1.68488234e-01,  2.88007796e-01,  5.50553918e-01,\n",
      "         1.19889244e-01]], dtype=float32), array([-0.12763074, -0.06814937,  0.12373479,  0.18220761, -0.13123915,\n",
      "       -0.13869451, -0.0622098 ,  0.11837585,  0.05104249,  0.06807123],\n",
      "      dtype=float32)]\n",
      "[array([[ 0.4467764 , -0.08383915, -0.3566332 , -0.34974724, -0.19919391],\n",
      "       [ 0.44913384, -0.69021684,  0.34256786,  0.58242613,  0.60083574],\n",
      "       [-0.7193041 ,  0.9125271 , -0.31308863, -0.24106947,  0.24005459],\n",
      "       [-0.50153905, -0.11434836, -0.65096396,  0.38236558,  0.05951363],\n",
      "       [ 0.5389527 , -0.95504355,  0.79141027,  0.3876492 ,  0.8337577 ],\n",
      "       [ 0.32762116, -0.6323728 , -0.32423314, -0.41639474, -0.42154104],\n",
      "       [ 0.6241974 , -0.27291936, -0.51561785,  0.48748103, -0.14435987],\n",
      "       [-0.22513592, -0.16747615,  0.2207214 , -0.1482843 , -0.5781619 ],\n",
      "       [-0.42466357, -0.02334825, -0.3170426 , -0.51296633,  0.19479932],\n",
      "       [ 0.24915059,  0.5116631 , -0.20210806, -0.24378997, -0.03862139]],\n",
      "      dtype=float32), array([-0.06101098,  0.05288526, -0.05305801, -0.01519335, -0.05211466],\n",
      "      dtype=float32)]\n",
      "[array([[ 0.2391076 ],\n",
      "       [-1.0914836 ],\n",
      "       [ 0.8966119 ],\n",
      "       [ 0.03643364],\n",
      "       [ 0.285397  ]], dtype=float32), array([-0.05385751], dtype=float32)]\n"
     ]
    }
   ],
   "source": [
    "for layer in nn_model.layers:\n",
    "    print(layer.get_weights())"
   ]
  }
 ],
 "metadata": {
  "hide_input": false,
  "kernelspec": {
   "display_name": "Python 3",
   "language": "python",
   "name": "python3"
  },
  "language_info": {
   "codemirror_mode": {
    "name": "ipython",
    "version": 3
   },
   "file_extension": ".py",
   "mimetype": "text/x-python",
   "name": "python",
   "nbconvert_exporter": "python",
   "pygments_lexer": "ipython3",
   "version": "3.8.2"
  },
  "toc": {
   "base_numbering": 1,
   "nav_menu": {
    "height": "171px",
    "width": "179px"
   },
   "number_sections": false,
   "sideBar": true,
   "skip_h1_title": false,
   "title_cell": "Table of Contents",
   "title_sidebar": "Contents",
   "toc_cell": false,
   "toc_position": {
    "height": "758px",
    "left": "81px",
    "top": "110px",
    "width": "293px"
   },
   "toc_section_display": true,
   "toc_window_display": true
  }
 },
 "nbformat": 4,
 "nbformat_minor": 2
}
